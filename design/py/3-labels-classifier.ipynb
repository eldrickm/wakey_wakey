{
 "cells": [
  {
   "cell_type": "markdown",
   "metadata": {},
   "source": [
    "Import the data from Edge Impulse. You can obtain the URL from the Dashboard, right-click on the download icon next to 'Spectral features data' and 'Spectral features labels', and click **Copy link location**."
   ]
  },
  {
   "cell_type": "code",
   "execution_count": 1,
   "metadata": {},
   "outputs": [],
   "source": [
    "import numpy as np\n",
    "import requests\n",
    "\n",
    "API_KEY = 'ei_9eedce842a674656748bf65a19f0e2a80cc867cde21a7810354f75a4fb565a3d'\n",
    "\n",
    "X = (requests.get('https://studio.edgeimpulse.com/v1/api/24007/training/9/x', headers={'x-api-key': API_KEY})).content\n",
    "Y = (requests.get('https://studio.edgeimpulse.com/v1/api/24007/training/9/y', headers={'x-api-key': API_KEY})).content\n",
    "with open('x_train.npy', 'wb') as file:\n",
    "    file.write(X)\n",
    "with open('y_train.npy', 'wb') as file:\n",
    "    file.write(Y)"
   ]
  },
  {
   "cell_type": "markdown",
   "metadata": {},
   "source": [
    "Store the data in a temporary file, and load it back through Numpy."
   ]
  },
  {
   "cell_type": "code",
   "execution_count": 1,
   "metadata": {},
   "outputs": [],
   "source": [
    "X = np.load('x_train.npy')\n",
    "Y = np.load('y_train.npy')[:,0]"
   ]
  },
  {
   "cell_type": "markdown",
   "metadata": {},
   "source": [
    "Define our labels and split the data up in a test and training set:"
   ]
  },
  {
   "cell_type": "code",
   "execution_count": 2,
   "metadata": {},
   "outputs": [],
   "source": [
    "import sys, os, random\n",
    "import tensorflow as tf\n",
    "from sklearn.model_selection import train_test_split\n",
    "\n",
    "import logging\n",
    "tf.get_logger().setLevel(logging.ERROR)\n",
    "os.environ['TF_CPP_MIN_LOG_LEVEL'] = '2'\n",
    "\n",
    "# Set random seeds for repeatable results\n",
    "RANDOM_SEED = 3\n",
    "random.seed(RANDOM_SEED)\n",
    "np.random.seed(RANDOM_SEED)\n",
    "tf.random.set_seed(RANDOM_SEED)\n",
    "\n",
    "classes_values = [ \"noise\", \"unknown\", \"yes\" ]\n",
    "classes = len(classes_values)\n",
    "\n",
    "Y = tf.keras.utils.to_categorical(Y - 1, classes)\n",
    "\n",
    "X_train, X_test, Y_train, Y_test = train_test_split(X, Y, test_size=0.2, random_state=1)\n",
    "\n",
    "input_length = X_train[0].shape[0]\n",
    "\n",
    "train_dataset = tf.data.Dataset.from_tensor_slices((X_train, Y_train))\n",
    "validation_dataset = tf.data.Dataset.from_tensor_slices((X_test, Y_test))\n",
    "\n",
    "def set_batch_size(batch_size, train_dataset, validation_dataset):\n",
    "    train_dataset = train_dataset.batch(batch_size, drop_remainder=True).prefetch(tf.data.experimental.AUTOTUNE)\n",
    "    validation_dataset = validation_dataset.batch(batch_size, drop_remainder=True).prefetch(tf.data.experimental.AUTOTUNE)\n",
    "    return train_dataset, validation_dataset\n",
    "\n",
    "callbacks = []\n"
   ]
  },
  {
   "cell_type": "markdown",
   "metadata": {},
   "source": [
    "Train the model:"
   ]
  },
  {
   "cell_type": "code",
   "execution_count": 3,
   "metadata": {},
   "outputs": [
    {
     "name": "stdout",
     "output_type": "stream",
     "text": [
      "Epoch 1/100\n",
      "90/90 - 2s - loss: 1.0203 - accuracy: 0.5149 - val_loss: 0.7224 - val_accuracy: 0.7159\n",
      "Epoch 2/100\n",
      "90/90 - 0s - loss: 0.6339 - accuracy: 0.7483 - val_loss: 0.4231 - val_accuracy: 0.8324\n",
      "Epoch 3/100\n",
      "90/90 - 0s - loss: 0.4441 - accuracy: 0.8250 - val_loss: 0.3356 - val_accuracy: 0.8807\n",
      "Epoch 4/100\n",
      "90/90 - 0s - loss: 0.3689 - accuracy: 0.8556 - val_loss: 0.2891 - val_accuracy: 0.9034\n",
      "Epoch 5/100\n",
      "90/90 - 0s - loss: 0.3380 - accuracy: 0.8715 - val_loss: 0.2696 - val_accuracy: 0.9148\n",
      "Epoch 6/100\n",
      "90/90 - 0s - loss: 0.3283 - accuracy: 0.8823 - val_loss: 0.2486 - val_accuracy: 0.9219\n",
      "Epoch 7/100\n",
      "90/90 - 0s - loss: 0.2977 - accuracy: 0.8854 - val_loss: 0.2334 - val_accuracy: 0.9304\n",
      "Epoch 8/100\n",
      "90/90 - 0s - loss: 0.2862 - accuracy: 0.8958 - val_loss: 0.2255 - val_accuracy: 0.9318\n",
      "Epoch 9/100\n",
      "90/90 - 0s - loss: 0.2612 - accuracy: 0.9056 - val_loss: 0.2119 - val_accuracy: 0.9318\n",
      "Epoch 10/100\n",
      "90/90 - 0s - loss: 0.2494 - accuracy: 0.9073 - val_loss: 0.2136 - val_accuracy: 0.9318\n",
      "Epoch 11/100\n",
      "90/90 - 0s - loss: 0.2596 - accuracy: 0.9069 - val_loss: 0.2172 - val_accuracy: 0.9304\n",
      "Epoch 12/100\n",
      "90/90 - 0s - loss: 0.2609 - accuracy: 0.9031 - val_loss: 0.2137 - val_accuracy: 0.9233\n",
      "Epoch 13/100\n",
      "90/90 - 0s - loss: 0.2496 - accuracy: 0.9059 - val_loss: 0.2077 - val_accuracy: 0.9332\n",
      "Epoch 14/100\n",
      "90/90 - 0s - loss: 0.2402 - accuracy: 0.9177 - val_loss: 0.2014 - val_accuracy: 0.9332\n",
      "Epoch 15/100\n",
      "90/90 - 0s - loss: 0.2380 - accuracy: 0.9174 - val_loss: 0.2087 - val_accuracy: 0.9361\n",
      "Epoch 16/100\n",
      "90/90 - 0s - loss: 0.2408 - accuracy: 0.9122 - val_loss: 0.2164 - val_accuracy: 0.9261\n",
      "Epoch 17/100\n",
      "90/90 - 0s - loss: 0.2289 - accuracy: 0.9198 - val_loss: 0.2101 - val_accuracy: 0.9205\n",
      "Epoch 18/100\n",
      "90/90 - 0s - loss: 0.2347 - accuracy: 0.9087 - val_loss: 0.2205 - val_accuracy: 0.9247\n",
      "Epoch 19/100\n",
      "90/90 - 0s - loss: 0.2243 - accuracy: 0.9160 - val_loss: 0.2230 - val_accuracy: 0.9134\n",
      "Epoch 20/100\n",
      "90/90 - 0s - loss: 0.2262 - accuracy: 0.9191 - val_loss: 0.2162 - val_accuracy: 0.9219\n",
      "Epoch 21/100\n",
      "90/90 - 0s - loss: 0.2141 - accuracy: 0.9243 - val_loss: 0.2018 - val_accuracy: 0.9332\n",
      "Epoch 22/100\n",
      "90/90 - 0s - loss: 0.2293 - accuracy: 0.9205 - val_loss: 0.1974 - val_accuracy: 0.9332\n",
      "Epoch 23/100\n",
      "90/90 - 0s - loss: 0.2106 - accuracy: 0.9226 - val_loss: 0.2159 - val_accuracy: 0.9276\n",
      "Epoch 24/100\n",
      "90/90 - 0s - loss: 0.2163 - accuracy: 0.9226 - val_loss: 0.1958 - val_accuracy: 0.9304\n",
      "Epoch 25/100\n",
      "90/90 - 0s - loss: 0.2085 - accuracy: 0.9264 - val_loss: 0.2035 - val_accuracy: 0.9347\n",
      "Epoch 26/100\n",
      "90/90 - 0s - loss: 0.2087 - accuracy: 0.9240 - val_loss: 0.2054 - val_accuracy: 0.9332\n",
      "Epoch 27/100\n",
      "90/90 - 0s - loss: 0.2155 - accuracy: 0.9205 - val_loss: 0.2066 - val_accuracy: 0.9304\n",
      "Epoch 28/100\n",
      "90/90 - 0s - loss: 0.1972 - accuracy: 0.9285 - val_loss: 0.2025 - val_accuracy: 0.9219\n",
      "Epoch 29/100\n",
      "90/90 - 0s - loss: 0.2011 - accuracy: 0.9292 - val_loss: 0.2092 - val_accuracy: 0.9219\n",
      "Epoch 30/100\n",
      "90/90 - 0s - loss: 0.1945 - accuracy: 0.9326 - val_loss: 0.2055 - val_accuracy: 0.9233\n",
      "Epoch 31/100\n",
      "90/90 - 0s - loss: 0.2070 - accuracy: 0.9250 - val_loss: 0.2145 - val_accuracy: 0.9205\n",
      "Epoch 32/100\n",
      "90/90 - 0s - loss: 0.2128 - accuracy: 0.9194 - val_loss: 0.1981 - val_accuracy: 0.9332\n",
      "Epoch 33/100\n",
      "90/90 - 0s - loss: 0.2118 - accuracy: 0.9247 - val_loss: 0.2223 - val_accuracy: 0.9162\n",
      "Epoch 34/100\n",
      "90/90 - 0s - loss: 0.2061 - accuracy: 0.9229 - val_loss: 0.2134 - val_accuracy: 0.9261\n",
      "Epoch 35/100\n",
      "90/90 - 0s - loss: 0.2076 - accuracy: 0.9288 - val_loss: 0.2262 - val_accuracy: 0.9276\n",
      "Epoch 36/100\n",
      "90/90 - 0s - loss: 0.1980 - accuracy: 0.9281 - val_loss: 0.2425 - val_accuracy: 0.9205\n",
      "Epoch 37/100\n",
      "90/90 - 0s - loss: 0.2009 - accuracy: 0.9250 - val_loss: 0.2079 - val_accuracy: 0.9261\n",
      "Epoch 38/100\n",
      "90/90 - 0s - loss: 0.2206 - accuracy: 0.9264 - val_loss: 0.2075 - val_accuracy: 0.9375\n",
      "Epoch 39/100\n",
      "90/90 - 0s - loss: 0.2062 - accuracy: 0.9229 - val_loss: 0.2017 - val_accuracy: 0.9332\n",
      "Epoch 40/100\n",
      "90/90 - 0s - loss: 0.1879 - accuracy: 0.9326 - val_loss: 0.2204 - val_accuracy: 0.9247\n",
      "Epoch 41/100\n",
      "90/90 - 0s - loss: 0.1943 - accuracy: 0.9281 - val_loss: 0.2167 - val_accuracy: 0.9247\n",
      "Epoch 42/100\n",
      "90/90 - 0s - loss: 0.1899 - accuracy: 0.9302 - val_loss: 0.2234 - val_accuracy: 0.9247\n",
      "Epoch 43/100\n",
      "90/90 - 0s - loss: 0.1832 - accuracy: 0.9375 - val_loss: 0.2203 - val_accuracy: 0.9261\n",
      "Epoch 44/100\n",
      "90/90 - 0s - loss: 0.1921 - accuracy: 0.9309 - val_loss: 0.2101 - val_accuracy: 0.9148\n",
      "Epoch 45/100\n",
      "90/90 - 0s - loss: 0.2130 - accuracy: 0.9184 - val_loss: 0.2080 - val_accuracy: 0.9247\n",
      "Epoch 46/100\n",
      "90/90 - 0s - loss: 0.1934 - accuracy: 0.9264 - val_loss: 0.2067 - val_accuracy: 0.9247\n",
      "Epoch 47/100\n",
      "90/90 - 0s - loss: 0.2033 - accuracy: 0.9222 - val_loss: 0.1973 - val_accuracy: 0.9247\n",
      "Epoch 48/100\n",
      "90/90 - 0s - loss: 0.1902 - accuracy: 0.9337 - val_loss: 0.2009 - val_accuracy: 0.9276\n",
      "Epoch 49/100\n",
      "90/90 - 0s - loss: 0.1922 - accuracy: 0.9288 - val_loss: 0.1920 - val_accuracy: 0.9403\n",
      "Epoch 50/100\n",
      "90/90 - 0s - loss: 0.1838 - accuracy: 0.9306 - val_loss: 0.1993 - val_accuracy: 0.9446\n",
      "Epoch 51/100\n",
      "90/90 - 0s - loss: 0.2068 - accuracy: 0.9312 - val_loss: 0.2177 - val_accuracy: 0.9219\n",
      "Epoch 52/100\n",
      "90/90 - 0s - loss: 0.2007 - accuracy: 0.9299 - val_loss: 0.2111 - val_accuracy: 0.9276\n",
      "Epoch 53/100\n",
      "90/90 - 0s - loss: 0.2166 - accuracy: 0.9208 - val_loss: 0.2014 - val_accuracy: 0.9304\n",
      "Epoch 54/100\n",
      "90/90 - 0s - loss: 0.2052 - accuracy: 0.9253 - val_loss: 0.1990 - val_accuracy: 0.9375\n",
      "Epoch 55/100\n",
      "90/90 - 1s - loss: 0.1715 - accuracy: 0.9396 - val_loss: 0.1972 - val_accuracy: 0.9276\n",
      "Epoch 56/100\n",
      "90/90 - 0s - loss: 0.1981 - accuracy: 0.9267 - val_loss: 0.2132 - val_accuracy: 0.9261\n",
      "Epoch 57/100\n",
      "90/90 - 0s - loss: 0.1856 - accuracy: 0.9392 - val_loss: 0.2031 - val_accuracy: 0.9361\n",
      "Epoch 58/100\n",
      "90/90 - 0s - loss: 0.1933 - accuracy: 0.9288 - val_loss: 0.2183 - val_accuracy: 0.9205\n",
      "Epoch 59/100\n",
      "90/90 - 0s - loss: 0.1815 - accuracy: 0.9340 - val_loss: 0.2068 - val_accuracy: 0.9205\n",
      "Epoch 60/100\n",
      "90/90 - 0s - loss: 0.1838 - accuracy: 0.9344 - val_loss: 0.2030 - val_accuracy: 0.9290\n",
      "Epoch 61/100\n",
      "90/90 - 0s - loss: 0.1887 - accuracy: 0.9299 - val_loss: 0.1929 - val_accuracy: 0.9361\n",
      "Epoch 62/100\n",
      "90/90 - 0s - loss: 0.1783 - accuracy: 0.9375 - val_loss: 0.2009 - val_accuracy: 0.9347\n",
      "Epoch 63/100\n",
      "90/90 - 0s - loss: 0.1771 - accuracy: 0.9406 - val_loss: 0.1993 - val_accuracy: 0.9432\n",
      "Epoch 64/100\n",
      "90/90 - 0s - loss: 0.1770 - accuracy: 0.9326 - val_loss: 0.2053 - val_accuracy: 0.9375\n",
      "Epoch 65/100\n",
      "90/90 - 0s - loss: 0.1797 - accuracy: 0.9323 - val_loss: 0.2069 - val_accuracy: 0.9361\n",
      "Epoch 66/100\n",
      "90/90 - 0s - loss: 0.1892 - accuracy: 0.9312 - val_loss: 0.2313 - val_accuracy: 0.9190\n",
      "Epoch 67/100\n",
      "90/90 - 0s - loss: 0.1851 - accuracy: 0.9312 - val_loss: 0.2080 - val_accuracy: 0.9261\n",
      "Epoch 68/100\n",
      "90/90 - 0s - loss: 0.1961 - accuracy: 0.9233 - val_loss: 0.2147 - val_accuracy: 0.9233\n",
      "Epoch 69/100\n",
      "90/90 - 0s - loss: 0.1868 - accuracy: 0.9295 - val_loss: 0.2090 - val_accuracy: 0.9290\n",
      "Epoch 70/100\n",
      "90/90 - 0s - loss: 0.1915 - accuracy: 0.9316 - val_loss: 0.2008 - val_accuracy: 0.9347\n",
      "Epoch 71/100\n",
      "90/90 - 0s - loss: 0.1821 - accuracy: 0.9309 - val_loss: 0.2189 - val_accuracy: 0.9261\n",
      "Epoch 72/100\n",
      "90/90 - 0s - loss: 0.1910 - accuracy: 0.9299 - val_loss: 0.2171 - val_accuracy: 0.9290\n",
      "Epoch 73/100\n",
      "90/90 - 0s - loss: 0.1892 - accuracy: 0.9274 - val_loss: 0.2087 - val_accuracy: 0.9261\n",
      "Epoch 74/100\n",
      "90/90 - 0s - loss: 0.1730 - accuracy: 0.9330 - val_loss: 0.2063 - val_accuracy: 0.9318\n",
      "Epoch 75/100\n",
      "90/90 - 0s - loss: 0.1935 - accuracy: 0.9274 - val_loss: 0.2006 - val_accuracy: 0.9332\n",
      "Epoch 76/100\n",
      "90/90 - 0s - loss: 0.1978 - accuracy: 0.9236 - val_loss: 0.2260 - val_accuracy: 0.9176\n",
      "Epoch 77/100\n",
      "90/90 - 0s - loss: 0.1739 - accuracy: 0.9392 - val_loss: 0.1961 - val_accuracy: 0.9403\n",
      "Epoch 78/100\n",
      "90/90 - 0s - loss: 0.1810 - accuracy: 0.9333 - val_loss: 0.2108 - val_accuracy: 0.9332\n",
      "Epoch 79/100\n",
      "90/90 - 0s - loss: 0.1744 - accuracy: 0.9382 - val_loss: 0.2100 - val_accuracy: 0.9276\n",
      "Epoch 80/100\n",
      "90/90 - 0s - loss: 0.1742 - accuracy: 0.9337 - val_loss: 0.2160 - val_accuracy: 0.9261\n",
      "Epoch 81/100\n",
      "90/90 - 0s - loss: 0.1774 - accuracy: 0.9354 - val_loss: 0.2050 - val_accuracy: 0.9332\n",
      "Epoch 82/100\n",
      "90/90 - 0s - loss: 0.1965 - accuracy: 0.9299 - val_loss: 0.1929 - val_accuracy: 0.9276\n",
      "Epoch 83/100\n"
     ]
    },
    {
     "name": "stdout",
     "output_type": "stream",
     "text": [
      "90/90 - 0s - loss: 0.1725 - accuracy: 0.9344 - val_loss: 0.2088 - val_accuracy: 0.9304\n",
      "Epoch 84/100\n",
      "90/90 - 0s - loss: 0.1719 - accuracy: 0.9340 - val_loss: 0.2241 - val_accuracy: 0.9276\n",
      "Epoch 85/100\n",
      "90/90 - 0s - loss: 0.1680 - accuracy: 0.9361 - val_loss: 0.2010 - val_accuracy: 0.9389\n",
      "Epoch 86/100\n",
      "90/90 - 0s - loss: 0.1753 - accuracy: 0.9358 - val_loss: 0.2166 - val_accuracy: 0.9261\n",
      "Epoch 87/100\n",
      "90/90 - 0s - loss: 0.1855 - accuracy: 0.9309 - val_loss: 0.2335 - val_accuracy: 0.9148\n",
      "Epoch 88/100\n",
      "90/90 - 0s - loss: 0.1756 - accuracy: 0.9351 - val_loss: 0.2082 - val_accuracy: 0.9261\n",
      "Epoch 89/100\n",
      "90/90 - 0s - loss: 0.1725 - accuracy: 0.9406 - val_loss: 0.2135 - val_accuracy: 0.9205\n",
      "Epoch 90/100\n",
      "90/90 - 0s - loss: 0.1872 - accuracy: 0.9330 - val_loss: 0.2200 - val_accuracy: 0.9233\n",
      "Epoch 91/100\n",
      "90/90 - 0s - loss: 0.1822 - accuracy: 0.9365 - val_loss: 0.2043 - val_accuracy: 0.9290\n",
      "Epoch 92/100\n",
      "90/90 - 0s - loss: 0.1793 - accuracy: 0.9354 - val_loss: 0.2158 - val_accuracy: 0.9247\n",
      "Epoch 93/100\n",
      "90/90 - 0s - loss: 0.1771 - accuracy: 0.9365 - val_loss: 0.2210 - val_accuracy: 0.9261\n",
      "Epoch 94/100\n",
      "90/90 - 0s - loss: 0.1727 - accuracy: 0.9375 - val_loss: 0.2482 - val_accuracy: 0.9148\n",
      "Epoch 95/100\n",
      "90/90 - 0s - loss: 0.1759 - accuracy: 0.9354 - val_loss: 0.2202 - val_accuracy: 0.9233\n",
      "Epoch 96/100\n",
      "90/90 - 0s - loss: 0.1769 - accuracy: 0.9368 - val_loss: 0.2221 - val_accuracy: 0.9276\n",
      "Epoch 97/100\n",
      "90/90 - 0s - loss: 0.1787 - accuracy: 0.9337 - val_loss: 0.2355 - val_accuracy: 0.9219\n",
      "Epoch 98/100\n",
      "90/90 - 0s - loss: 0.1734 - accuracy: 0.9302 - val_loss: 0.2123 - val_accuracy: 0.9219\n",
      "Epoch 99/100\n",
      "90/90 - 0s - loss: 0.1802 - accuracy: 0.9333 - val_loss: 0.2324 - val_accuracy: 0.9219\n",
      "Epoch 100/100\n",
      "90/90 - 0s - loss: 0.1837 - accuracy: 0.9333 - val_loss: 0.2232 - val_accuracy: 0.9205\n"
     ]
    },
    {
     "data": {
      "text/plain": [
       "<tensorflow.python.keras.callbacks.History at 0x7fc60c469080>"
      ]
     },
     "execution_count": 3,
     "metadata": {},
     "output_type": "execute_result"
    }
   ],
   "source": [
    "import tensorflow as tf\n",
    "from tensorflow.keras.models import Sequential\n",
    "from tensorflow.keras.layers import Dense, InputLayer, Dropout, Conv1D, Conv2D, Flatten, Reshape, MaxPooling1D, MaxPooling2D, BatchNormalization\n",
    "from tensorflow.keras.optimizers import Adam\n",
    "\n",
    "# model architecture\n",
    "model = Sequential()\n",
    "model.add(Reshape((int(input_length / 13), 13), input_shape=(input_length, )))\n",
    "model.add(Conv1D(8, kernel_size=3, activation='relu', padding='same'))\n",
    "model.add(MaxPooling1D(pool_size=2, strides=2, padding='same'))\n",
    "model.add(Dropout(0.25))\n",
    "model.add(Conv1D(16, kernel_size=3, activation='relu', padding='same'))\n",
    "model.add(MaxPooling1D(pool_size=2, strides=2, padding='same'))\n",
    "model.add(Dropout(0.25))\n",
    "model.add(Flatten())\n",
    "model.add(Dense(classes, activation='softmax', name='y_pred'))\n",
    "\n",
    "# this controls the learning rate\n",
    "opt = Adam(lr=0.005, beta_1=0.9, beta_2=0.999)\n",
    "# this controls the batch size, or you can manipulate the tf.data.Dataset objects yourself\n",
    "BATCH_SIZE = 32\n",
    "train_dataset, validation_dataset = set_batch_size(BATCH_SIZE, train_dataset, validation_dataset)\n",
    "\n",
    "# train the neural network\n",
    "model.compile(loss='categorical_crossentropy', optimizer=opt, metrics=['accuracy'])\n",
    "model.fit(train_dataset, epochs=100, validation_data=validation_dataset, verbose=2, callbacks=callbacks)\n"
   ]
  },
  {
   "cell_type": "code",
   "execution_count": 13,
   "metadata": {},
   "outputs": [],
   "source": [
    "# Save the model to disk\n",
    "model.save('saved_model')\n",
    "weights_list = model.get_weights()\n",
    "np.savez('weights_float32.npz', *weights_list)"
   ]
  },
  {
   "cell_type": "code",
   "execution_count": 5,
   "metadata": {},
   "outputs": [
    {
     "name": "stdout",
     "output_type": "stream",
     "text": [
      "Model: \"sequential\"\n",
      "_________________________________________________________________\n",
      "Layer (type)                 Output Shape              Param #   \n",
      "=================================================================\n",
      "reshape (Reshape)            (None, 50, 13)            0         \n",
      "_________________________________________________________________\n",
      "conv1d (Conv1D)              (None, 50, 8)             320       \n",
      "_________________________________________________________________\n",
      "max_pooling1d (MaxPooling1D) (None, 25, 8)             0         \n",
      "_________________________________________________________________\n",
      "dropout (Dropout)            (None, 25, 8)             0         \n",
      "_________________________________________________________________\n",
      "conv1d_1 (Conv1D)            (None, 25, 16)            400       \n",
      "_________________________________________________________________\n",
      "max_pooling1d_1 (MaxPooling1 (None, 13, 16)            0         \n",
      "_________________________________________________________________\n",
      "dropout_1 (Dropout)          (None, 13, 16)            0         \n",
      "_________________________________________________________________\n",
      "flatten (Flatten)            (None, 208)               0         \n",
      "_________________________________________________________________\n",
      "y_pred (Dense)               (None, 3)                 627       \n",
      "=================================================================\n",
      "Total params: 1,347\n",
      "Trainable params: 1,347\n",
      "Non-trainable params: 0\n",
      "_________________________________________________________________\n"
     ]
    }
   ],
   "source": [
    "model.summary()"
   ]
  },
  {
   "cell_type": "code",
   "execution_count": 25,
   "metadata": {},
   "outputs": [
    {
     "name": "stdout",
     "output_type": "stream",
     "text": [
      "(3, 13, 8)\n",
      "(8,)\n",
      "(3, 8, 16)\n",
      "(16,)\n",
      "(208, 3)\n",
      "(3,)\n"
     ]
    }
   ],
   "source": [
    "weights_archive = np.load('weights_float32.npz')\n",
    "weights_list = [weights_archive['arr_{}'.format(i)] for i in range(len(weights_archive))]\n",
    "#weights_list = model.get_weights()\n",
    "for weights in weights_list:\n",
    "    print(weights.shape)\n",
    "conv1_weights = weights_list[0]\n",
    "conv1_biases = weights_list[1]\n",
    "conv2_weights = weights_list[2]\n",
    "conv2_biases = weights_list[3]\n",
    "dense_weights = weights_list[4]\n",
    "dense_biases = weights_list[5]"
   ]
  },
  {
   "cell_type": "code",
   "execution_count": 7,
   "metadata": {},
   "outputs": [
    {
     "name": "stdout",
     "output_type": "stream",
     "text": [
      "(3613, 650)\n"
     ]
    }
   ],
   "source": [
    "print(X.shape)"
   ]
  },
  {
   "cell_type": "code",
   "execution_count": 8,
   "metadata": {},
   "outputs": [],
   "source": [
    "from scipy.special import softmax\n",
    "\n",
    "def relu(x):\n",
    "    return np.maximum(x, 0)\n",
    "\n",
    "def conv1d_single_kernel(x, weights, bias):\n",
    "    '''Perform convolution of a input feature map with a single filter and bias.\n",
    "    \n",
    "    featuremap dims are (time, n_coeffs), so (50, 13)\n",
    "    '''\n",
    "    out = np.zeros(x.shape[0], dtype=np.float32)  # output length is the same\n",
    "    x_pad = np.zeros((x.shape[0]+2, x.shape[1]), dtype=np.float32)\n",
    "    x_pad[1:-1,:] = x  # zero padding\n",
    "    for i in range(x.shape[0]):\n",
    "        section = x_pad[i:i+3,:]\n",
    "        out[i] = relu(np.sum(section * weights) + bias)\n",
    "    return out\n",
    "\n",
    "def conv1d_multi_kernel(x, weights, biases):\n",
    "    n_kernels = weights.shape[2]\n",
    "    out = np.zeros((x.shape[0], n_kernels), dtype=np.float32)\n",
    "    for i in range(n_kernels):\n",
    "        kernel = weights[:,:,i]\n",
    "        out[:,i] = conv1d_single_kernel(x, kernel, biases[i])\n",
    "    return out\n",
    "\n",
    "def max_pool_1d(x):\n",
    "    out = np.zeros((int(np.ceil(x.shape[0] / 2)), x.shape[1]), dtype=np.float32)\n",
    "    for j in range(x.shape[1]):\n",
    "        for i in range(int(np.floor(x.shape[0] / 2))):\n",
    "            out[i, j] = np.maximum(x[2*i, j], x[2*i+1, j])\n",
    "        if (x.shape[0] % 2 == 1):\n",
    "            out[-1, j] = x[-1, j]\n",
    "    return out\n",
    "\n",
    "def dense(x, weights, biases):\n",
    "    x = x.flatten()\n",
    "    out = softmax(np.matmul(x, weights) + biases)\n",
    "    return out\n",
    "\n",
    "def classify(features):\n",
    "    out = np.zeros((features.shape[0], 3), dtype=np.float32)\n",
    "    for i in range(features.shape[0]):\n",
    "        x = features[i]\n",
    "        x = x.reshape((int(x.size / 13), 13))\n",
    "        conv1 = conv1d_multi_kernel(x, conv1_weights, conv1_biases)\n",
    "        max_pool1 = max_pool_1d(conv1)\n",
    "        conv2 = conv1d_multi_kernel(max_pool1, conv2_weights, conv2_biases)\n",
    "        max_pool2 = max_pool_1d(conv2)\n",
    "        dense1 = dense(max_pool2, dense_weights, dense_biases)\n",
    "        out[i] = dense1\n",
    "    return out"
   ]
  },
  {
   "cell_type": "code",
   "execution_count": 9,
   "metadata": {},
   "outputs": [
    {
     "data": {
      "image/png": "[encoded data removed]",
      "text/latex": [
       "$\\displaystyle \\left( 20, \\  3\\right)$"
      ],
      "text/plain": [
       "(20, 3)"
      ]
     },
     "execution_count": 9,
     "metadata": {},
     "output_type": "execute_result"
    }
   ],
   "source": [
    "my_pred = classify(X[:20,:])\n",
    "my_pred.shape"
   ]
  },
  {
   "cell_type": "code",
   "execution_count": 10,
   "metadata": {},
   "outputs": [],
   "source": [
    "#model.predict(X[:4,:])\n",
    "\n",
    "model2 = Sequential()\n",
    "model2.add(Reshape((int(input_length / 13), 13), input_shape=(input_length, )))\n",
    "model2.add(Conv1D(8, kernel_size=3, activation='relu', padding='same'))\n",
    "model2.add(MaxPooling1D(pool_size=2, strides=2, padding='same'))\n",
    "model2.add(Conv1D(16, kernel_size=3, activation='relu', padding='same'))\n",
    "model2.add(MaxPooling1D(pool_size=2, strides=2, padding='same'))\n",
    "model2.add(Flatten())\n",
    "model2.add(Dense(classes, activation='softmax', name='y_pred'))\n",
    "model2.set_weights(weights_list)\n",
    "#model2.summary()\n",
    "keras_pred = model2.predict(X[:20,:])"
   ]
  },
  {
   "cell_type": "code",
   "execution_count": 11,
   "metadata": {},
   "outputs": [
    {
     "data": {
      "text/plain": [
       "array([[ 7.4505806e-09, -5.9604645e-08,  1.8626451e-09],\n",
       "       [ 9.3132257e-10, -5.9604645e-08, -4.4703484e-08],\n",
       "       [-2.4214387e-08,  1.1920929e-07, -1.8917490e-10],\n",
       "       [ 2.6193447e-10, -1.1920929e-07, -5.8207661e-10],\n",
       "       [ 5.9604645e-08, -1.0430813e-07, -1.8626451e-09],\n",
       "       [-6.4028427e-10,  0.0000000e+00,  6.5192580e-09],\n",
       "       [ 1.1641532e-10,  0.0000000e+00,  3.0559022e-10],\n",
       "       [ 6.9849193e-10, -1.1920929e-07,  7.4505806e-09],\n",
       "       [ 1.1937118e-12,  0.0000000e+00,  6.1845640e-11],\n",
       "       [ 9.3132257e-09, -5.9604645e-08,  4.4703484e-08],\n",
       "       [ 5.1222742e-09,  5.9604645e-08,  5.1222742e-09],\n",
       "       [ 1.3969839e-09, -5.9604645e-08,  4.2632564e-13],\n",
       "       [-4.3200998e-12,  5.9604645e-08,  0.0000000e+00],\n",
       "       [-2.2351742e-08,  5.9604645e-08,  2.9802322e-08],\n",
       "       [-1.4901161e-08,  5.9604645e-08, -1.4901161e-07],\n",
       "       [-4.4703484e-08,  0.0000000e+00, -1.5133992e-09],\n",
       "       [-1.4901161e-08,  0.0000000e+00, -4.4703484e-08],\n",
       "       [ 1.6734703e-10,  0.0000000e+00, -3.2596290e-09],\n",
       "       [ 5.2154064e-08,  0.0000000e+00, -4.4703484e-08],\n",
       "       [-5.5879354e-09,  0.0000000e+00, -3.7252903e-09]], dtype=float32)"
      ]
     },
     "execution_count": 11,
     "metadata": {},
     "output_type": "execute_result"
    }
   ],
   "source": [
    "diff = my_pred - keras_pred\n",
    "diff"
   ]
  },
  {
   "cell_type": "code",
   "execution_count": 169,
   "metadata": {},
   "outputs": [
    {
     "data": {
      "text/plain": [
       "<matplotlib.image.AxesImage at 0x7f80218b0b70>"
      ]
     },
     "execution_count": 169,
     "metadata": {},
     "output_type": "execute_result"
    }
   ],
   "source": [
    "import matplotlib.pyplot as plt\n",
    "plt.imshow(diff)"
   ]
  },
  {
   "cell_type": "code",
   "execution_count": null,
   "metadata": {},
   "outputs": [],
   "source": []
  }
 ],
 "metadata": {
  "kernelspec": {
   "display_name": "Python 3",
   "language": "python",
   "name": "python3"
  },
  "language_info": {
   "codemirror_mode": {
    "name": "ipython",
    "version": 3
   },
   "file_extension": ".py",
   "mimetype": "text/x-python",
   "name": "python",
   "nbconvert_exporter": "python",
   "pygments_lexer": "ipython3",
   "version": "3.6.10"
  }
 },
 "nbformat": 4,
 "nbformat_minor": 4
}
