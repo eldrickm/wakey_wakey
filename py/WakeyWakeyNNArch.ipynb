{
  "nbformat": 4,
  "nbformat_minor": 0,
  "metadata": {
    "colab": {
      "name": "WakeyWakeyNNArch.ipynb",
      "provenance": [],
      "collapsed_sections": [
        "2hKjshaHD11m",
        "xg7bfTF1bBVe",
        "haiPVx4ibEra",
        "1jTOL7scbMs7",
        "dDriUNRThyQF"
      ]
    },
    "kernelspec": {
      "name": "python3",
      "display_name": "Python 3"
    },
    "language_info": {
      "name": "python"
    },
    "widgets": {
      "application/vnd.jupyter.widget-state+json": {
        "c98c548bf0b244a19bea2ce61d421bea": {
          "model_module": "@jupyter-widgets/controls",
          "model_name": "HBoxModel",
          "state": {
            "_view_name": "HBoxView",
            "_dom_classes": [],
            "_model_name": "HBoxModel",
            "_view_module": "@jupyter-widgets/controls",
            "_model_module_version": "1.5.0",
            "_view_count": null,
            "_view_module_version": "1.5.0",
            "box_style": "",
            "layout": "IPY_MODEL_4f000045eb0544acb018018b62ef86a0",
            "_model_module": "@jupyter-widgets/controls",
            "children": [
              "IPY_MODEL_f9c3e10e56a94b1389d625be5f2fab45",
              "IPY_MODEL_bc57fadc20b343c08db45ac414e227a4"
            ]
          }
        },
        "4f000045eb0544acb018018b62ef86a0": {
          "model_module": "@jupyter-widgets/base",
          "model_name": "LayoutModel",
          "state": {
            "_view_name": "LayoutView",
            "grid_template_rows": null,
            "right": null,
            "justify_content": null,
            "_view_module": "@jupyter-widgets/base",
            "overflow": null,
            "_model_module_version": "1.2.0",
            "_view_count": null,
            "flex_flow": null,
            "width": null,
            "min_width": null,
            "border": null,
            "align_items": null,
            "bottom": null,
            "_model_module": "@jupyter-widgets/base",
            "top": null,
            "grid_column": null,
            "overflow_y": null,
            "overflow_x": null,
            "grid_auto_flow": null,
            "grid_area": null,
            "grid_template_columns": null,
            "flex": null,
            "_model_name": "LayoutModel",
            "justify_items": null,
            "grid_row": null,
            "max_height": null,
            "align_content": null,
            "visibility": null,
            "align_self": null,
            "height": null,
            "min_height": null,
            "padding": null,
            "grid_auto_rows": null,
            "grid_gap": null,
            "max_width": null,
            "order": null,
            "_view_module_version": "1.2.0",
            "grid_template_areas": null,
            "object_position": null,
            "object_fit": null,
            "grid_auto_columns": null,
            "margin": null,
            "display": null,
            "left": null
          }
        },
        "f9c3e10e56a94b1389d625be5f2fab45": {
          "model_module": "@jupyter-widgets/controls",
          "model_name": "FloatProgressModel",
          "state": {
            "_view_name": "ProgressView",
            "style": "IPY_MODEL_1692f6090fec4faf84c844dac49abd21",
            "_dom_classes": [],
            "description": "100%",
            "_model_name": "FloatProgressModel",
            "bar_style": "success",
            "max": 6036,
            "_view_module": "@jupyter-widgets/controls",
            "_model_module_version": "1.5.0",
            "value": 6036,
            "_view_count": null,
            "_view_module_version": "1.5.0",
            "orientation": "horizontal",
            "min": 0,
            "description_tooltip": null,
            "_model_module": "@jupyter-widgets/controls",
            "layout": "IPY_MODEL_1401ca2ab069455eb3d0ad55e6948f86"
          }
        },
        "bc57fadc20b343c08db45ac414e227a4": {
          "model_module": "@jupyter-widgets/controls",
          "model_name": "HTMLModel",
          "state": {
            "_view_name": "HTMLView",
            "style": "IPY_MODEL_fc84e3c533c04d69bba5ed9fbdc67216",
            "_dom_classes": [],
            "description": "",
            "_model_name": "HTMLModel",
            "placeholder": "​",
            "_view_module": "@jupyter-widgets/controls",
            "_model_module_version": "1.5.0",
            "value": " 6036/6036 [03:07&lt;00:00, 32.15it/s]",
            "_view_count": null,
            "_view_module_version": "1.5.0",
            "description_tooltip": null,
            "_model_module": "@jupyter-widgets/controls",
            "layout": "IPY_MODEL_cf94dfb385334be9a33f1a09b1ad310a"
          }
        },
        "1692f6090fec4faf84c844dac49abd21": {
          "model_module": "@jupyter-widgets/controls",
          "model_name": "ProgressStyleModel",
          "state": {
            "_view_name": "StyleView",
            "_model_name": "ProgressStyleModel",
            "description_width": "initial",
            "_view_module": "@jupyter-widgets/base",
            "_model_module_version": "1.5.0",
            "_view_count": null,
            "_view_module_version": "1.2.0",
            "bar_color": null,
            "_model_module": "@jupyter-widgets/controls"
          }
        },
        "1401ca2ab069455eb3d0ad55e6948f86": {
          "model_module": "@jupyter-widgets/base",
          "model_name": "LayoutModel",
          "state": {
            "_view_name": "LayoutView",
            "grid_template_rows": null,
            "right": null,
            "justify_content": null,
            "_view_module": "@jupyter-widgets/base",
            "overflow": null,
            "_model_module_version": "1.2.0",
            "_view_count": null,
            "flex_flow": null,
            "width": null,
            "min_width": null,
            "border": null,
            "align_items": null,
            "bottom": null,
            "_model_module": "@jupyter-widgets/base",
            "top": null,
            "grid_column": null,
            "overflow_y": null,
            "overflow_x": null,
            "grid_auto_flow": null,
            "grid_area": null,
            "grid_template_columns": null,
            "flex": null,
            "_model_name": "LayoutModel",
            "justify_items": null,
            "grid_row": null,
            "max_height": null,
            "align_content": null,
            "visibility": null,
            "align_self": null,
            "height": null,
            "min_height": null,
            "padding": null,
            "grid_auto_rows": null,
            "grid_gap": null,
            "max_width": null,
            "order": null,
            "_view_module_version": "1.2.0",
            "grid_template_areas": null,
            "object_position": null,
            "object_fit": null,
            "grid_auto_columns": null,
            "margin": null,
            "display": null,
            "left": null
          }
        },
        "fc84e3c533c04d69bba5ed9fbdc67216": {
          "model_module": "@jupyter-widgets/controls",
          "model_name": "DescriptionStyleModel",
          "state": {
            "_view_name": "StyleView",
            "_model_name": "DescriptionStyleModel",
            "description_width": "",
            "_view_module": "@jupyter-widgets/base",
            "_model_module_version": "1.5.0",
            "_view_count": null,
            "_view_module_version": "1.2.0",
            "_model_module": "@jupyter-widgets/controls"
          }
        },
        "cf94dfb385334be9a33f1a09b1ad310a": {
          "model_module": "@jupyter-widgets/base",
          "model_name": "LayoutModel",
          "state": {
            "_view_name": "LayoutView",
            "grid_template_rows": null,
            "right": null,
            "justify_content": null,
            "_view_module": "@jupyter-widgets/base",
            "overflow": null,
            "_model_module_version": "1.2.0",
            "_view_count": null,
            "flex_flow": null,
            "width": null,
            "min_width": null,
            "border": null,
            "align_items": null,
            "bottom": null,
            "_model_module": "@jupyter-widgets/base",
            "top": null,
            "grid_column": null,
            "overflow_y": null,
            "overflow_x": null,
            "grid_auto_flow": null,
            "grid_area": null,
            "grid_template_columns": null,
            "flex": null,
            "_model_name": "LayoutModel",
            "justify_items": null,
            "grid_row": null,
            "max_height": null,
            "align_content": null,
            "visibility": null,
            "align_self": null,
            "height": null,
            "min_height": null,
            "padding": null,
            "grid_auto_rows": null,
            "grid_gap": null,
            "max_width": null,
            "order": null,
            "_view_module_version": "1.2.0",
            "grid_template_areas": null,
            "object_position": null,
            "object_fit": null,
            "grid_auto_columns": null,
            "margin": null,
            "display": null,
            "left": null
          }
        }
      }
    },
    "accelerator": "GPU"
  },
  "cells": [
    {
      "cell_type": "markdown",
      "metadata": {
        "id": "yuhU8wRTOAQW"
      },
      "source": [
        "# Featurization"
      ]
    },
    {
      "cell_type": "markdown",
      "metadata": {
        "id": "iWEcSFPLm18V"
      },
      "source": [
        "When training, make sure to set your runtime type to GPU by going to `Runtime > Change runtime type` and selecting `GPU` from the dropdown."
      ]
    },
    {
      "cell_type": "code",
      "metadata": {
        "colab": {
          "base_uri": "https://localhost:8080/"
        },
        "id": "N_WLB-Rm1xMJ",
        "outputId": "6d0d6e1d-4091-49ea-8b08-6343787d5816"
      },
      "source": [
        "import os\n",
        "# download and unzip keywords dataset\n",
        "os.system('curl -O https://cdn.edgeimpulse.com/datasets/keywords2.zip')\n",
        "os.system('unzip keywords2.zip')"
      ],
      "execution_count": null,
      "outputs": [
        {
          "output_type": "execute_result",
          "data": {
            "text/plain": [
              "0"
            ]
          },
          "metadata": {
            "tags": []
          },
          "execution_count": 1
        }
      ]
    },
    {
      "cell_type": "code",
      "metadata": {
        "colab": {
          "base_uri": "https://localhost:8080/",
          "height": 380,
          "referenced_widgets": [
            "c98c548bf0b244a19bea2ce61d421bea",
            "4f000045eb0544acb018018b62ef86a0",
            "f9c3e10e56a94b1389d625be5f2fab45",
            "bc57fadc20b343c08db45ac414e227a4",
            "1692f6090fec4faf84c844dac49abd21",
            "1401ca2ab069455eb3d0ad55e6948f86",
            "fc84e3c533c04d69bba5ed9fbdc67216",
            "cf94dfb385334be9a33f1a09b1ad310a"
          ]
        },
        "id": "0JyIhhVnzph4",
        "outputId": "6b131155-fcab-40e0-8193-36ffedbc3ecd"
      },
      "source": [
        "#!/usr/bin/env python3\n",
        "\n",
        "\"\"\"\n",
        "ACO (Acoustic Featurization) Software Model\n",
        "\n",
        "This is used to test our custom acoustic featurization pipeline against\n",
        "the speechpy implementation used in EdgeImpulse.\n",
        "\"\"\"\n",
        "!pip install speechpy\n",
        "import os\n",
        "import speechpy\n",
        "import numpy as np\n",
        "from scipy.io import wavfile\n",
        "from scipy.fft import dct\n",
        "from tqdm.auto import tqdm\n",
        "\n",
        "train_test_split = 0.75  # fraction to have as training data\n",
        "\n",
        "# ==================== DFE modelling ====================\n",
        "\n",
        "ratio_in = 250\n",
        "ratio_out = 250\n",
        "\n",
        "def shift_zero_to_one(x):\n",
        "    '''Shift a 16b signed input signal into the range 0-1.'''\n",
        "    x = x.astype(np.float64)\n",
        "    x = x + 2**15\n",
        "    x = x / 2**16\n",
        "    return x\n",
        "\n",
        "def pcm_to_pdm_pwm(x):\n",
        "    '''Pack all ones and zeros together during upsampling when generating PDM\n",
        "    signal, effectively creating PWM. This results in much less high frequency\n",
        "    noise in the signal.'''\n",
        "    x = shift_zero_to_one(x)\n",
        "    # added\n",
        "    x -= 0.5\n",
        "    x /= 13\n",
        "    x += 0.5\n",
        "    # end\n",
        "    x = x * ratio_in  # scale up by window so that value is # ones\n",
        "    x = x.astype(np.uint8)\n",
        "    repeats = np.zeros(x.size * 2, dtype=np.uint8)\n",
        "    repeats[::2] = x\n",
        "    repeats[1::2] = ratio_in - x\n",
        "    one_zero = np.ones(x.size * 2, dtype=np.uint8)\n",
        "    one_zero[1::2] = 0\n",
        "    y = np.repeat(one_zero, repeats)\n",
        "    return y\n",
        "\n",
        "def cic1(x):\n",
        "    '''First cic stage treats datatypes differently.'''\n",
        "    x = x.astype(np.int64)\n",
        "    rolled = np.roll(x, ratio_out)\n",
        "    rolled[:ratio_out] = 0\n",
        "    x = np.cumsum(x) - np.cumsum(rolled)\n",
        "    x = x - int(ratio_out/2)\n",
        "    x = x.astype(np.int8)\n",
        "    # x = x.astype(np.int16)  # if ratio is >= 256, need this to not overflow\n",
        "    return x\n",
        "\n",
        "def cicn(x):\n",
        "    '''Later CIC stages.'''\n",
        "    x = x.astype(np.int64)\n",
        "    rolled = np.roll(x, ratio_out)\n",
        "    rolled[:ratio_out] = 0\n",
        "    x = np.cumsum(x) - np.cumsum(rolled)\n",
        "    x = x / ratio_out\n",
        "    x = x.astype(np.int8)\n",
        "    # x = x.astype(np.int16)  # same here\n",
        "    return x\n",
        "\n",
        "def pcm_to_pdm(x, pdm_gen='err'):\n",
        "    '''Generate the PDM signal for the sample.'''\n",
        "    if pdm_gen == 'pwm':\n",
        "        y = pcm_to_pdm_pwm(x)\n",
        "    elif pdm_gen == 'random':\n",
        "        y = pcm_to_pdm_random(x)\n",
        "    elif pdm_gen == 'err':\n",
        "        y = pcm_to_pdm_err(x)\n",
        "    else:\n",
        "        raise ValueError('{} not known')\n",
        "    return y\n",
        "\n",
        "def pdm_to_pcm(x, n_cic):\n",
        "    x = cic1(x)\n",
        "    #x = cicn(x)\n",
        "    x = x[::ratio_out]\n",
        "    x[0] = 0\n",
        "    return x\n",
        "\n",
        "def dfe_quantized_model(x):\n",
        "    x = shift_zero_to_one(x)\n",
        "    x = x * ratio_out\n",
        "    x = x - (ratio_out / 2)\n",
        "    #x = x * 40\n",
        "    #x = x - 20\n",
        "    x = x.astype(np.int8)\n",
        "    return x\n",
        "\n",
        "def pdm_model(x_orig, model_type='fast'):\n",
        "    '''Main API interface for the pdm model.\n",
        "\n",
        "    x_orig: input 16kHz signal\n",
        "    model_type: type of PDM model\n",
        "        'fast' is fast quantization model and a worst-case distortion scenario\n",
        "        'pwm' is the medium-accuracy model which takes ~100ms per sample\n",
        "    '''\n",
        "    if model_type == 'fast':\n",
        "        return dfe_quantized_model(x_orig)\n",
        "    x_pdm = pcm_to_pdm(x_orig, pdm_gen='pwm')\n",
        "    return pdm_to_pcm(x_pdm, 1)\n",
        "\n",
        "# ==================== ACO modelling ====================\n",
        "\n",
        "maxes = {}\n",
        "def detect_max(arr, name):\n",
        "    '''Detect the maximum bit width at various stages of the pipeline. Does\n",
        "    not include the sign bit for signed numbers.'''\n",
        "    global maxes\n",
        "    absmax = np.abs(arr.astype(np.float64)).max()\n",
        "    absmax = np.max((absmax, 1))  # avoid inf in log\n",
        "    val = np.log2(absmax)  # consider absolute magnitude bits\n",
        "    # print(name, 'bitwidth', val)\n",
        "    if (name not in maxes) or (maxes[name] < val):\n",
        "        maxes[name] = val\n",
        "\n",
        "def print_maxes():\n",
        "    print('Max bit values detected during featurisation:')\n",
        "    for k in maxes:\n",
        "        print('\\t{:20} {}'.format(k, maxes[k]))\n",
        "\n",
        "def gen_dct_coefs():\n",
        "    '''Type 2 dct with 'ortho' norm.\n",
        "    See https://docs.scipy.org/doc/scipy/reference/generated/scipy.fft.dct.html.\n",
        "    '''\n",
        "    DCT_LEN = 32\n",
        "    N_COEFS = 13\n",
        "    coefs = np.zeros((N_COEFS, DCT_LEN))\n",
        "    n = np.arange(DCT_LEN)\n",
        "    for k in range(N_COEFS):\n",
        "        coefs[k,:] = np.cos(np.pi * k * (2*n + 1) / (2 * DCT_LEN))\n",
        "        if k == 0:\n",
        "            coefs[k,:] *= 2 * np.sqrt(1/(4*DCT_LEN))\n",
        "        else:\n",
        "            coefs[k,:] *= 2 * np.sqrt(1/(2*DCT_LEN))\n",
        "    coefs = np.round(coefs * 2**15).astype(np.int16)\n",
        "    return coefs.T\n",
        "\n",
        "dct_coefs = gen_dct_coefs().astype(np.int64)\n",
        "\n",
        "def aco(signal, fft_override=None):\n",
        "    '''Quantized python model of the ACO pipeline.\n",
        "\n",
        "    If fft_override is not None, use the value supplied as the fft output for\n",
        "    the rest of the calculations.'''\n",
        "    fs = 16000\n",
        "    signal = signal.astype(np.int16)  # increase bitwidth for preemphasis\n",
        "    detect_max(signal, 'signal')\n",
        "\n",
        "    # Acoustic Featurization Constants\n",
        "    FS = fs                                 # 16 KHz\n",
        "    PERIOD = 1 / FS                         # 0.0625 ms\n",
        "    SIGNAL_LENGTH = len(signal) * PERIOD    # 1 s\n",
        "    FRAME_LENGTH = .02                      # 0.02 s = 20 ms = 320 samples\n",
        "    NUM_MEL_FILTERS = 32                    # of Mel Scale filterbanks\n",
        "    NUM_CEPSTRAL = 13                       # MFCC Output\n",
        "    FFT_LENGTH = 256                        # FFT Length\n",
        "\n",
        "    # 1) preemphasis\n",
        "    # =========================================================================\n",
        "    # Delay by 1 cycle\n",
        "    rolled_signal = np.roll(signal, 1)\n",
        "    rolled_signal[0] = 0  # zero out initial value\n",
        "\n",
        "    # preemphasis coefficient of 31 / 32 = 0.96875, quantize via right shift\n",
        "    scaled_rolled_signal = np.right_shift(31 * rolled_signal, 5)\n",
        "    detect_max(scaled_rolled_signal, 'scaled_rolled_signal')\n",
        "\n",
        "    preemphasis_out = signal - scaled_rolled_signal\n",
        "    detect_max(preemphasis_out, 'preemphasis_out')\n",
        "\n",
        "    # 2) framing\n",
        "    # =========================================================================\n",
        "    # Get NUM_SAMPLES_IN_FRAME-sized non-overlapping frames, truncate as needed\n",
        "    framing_out = np.split(preemphasis_out, SIGNAL_LENGTH / FRAME_LENGTH)\n",
        "    framing_out = np.asarray(framing_out)\n",
        "    framing_out = framing_out[:, :FFT_LENGTH]\n",
        "\n",
        "    # 3) fft\n",
        "    # TODO: Check 32b quantization, scaling\n",
        "    # =========================================================================\n",
        "    # fft_out = np.fft.rfft(framing_out)\n",
        "    if fft_override is None:\n",
        "        fft_out = np.fft.rfft(framing_out) / 8  # RTL FFT scaled down by 8\n",
        "    else:\n",
        "        fft_out = fft_override\n",
        "\n",
        "    # split into real and imag\n",
        "    fft_out_real = fft_out.real\n",
        "    fft_out_imag = fft_out.imag\n",
        "    detect_max(fft_out_real, 'fft_out_real')\n",
        "    detect_max(fft_out_imag, 'fft_out_imag')\n",
        "\n",
        "    # quantize\n",
        "    fft_out_real = fft_out_real.astype(np.int32)\n",
        "    fft_out_imag = fft_out_imag.astype(np.int32)\n",
        "\n",
        "    # check 32b quantization\n",
        "    assert np.array_equal(fft_out_real, fft_out.real.astype(np.int64))\n",
        "    assert np.array_equal(fft_out_imag, fft_out.imag.astype(np.int64))\n",
        "\n",
        "    # 4) power spectrum\n",
        "    # =========================================================================\n",
        "    # power spectrum = amplitude spectrum ^ 2 = real^2 + complex^2 / FFT_PTS\n",
        "    power_spectrum_out = ((fft_out_real.astype(np.int64) *\n",
        "                           fft_out_real.astype(np.int64)) +\n",
        "                          (fft_out_imag.astype(np.int64) *\n",
        "                           fft_out_imag.astype(np.int64)))\n",
        "    detect_max(power_spectrum_out, 'power_spectrum_out')\n",
        "    # power_spectrum_out = np.right_shift(power_spectrum_out,\n",
        "                                        # int(np.log2(FFT_LENGTH)))\n",
        "\n",
        "\n",
        "    # 5) mel filterbank construction\n",
        "    # =========================================================================\n",
        "    mfcc_filterbank = speechpy.feature.filterbanks(NUM_MEL_FILTERS,\n",
        "                                                   FFT_LENGTH,\n",
        "                                                   FS)[:,:129]\n",
        "\n",
        "    # quantize\n",
        "    mfcc_filterbank = (mfcc_filterbank * (2 ** 16 - 1)).astype(np.uint16)\n",
        "\n",
        "    # 6) mel filterbank application\n",
        "    # =========================================================================\n",
        "    # shift by 16 to cancel initial quantization in step 5)\n",
        "    mfcc_out = np.dot(power_spectrum_out, mfcc_filterbank.T)\n",
        "    mfcc_out = np.right_shift(mfcc_out, 16)\n",
        "    detect_max(mfcc_out, 'mfcc_out')\n",
        "\n",
        "    # 7) log\n",
        "    # =========================================================================\n",
        "    n_frames, n_mfcc = mfcc_out.shape\n",
        "    log_out = np.zeros((n_frames, n_mfcc), dtype=np.uint8)\n",
        "    for i in range(n_frames):\n",
        "        for j in range(n_mfcc):\n",
        "            for k in range(31, -1, -1):\n",
        "                if mfcc_out[i,j] & (1 << k):\n",
        "                    log_out[i,j] = k + 1\n",
        "                    break\n",
        "    detect_max(log_out, 'log_out')\n",
        "\n",
        "    # 8) dct\n",
        "    # TODO: Check 16b quantization\n",
        "    # =========================================================================\n",
        "    # scipy.fft.dct\n",
        "    log_out = log_out.astype(np.int64)\n",
        "    dct_out_raw = np.dot(log_out, dct_coefs).astype(np.int64)\n",
        "    dct_out_raw = np.right_shift(dct_out_raw, 15)\n",
        "\n",
        "    # quantize\n",
        "    dct_out = dct_out_raw.astype(np.int16)\n",
        "    detect_max(dct_out, 'dct_out')\n",
        "\n",
        "    # check 16b quantization\n",
        "    assert np.array_equal(dct_out_raw.astype(np.int64), dct_out)\n",
        "\n",
        "    # 9) quantize to byte\n",
        "    # =========================================================================\n",
        "    quant_out = np.clip(dct_out, -2**7, 2**7-1)\n",
        "\n",
        "    # =========================================================================\n",
        "    # flatten for use in pipeline\n",
        "    out = quant_out.flatten()\n",
        "\n",
        "    # collect intermediate values for RTL verification\n",
        "    sigs = [preemphasis_out, framing_out, fft_out, power_spectrum_out,\n",
        "            mfcc_out, log_out, dct_out, quant_out, out]\n",
        "\n",
        "    return sigs\n",
        "\n",
        "def aco_with_dfe(fullfname):\n",
        "    '''Quantized python model of the ACO pipeline.'''\n",
        "    # Get raw 16b audio data\n",
        "    fs, signal = wavfile.read(fullfname)\n",
        "\n",
        "    # DFE quantization model\n",
        "    signal = pdm_model(signal, model_type='fast')\n",
        "    #print(signal.shape)\n",
        "    #signal = pdm_model(signal, model_type='accurate')\n",
        "    #print(signal.shape)\n",
        "    return aco(signal)[-1]\n",
        "\n",
        "def get_speechpy_features(fullfname):\n",
        "    '''Reads a .wav file and outputs the MFCC features using SpeechPy.'''\n",
        "    # parameters:\n",
        "    p = {'num_mfcc_cof': 13,\n",
        "         'frame_length': 0.02,\n",
        "         'frame_stride': 0.02,\n",
        "         'filter_num': 32,\n",
        "         'fft_length': 256,\n",
        "         'window_size': 101,\n",
        "         'low_frequency': 300,\n",
        "         'preemph_cof': 0.98}\n",
        "    try:\n",
        "        fs, data = wavfile.read(fullfname)\n",
        "    except ValueError:\n",
        "        print('failed to read file {}, continuing'.format(fullfname))\n",
        "        return np.zeros(650)\n",
        "\n",
        "    # generate features\n",
        "    preemphasized = speechpy.processing.preemphasis(data, cof=p['preemph_cof'], shift=1)\n",
        "    mfcc = speechpy.feature.mfcc(preemphasized, fs, frame_length=p['frame_length'],\n",
        "                                  frame_stride=p['frame_stride'], num_cepstral=p['num_mfcc_cof'],\n",
        "                                  num_filters=p['filter_num'], fft_length=p['fft_length'],\n",
        "                                  low_frequency=p['low_frequency'])\n",
        "    #print('mfcc shape', mfcc.shape)\n",
        "    # TODO: Why is the output shape here (49, 13) and not (50, 13)?\n",
        "    # For now just repeat last frame:\n",
        "    mfcc2 = np.zeros((50, 13))\n",
        "    mfcc2[:-1,:] = mfcc\n",
        "    mfcc2[-1,:] = mfcc[-1,:]\n",
        "\n",
        "    mfcc_cmvn = speechpy.processing.cmvnw(mfcc2, win_size=p['window_size'], variance_normalization=True)\n",
        "\n",
        "    flattened = mfcc_cmvn.flatten()\n",
        "    return flattened\n",
        "\n",
        "def get_fnames_group(group):\n",
        "    '''Gets all the filenames (with directories) for a given class.'''\n",
        "    dir = group + '/'\n",
        "    fnames = os.listdir(dir)\n",
        "    fnames = [x for x in fnames if not x.startswith('.')]  # ignore .DS_Store\n",
        "    fullnames = [dir + fname for fname in fnames]\n",
        "    return fullnames\n",
        "\n",
        "def get_fnames_and_labels():\n",
        "    '''Collect a big list of filenames and a big list of labels.'''\n",
        "    all_fnames = []\n",
        "    all_labels = []\n",
        "    for group in ['yes', 'unknown', 'noise']:\n",
        "        fnames = get_fnames_group(group)\n",
        "        label = 1 if group == 'yes' else 2\n",
        "        repeat = 2 if group == 'yes' else 1  # oversample wake word class to balance dataset\n",
        "        for _ in range(repeat):\n",
        "            all_fnames.extend(fnames)\n",
        "            for i in range(len(fnames)):\n",
        "                all_labels.append(label)\n",
        "    all_labels = np.array(all_labels)\n",
        "    return all_fnames, all_labels\n",
        "\n",
        "def get_features_quantized(all_fnames):\n",
        "    '''Get a big list of mfcc features for each wav file.'''\n",
        "    n = len(all_fnames)\n",
        "    # n = 1\n",
        "    print('num samples: ', n)\n",
        "    all_features = np.zeros((0, 13*50))\n",
        "    for i in tqdm(range(n)):\n",
        "        fname = all_fnames[i]\n",
        "        features = aco_with_dfe(fname)\n",
        "        all_features = np.vstack((all_features, features))\n",
        "    print_maxes()\n",
        "    return all_features\n",
        "\n",
        "def shuffle_and_split(all_features, all_labels):\n",
        "    '''First shuffle the data randomly, then split it into test and train.'''\n",
        "    np.random.seed(1)\n",
        "    n = len(all_labels)\n",
        "    idx = np.arange(n, dtype=int)\n",
        "    np.random.shuffle(idx)\n",
        "    features_shuffled = all_features[idx,:]\n",
        "    labels_shuffled = all_labels[idx]\n",
        "\n",
        "    # split the data into train and test sets\n",
        "    split = int(train_test_split * n)\n",
        "    X = features_shuffled[:split,:]\n",
        "    Y = labels_shuffled[:split]\n",
        "    Xtest = features_shuffled[split:,:]\n",
        "    Ytest = labels_shuffled[split:]\n",
        "    return X, Y, Xtest, Ytest\n",
        "\n",
        "def generate_features():\n",
        "    '''Main function for generating MFCC features.'''\n",
        "    all_fnames, all_labels = get_fnames_and_labels()\n",
        "    all_features = get_features_quantized(all_fnames)\n",
        "    return shuffle_and_split(all_features, all_labels)\n",
        "\n",
        "X, Y, Xtest, Ytest = generate_features()"
      ],
      "execution_count": null,
      "outputs": [
        {
          "output_type": "stream",
          "text": [
            "Collecting speechpy\n",
            "  Downloading https://files.pythonhosted.org/packages/8f/12/dbda397a998063d9541d9e149c4f523ed138a48824d20598e37632ba33b1/speechpy-2.4-py2.py3-none-any.whl\n",
            "Requirement already satisfied: scipy in /usr/local/lib/python3.7/dist-packages (from speechpy) (1.4.1)\n",
            "Requirement already satisfied: numpy in /usr/local/lib/python3.7/dist-packages (from speechpy) (1.19.5)\n",
            "Installing collected packages: speechpy\n",
            "Successfully installed speechpy-2.4\n",
            "num samples:  6036\n"
          ],
          "name": "stdout"
        },
        {
          "output_type": "display_data",
          "data": {
            "application/vnd.jupyter.widget-view+json": {
              "model_id": "c98c548bf0b244a19bea2ce61d421bea",
              "version_minor": 0,
              "version_major": 2
            },
            "text/plain": [
              "HBox(children=(FloatProgress(value=0.0, max=6036.0), HTML(value='')))"
            ]
          },
          "metadata": {
            "tags": []
          }
        },
        {
          "output_type": "stream",
          "text": [
            "\n",
            "Max bit values detected during featurisation:\n",
            "\tsignal               6.965784284662087\n",
            "\tscaled_rolled_signal 6.930737337562887\n",
            "\tpreemphasis_out      7.94251450533924\n",
            "\tfft_out_real         10.413798263822736\n",
            "\tfft_out_imag         10.289454809428715\n",
            "\tpower_spectrum_out   20.97661796057677\n",
            "\tmfcc_out             22.303562823169067\n",
            "\tlog_out              4.523561956057013\n",
            "\tdct_out              6.475733430966398\n"
          ],
          "name": "stdout"
        }
      ]
    },
    {
      "cell_type": "code",
      "metadata": {
        "colab": {
          "base_uri": "https://localhost:8080/",
          "height": 545
        },
        "id": "OPi-1yClDQAY",
        "outputId": "9319eec8-36a6-4537-d127-b7c8f2f166a7"
      },
      "source": [
        "import matplotlib.pyplot as plt\n",
        "\n",
        "# plot the dataset balance\n",
        "\n",
        "def plot_dist(labels, title):\n",
        "    plt.figure()\n",
        "    nl = len(np.unique(labels))\n",
        "    freqs = np.zeros(nl)\n",
        "    for label in Y:\n",
        "        freqs[label-1] += 1\n",
        "    plt.bar(np.arange(nl)+1, freqs)\n",
        "    plt.title(title)\n",
        "\n",
        "plot_dist(Y, 'Training dataset balance')\n",
        "plot_dist(Ytest, 'Testing dataset balance')\n",
        "\n",
        "yes_features = X[Y==1,:]\n",
        "unknown_features = X[Y!=1,:]\n",
        "\n",
        "def plot_samples():\n",
        "    # plot some samples\n",
        "    for i in range(5):\n",
        "        plt.figure()\n",
        "        plt.subplot(121)\n",
        "        plt.imshow(yes_features[i,:].reshape(50, 13).T)\n",
        "        plt.title('Yes sample')\n",
        "        plt.subplot(122)\n",
        "        plt.imshow(unknown_features[i,:].reshape(50, 13).T)\n",
        "        plt.title('Unknown sample')\n",
        "  \n",
        "def plot_average_sample():\n",
        "    # plot the average yes and unknown sample\n",
        "    avg_yes = np.zeros(50, 13)\n",
        "    avg_unknown = np.zeros(50, 13)\n",
        "    for i in range(len(yes_features)):\n",
        "        avg_yes += yes_features[i,:].reshape(50, 13)\n",
        "    for i in range(len(unknown_features)):\n",
        "        avg_yes += unknown_features[i,:].reshape(50, 13)\n",
        "    avg_yes / len(yes_features)\n",
        "    avg_unknown / len(unknown_features)\n",
        "    plt.figure()\n",
        "    plt.imshow(avg_yes.T)\n",
        "    plt.title('average yes')\n",
        "    plt.figure()\n",
        "    plt.imshow(avg_unknown.T)\n",
        "    plt.title('average unknown')"
      ],
      "execution_count": null,
      "outputs": [
        {
          "output_type": "display_data",
          "data": {
            "image/png": "[encoded data removed]",
            "text/plain": [
              "<Figure size 432x288 with 1 Axes>"
            ]
          },
          "metadata": {
            "tags": [],
            "needs_background": "light"
          }
        },
        {
          "output_type": "display_data",
          "data": {
            "image/png": "[encoded data removed]",
            "text/plain": [
              "<Figure size 432x288 with 1 Axes>"
            ]
          },
          "metadata": {
            "tags": [],
            "needs_background": "light"
          }
        }
      ]
    },
    {
      "cell_type": "markdown",
      "metadata": {
        "id": "FWPRZ1QgqKMm"
      },
      "source": [
        "# Training"
      ]
    },
    {
      "cell_type": "code",
      "metadata": {
        "id": "hbiiMcdNJI--"
      },
      "source": [
        "import torch\n",
        "import torchvision\n",
        "import torchvision.transforms as transforms\n",
        "import torch.nn as nn\n",
        "import torch.nn.functional as F\n",
        "import torch.optim as optim\n",
        "from torch.utils.data import TensorDataset, DataLoader"
      ],
      "execution_count": null,
      "outputs": []
    },
    {
      "cell_type": "code",
      "metadata": {
        "id": "A3RF5VmcoUMG"
      },
      "source": [
        "if torch.cuda.is_available():\n",
        "    device = torch.device('cuda')\n",
        "else:\n",
        "    device = torch.device('cpu')"
      ],
      "execution_count": null,
      "outputs": []
    },
    {
      "cell_type": "code",
      "metadata": {
        "id": "9fL3F-7Rntog"
      },
      "source": [
        "class Net(nn.Module):\n",
        "    def __init__(self):\n",
        "        super(Net, self).__init__()\n",
        "        self.conv1 = nn.Conv1d(13, 8, 3, padding=1, bias=False)\n",
        "        self.pool = nn.MaxPool1d(2, 2, ceil_mode=True)\n",
        "        self.dropout = nn.Dropout(0.25)\n",
        "        self.conv2 = nn.Conv1d(8, 16, 3, padding=1, bias=False)\n",
        "        self.fc1 = nn.Linear(16 * 13, 2, bias=False)\n",
        "\n",
        "    def forward(self, x: torch.Tensor) -> torch.Tensor:\n",
        "        x = x.reshape((x.shape[0], 50, 13)).transpose(1, 2)\n",
        "        x = self.pool(F.relu(self.conv1(x)))\n",
        "        x = self.dropout(x)\n",
        "        x = self.pool(F.relu(self.conv2(x)))\n",
        "        x = self.dropout(x)\n",
        "        x = x.reshape((x.shape[0], 16*13))\n",
        "        x = self.fc1(x)\n",
        "        return x\n",
        "\n",
        "net = Net().to(device)"
      ],
      "execution_count": null,
      "outputs": []
    },
    {
      "cell_type": "code",
      "metadata": {
        "id": "CzK6ohj5oNCT"
      },
      "source": [
        "batch_size = 32\n",
        "epochs = 500\n",
        "\n",
        "Y_tensor = torch.Tensor(Y-1).type(torch.int64)\n",
        "trainset = TensorDataset(torch.Tensor(X), Y_tensor)\n",
        "trainloader = DataLoader(trainset, batch_size=batch_size)\n",
        "\n",
        "Ytest_tensor = torch.Tensor(Ytest-1).type(torch.int64)\n",
        "testset = TensorDataset(torch.Tensor(Xtest), Ytest_tensor)\n",
        "testloader = DataLoader(testset, batch_size=batch_size)\n",
        "\n",
        "def train(model: nn.Module, dataloader: DataLoader):\n",
        "    model.train()  # turn on dropout layers\n",
        "\n",
        "    criterion = nn.CrossEntropyLoss()\n",
        "    optimizer = optim.SGD(model.parameters(), lr=0.001, momentum=0.9)\n",
        "\n",
        "    for epoch in range(epochs):  # loop over the dataset multiple times\n",
        "\n",
        "        running_loss = 0.0\n",
        "        #for i in range(len(X)):\n",
        "        #    inputs = torch.tensor(X[i,:]).reshape((1, 650))\n",
        "        #    labels = torch.tensor(Y[i] - 1, dtype=torch.int64).reshape(1)\n",
        "        for i, data in enumerate(dataloader, 0):\n",
        "            inputs, labels = data\n",
        "\n",
        "            inputs = inputs.to(device)\n",
        "            labels = labels.to(device)\n",
        "\n",
        "            # zero the parameter gradients\n",
        "            optimizer.zero_grad()\n",
        "\n",
        "            # forward + backward + optimize\n",
        "            outputs = model(inputs)\n",
        "            loss = criterion(outputs, labels)\n",
        "            loss.backward()\n",
        "            optimizer.step()\n",
        "\n",
        "            # print statistics\n",
        "            running_loss += loss.item()\n",
        "            #if i % 2000 == 1999:    # print every 2000 mini-batches\n",
        "        if epoch % 10 == 9:\n",
        "            print('[%d] loss: %.3f' % (epoch + 1, running_loss))\n",
        "\n",
        "    print('Finished Training')\n",
        "\n",
        "def test(model: nn.Module, dataloader: DataLoader, max_samples=None) -> float:\n",
        "    model.eval()  # turn off dropout layers\n",
        "\n",
        "    correct = 0\n",
        "    total = 0\n",
        "    n_inferences = 0\n",
        "\n",
        "    with torch.no_grad():\n",
        "        #for i in range(len(X)):\n",
        "        #    inputs = torch.tensor(X[i,:]).reshape((1, 650))\n",
        "        #    labels = torch.tensor(Y[i]).reshape(1)\n",
        "        for i, data in enumerate(dataloader, 0):\n",
        "            inputs, labels = data\n",
        "\n",
        "            inputs = inputs.to(device)\n",
        "            labels = labels.to(device)\n",
        "\n",
        "            outputs = model(inputs)\n",
        "            _, predicted = torch.max(outputs.data, 1)\n",
        "            total += labels.size(0)\n",
        "            correct += (predicted == labels).sum().item()\n",
        "\n",
        "            if max_samples:\n",
        "                n_inferences += inputs.shape[0]\n",
        "                if n_inferences > max_samples:\n",
        "                    break\n",
        "    \n",
        "    return 100 * correct / total"
      ],
      "execution_count": null,
      "outputs": []
    },
    {
      "cell_type": "code",
      "metadata": {
        "id": "HixhBHaqtmZU",
        "colab": {
          "base_uri": "https://localhost:8080/"
        },
        "outputId": "99d0e190-788f-4224-fc9f-abbcd3dcd1aa"
      },
      "source": [
        "train(net, trainloader)"
      ],
      "execution_count": null,
      "outputs": [
        {
          "output_type": "stream",
          "text": [
            "[10] loss: 36.639\n",
            "[20] loss: 25.661\n",
            "[30] loss: 20.705\n",
            "[40] loss: 19.027\n",
            "[50] loss: 17.947\n",
            "[60] loss: 16.273\n",
            "[70] loss: 16.609\n",
            "[80] loss: 16.153\n",
            "[90] loss: 14.772\n",
            "[100] loss: 14.412\n",
            "[110] loss: 15.826\n",
            "[120] loss: 13.889\n",
            "[130] loss: 14.296\n",
            "[140] loss: 13.814\n",
            "[150] loss: 13.375\n",
            "[160] loss: 13.081\n",
            "[170] loss: 14.026\n",
            "[180] loss: 13.442\n",
            "[190] loss: 13.630\n",
            "[200] loss: 12.766\n",
            "[210] loss: 12.807\n",
            "[220] loss: 12.102\n",
            "[230] loss: 12.885\n",
            "[240] loss: 12.802\n",
            "[250] loss: 13.366\n",
            "[260] loss: 13.208\n",
            "[270] loss: 13.054\n",
            "[280] loss: 12.392\n",
            "[290] loss: 13.162\n",
            "[300] loss: 12.065\n",
            "[310] loss: 11.970\n",
            "[320] loss: 12.921\n",
            "[330] loss: 12.298\n",
            "[340] loss: 13.016\n",
            "[350] loss: 11.462\n",
            "[360] loss: 11.093\n",
            "[370] loss: 11.657\n",
            "[380] loss: 13.664\n",
            "[390] loss: 12.802\n",
            "[400] loss: 10.986\n",
            "[410] loss: 11.115\n",
            "[420] loss: 12.857\n",
            "[430] loss: 12.180\n",
            "[440] loss: 11.684\n",
            "[450] loss: 12.502\n",
            "[460] loss: 11.165\n",
            "[470] loss: 11.583\n",
            "[480] loss: 12.238\n",
            "[490] loss: 11.261\n",
            "[500] loss: 11.497\n",
            "Finished Training\n"
          ],
          "name": "stdout"
        }
      ]
    },
    {
      "cell_type": "code",
      "metadata": {
        "id": "y27_n-djuEdz",
        "colab": {
          "base_uri": "https://localhost:8080/"
        },
        "outputId": "86d19187-d5e3-46f5-a2fa-409cb5cae2e5"
      },
      "source": [
        "score = test(net, trainloader)\n",
        "print('Accuracy of the network on the train data: {}%'.format(score))\n",
        "score = test(net, testloader)\n",
        "print('Accuracy of the network on the test data: {}%'.format(score))"
      ],
      "execution_count": null,
      "outputs": [
        {
          "output_type": "stream",
          "text": [
            "Accuracy of the network on the train data: 98.93969516235917%\n",
            "Accuracy of the network on the test data: 97.2829688535454%\n"
          ],
          "name": "stdout"
        }
      ]
    },
    {
      "cell_type": "code",
      "metadata": {
        "id": "O7l7yQEtNxh5"
      },
      "source": [
        ""
      ],
      "execution_count": null,
      "outputs": []
    },
    {
      "cell_type": "markdown",
      "metadata": {
        "id": "SQZoEjBSveV8"
      },
      "source": [
        "# Part 1: Visualize Weights"
      ]
    },
    {
      "cell_type": "code",
      "metadata": {
        "id": "ZVWbC5YWT-MU"
      },
      "source": [
        "from copy import deepcopy\n",
        "\n",
        "# A convenience function which we use to copy CNNs\n",
        "def copy_model(model: nn.Module) -> nn.Module:\n",
        "    result = deepcopy(model)\n",
        "\n",
        "    # Copy over the extra metadata we've collected which copy.deepcopy doesn't capture\n",
        "    if hasattr(model, 'input_activations'):\n",
        "        result.input_activations = deepcopy(model.input_activations)\n",
        "\n",
        "    for result_layer, original_layer in zip(result.children(), model.children()):\n",
        "        if isinstance(result_layer, nn.Conv1d) or isinstance(result_layer, nn.Linear):\n",
        "            if hasattr(original_layer.weight, 'scale'):\n",
        "                result_layer.weight.scale = deepcopy(original_layer.weight.scale)\n",
        "            if hasattr(original_layer, 'activations'):\n",
        "                result_layer.activations = deepcopy(original_layer.activations)\n",
        "            if hasattr(original_layer, 'output_scale'):\n",
        "                result_layer.output_scale = deepcopy(original_layer.output_scale)\n",
        "\n",
        "    return result"
      ],
      "execution_count": null,
      "outputs": []
    },
    {
      "cell_type": "code",
      "metadata": {
        "id": "5qKRX7ply7I2"
      },
      "source": [
        "import matplotlib.pyplot as plt\n",
        "import numpy as np"
      ],
      "execution_count": null,
      "outputs": []
    },
    {
      "cell_type": "code",
      "metadata": {
        "id": "N2h7zJ8m3GAF",
        "colab": {
          "base_uri": "https://localhost:8080/",
          "height": 864
        },
        "outputId": "1e197d39-6faf-4269-91f9-642b5e599c07"
      },
      "source": [
        "# ADD YOUR CODE HERE to plot distributions of weights\n",
        "\n",
        "# You can get a flattened vector of the weights of fc1 like this:\n",
        "#   fc1_weights = net.fc1.weight.data.cpu().view(-1)\n",
        "# Try plotting a histogram of fc1_weights (and the weights of all the other layers as well)\n",
        "\n",
        "def show_weight_dist(layer, title):\n",
        "  weights = layer.weight.data.cpu().view(-1)\n",
        "  plt.figure()\n",
        "  plt.hist(weights, 100)\n",
        "  plt.title(title)\n",
        "  min = weights.min()\n",
        "  max = weights.max()\n",
        "  mean = weights.mean()\n",
        "  std = weights.std()\n",
        "  plt.axvline(mean - 3*std)\n",
        "  plt.axvline(mean + 3*std)\n",
        "  print('{} min {:.03f}, max {:.03f}, mean'.format(title, min, max) +\n",
        "         ' {:.03f}, 3-sigma ({:.03f}, {:.03f})'.format(mean, mean - 3*std, mean + 3*std) +\n",
        "         ', max-min {:.03f}, 3-sigma range {:.03f}'.format(max - min, 6*std))\n",
        "\n",
        "show_weight_dist(net.conv1, 'conv1')\n",
        "show_weight_dist(net.conv2, 'conv2')\n",
        "show_weight_dist(net.fc1, 'fc1')\n",
        "\n",
        "# fc3 has a 3-sigma range that is greater than the max-min, would want to use\n",
        "# max-min as the range and not the 3-sigma one"
      ],
      "execution_count": null,
      "outputs": [
        {
          "output_type": "stream",
          "text": [
            "conv1 min -0.832, max 0.702, mean -0.010, 3-sigma (-0.858, 0.838), max-min 1.535, 3-sigma range 1.696\n",
            "conv2 min -0.547, max 0.534, mean -0.054, 3-sigma (-0.588, 0.479), max-min 1.081, 3-sigma range 1.067\n",
            "fc1 min -0.349, max 0.462, mean -0.000, 3-sigma (-0.399, 0.398), max-min 0.811, 3-sigma range 0.797\n"
          ],
          "name": "stdout"
        },
        {
          "output_type": "display_data",
          "data": {
            "image/png": "[encoded data removed]",
            "text/plain": [
              "<Figure size 432x288 with 1 Axes>"
            ]
          },
          "metadata": {
            "tags": [],
            "needs_background": "light"
          }
        },
        {
          "output_type": "display_data",
          "data": {
            "image/png": "[encoded data removed]",
            "text/plain": [
              "<Figure size 432x288 with 1 Axes>"
            ]
          },
          "metadata": {
            "tags": [],
            "needs_background": "light"
          }
        },
        {
          "output_type": "display_data",
          "data": {
            "image/png": "[encoded data removed]",
            "text/plain": [
              "<Figure size 432x288 with 1 Axes>"
            ]
          },
          "metadata": {
            "tags": [],
            "needs_background": "light"
          }
        }
      ]
    },
    {
      "cell_type": "markdown",
      "metadata": {
        "id": "2hKjshaHD11m"
      },
      "source": [
        "# Part 2: Quantize Weights"
      ]
    },
    {
      "cell_type": "code",
      "metadata": {
        "id": "qXNk1fXuPGjB"
      },
      "source": [
        "net_q2 = copy_model(net)"
      ],
      "execution_count": null,
      "outputs": []
    },
    {
      "cell_type": "code",
      "metadata": {
        "id": "GIBrqSFrVi5x"
      },
      "source": [
        "from typing import Tuple\n",
        "\n",
        "def quantized_weights(weights: torch.Tensor) -> Tuple[torch.Tensor, float]:\n",
        "    '''\n",
        "    Quantize the weights so that all values are integers between -128 and 127.\n",
        "    You may want to use the total range, 3-sigma range, or some other range when\n",
        "    deciding just what factors to scale the float32 values by.\n",
        "\n",
        "    Parameters:\n",
        "    weights (Tensor): The unquantized weights\n",
        "\n",
        "    Returns:\n",
        "    (Tensor, float): A tuple with the following elements:\n",
        "                        * The weights in quantized form, where every value is an integer between -128 and 127.\n",
        "                          The \"dtype\" will still be \"float\", but the values themselves should all be integers.\n",
        "                        * The scaling factor that your weights were multiplied by.\n",
        "                          This value does not need to be an 8-bit integer.\n",
        "    '''\n",
        "\n",
        "    # ADD YOUR CODE HERE\n",
        "    # std = weights.std()\n",
        "    absmax = weights.abs().max()\n",
        "    # scale = 127 / (3 * std)  # 3-sigma\n",
        "    scale = 127 / absmax\n",
        "    result = (weights * scale).round()\n",
        "    #return torch.clamp(result, min=-128, max=127), scale\n",
        "    return result, scale"
      ],
      "execution_count": null,
      "outputs": []
    },
    {
      "cell_type": "code",
      "metadata": {
        "id": "orOwTnXxU1nb"
      },
      "source": [
        "def quantize_layer_weights(model: nn.Module):\n",
        "    for layer in model.children():\n",
        "        if isinstance(layer, nn.Conv1d) or isinstance(layer, nn.Linear):\n",
        "            q_layer_data, scale = quantized_weights(layer.weight.cpu().data)\n",
        "            q_layer_data = q_layer_data.to(device)\n",
        "\n",
        "            layer.weight.data = q_layer_data\n",
        "            layer.weight.scale = scale\n",
        "\n",
        "            if (q_layer_data < -128).any() or (q_layer_data > 127).any():\n",
        "                raise Exception(\"Quantized weights of {} layer include values out of bounds for an 8-bit signed integer\".format(layer.__class__.__name__))\n",
        "            if (q_layer_data != q_layer_data.round()).any():\n",
        "                raise Exception(\"Quantized weights of {} layer include non-integer values\".format(layer.__class__.__name__))\n",
        "\n",
        "quantize_layer_weights(net_q2)"
      ],
      "execution_count": null,
      "outputs": []
    },
    {
      "cell_type": "code",
      "metadata": {
        "id": "wE3HqeBKVoYR",
        "colab": {
          "base_uri": "https://localhost:8080/"
        },
        "outputId": "417f6221-caeb-4a2c-e936-ab02f87f38f5"
      },
      "source": [
        "score = test(net_q2, trainloader)\n",
        "print('Accuracy of the network after quantizing all weights (train): {}%'.format(score))\n",
        "score = test(net_q2, testloader)\n",
        "print('Accuracy of the network after quantizing all weights (test): {}%'.format(score))"
      ],
      "execution_count": null,
      "outputs": [
        {
          "output_type": "stream",
          "text": [
            "Accuracy of the network after quantizing all weights (train): 99.00596421471172%\n",
            "Accuracy of the network after quantizing all weights (test): 96.48774022531478%\n"
          ],
          "name": "stdout"
        }
      ]
    },
    {
      "cell_type": "code",
      "metadata": {
        "id": "EsXmu8AZg41F",
        "colab": {
          "base_uri": "https://localhost:8080/"
        },
        "outputId": "dea72609-30aa-452d-fc49-339a1ae06a95"
      },
      "source": [
        "net_q2.conv1.weight.data.cpu().numpy().min()"
      ],
      "execution_count": null,
      "outputs": [
        {
          "output_type": "execute_result",
          "data": {
            "text/plain": [
              "-127.0"
            ]
          },
          "metadata": {
            "tags": []
          },
          "execution_count": 17
        }
      ]
    },
    {
      "cell_type": "markdown",
      "metadata": {
        "id": "xg7bfTF1bBVe"
      },
      "source": [
        "# Part 3: Visualize Activations"
      ]
    },
    {
      "cell_type": "code",
      "metadata": {
        "id": "HP587b0QYxe9"
      },
      "source": [
        "def register_activation_profiling_hooks(model: Net):\n",
        "    model.input_activations = np.empty(0)\n",
        "    model.conv1.activations = np.empty(0)\n",
        "    model.conv2.activations = np.empty(0)\n",
        "    model.fc1.activations = np.empty(0)\n",
        "\n",
        "    model.profile_activations = True\n",
        "\n",
        "    def conv1_activations_hook(layer, x, y):\n",
        "        if model.profile_activations:\n",
        "            model.input_activations = np.append(model.input_activations, x[0].cpu().flatten())\n",
        "    model.conv1.register_forward_hook(conv1_activations_hook)\n",
        "\n",
        "    def conv2_activations_hook(layer, x, y):\n",
        "        if model.profile_activations:\n",
        "            model.conv1.activations = np.append(model.conv1.activations, x[0].cpu().flatten())\n",
        "    model.conv2.register_forward_hook(conv2_activations_hook)\n",
        "\n",
        "    def fc1_activations_hook(layer, x, y):\n",
        "        if model.profile_activations:\n",
        "            model.conv2.activations = np.append(model.conv2.activations, x[0].cpu().flatten())\n",
        "            model.fc1.activations = np.append(model.fc1.activations, y[0].cpu().flatten())\n",
        "    model.fc1.register_forward_hook(fc1_activations_hook)"
      ],
      "execution_count": null,
      "outputs": []
    },
    {
      "cell_type": "code",
      "metadata": {
        "id": "PVvPCIoabLC7"
      },
      "source": [
        "net_q3 = copy_model(net)\n",
        "register_activation_profiling_hooks(net_q3)\n",
        "\n",
        "# Run through the training dataset again while profiling the input and output activations this time\n",
        "# We don't actually have to perform gradient descent for this, so we can use the \"test\" function\n",
        "test(net_q3, trainloader, max_samples=400)\n",
        "net_q3.profile_activations = False"
      ],
      "execution_count": null,
      "outputs": []
    },
    {
      "cell_type": "code",
      "metadata": {
        "id": "m1HnYsuAMoxP"
      },
      "source": [
        "input_activations = net_q3.input_activations\n",
        "conv1_output_activations = net_q3.conv1.activations\n",
        "conv2_output_activations = net_q3.conv2.activations\n",
        "fc1_output_activations = net_q3.fc1.activations"
      ],
      "execution_count": null,
      "outputs": []
    },
    {
      "cell_type": "code",
      "metadata": {
        "id": "AEo8VK46bwjn",
        "colab": {
          "base_uri": "https://localhost:8080/",
          "height": 1000
        },
        "outputId": "0e840248-d5d2-439e-8229-b0c998a7ca93"
      },
      "source": [
        "# ADD YOUR CODE HERE to plot distributions of activations\n",
        "\n",
        "def show_weight_dist(data, title):\n",
        "    plt.figure()\n",
        "    plt.hist(data, 100)\n",
        "    plt.title(title)\n",
        "    min = data.min()\n",
        "    max = data.max()\n",
        "    mean = data.mean()\n",
        "    std = data.std()\n",
        "    #plt.axvline(mean - 3*std)\n",
        "    plt.axvline(mean + 3*std)\n",
        "    print('{} min {:.03f}, max {:.03f}, mean'.format(title, min, max) +\n",
        "          ' {:.03f}, 3-sigma ({:.03f}, {:.03f})'.format(mean, mean - 3*std, mean + 3*std) +\n",
        "          ', max-min {:.03f}, 3-sigma range {:.03f}'.format(max - min, 6*std))\n",
        "\n",
        "show_weight_dist(input_activations, 'input')\n",
        "show_weight_dist(conv1_output_activations, 'conv1')\n",
        "show_weight_dist(conv2_output_activations, 'conv2')\n",
        "show_weight_dist(fc1_output_activations, 'fc1')\n",
        "\n",
        "# Plot histograms of the following variables, and calculate their ranges and 3-sigma ranges:\n",
        "#   input_activations\n",
        "#   conv1_output_activations\n",
        "#   conv2_output_activations\n",
        "#   fc1_output_activations\n"
      ],
      "execution_count": null,
      "outputs": [
        {
          "output_type": "stream",
          "text": [
            "input min -37.000, max 84.000, mean 0.581, 3-sigma (-18.029, 19.191), max-min 121.000, 3-sigma range 37.220\n",
            "conv1 min 0.000, max 33.561, mean 0.807, 3-sigma (-6.368, 7.982), max-min 33.561, 3-sigma range 14.350\n",
            "conv2 min 0.000, max 11.266, mean 0.286, 3-sigma (-2.155, 2.726), max-min 11.266, 3-sigma range 4.881\n",
            "fc1 min -9.988, max 10.468, mean -0.021, 3-sigma (-13.897, 13.855), max-min 20.456, 3-sigma range 27.752\n"
          ],
          "name": "stdout"
        },
        {
          "output_type": "display_data",
          "data": {
            "image/png": "[encoded data removed]",
            "text/plain": [
              "<Figure size 432x288 with 1 Axes>"
            ]
          },
          "metadata": {
            "tags": [],
            "needs_background": "light"
          }
        },
        {
          "output_type": "display_data",
          "data": {
            "image/png": "[encoded data removed]",
            "text/plain": [
              "<Figure size 432x288 with 1 Axes>"
            ]
          },
          "metadata": {
            "tags": [],
            "needs_background": "light"
          }
        },
        {
          "output_type": "display_data",
          "data": {
            "image/png": "[encoded data removed]",
            "text/plain": [
              "<Figure size 432x288 with 1 Axes>"
            ]
          },
          "metadata": {
            "tags": [],
            "needs_background": "light"
          }
        },
        {
          "output_type": "display_data",
          "data": {
            "image/png": "[encoded data removed]",
            "text/plain": [
              "<Figure size 432x288 with 1 Axes>"
            ]
          },
          "metadata": {
            "tags": [],
            "needs_background": "light"
          }
        }
      ]
    },
    {
      "cell_type": "code",
      "metadata": {
        "id": "r9PUHh4NjKc5"
      },
      "source": [
        ""
      ],
      "execution_count": null,
      "outputs": []
    },
    {
      "cell_type": "markdown",
      "metadata": {
        "id": "haiPVx4ibEra"
      },
      "source": [
        "# Part 4: Quantize Activations"
      ]
    },
    {
      "cell_type": "code",
      "metadata": {
        "id": "zLjSp7hsXofq"
      },
      "source": [
        "from typing import List\n",
        "\n",
        "class NetQuantized(nn.Module):\n",
        "    def __init__(self, net_with_weights_quantized: nn.Module):\n",
        "        super(NetQuantized, self).__init__()\n",
        "        \n",
        "        net_init = copy_model(net_with_weights_quantized)\n",
        "\n",
        "        self.conv1 = net_init.conv1\n",
        "        self.pool = net_init.pool\n",
        "        self.conv2 = net_init.conv2\n",
        "        self.fc1 = net_init.fc1\n",
        "\n",
        "        for layer in self.conv1, self.conv2, self.fc1:\n",
        "            def pre_hook(l, x):\n",
        "                x = x[0]\n",
        "                if (x < -128).any() or (x > 127).any():\n",
        "                    raise Exception(\"Input to {} layer is out of bounds for an 8-bit signed integer\".format(l.__class__.__name__))\n",
        "                if (x != x.round()).any():\n",
        "                    raise Exception(\"Input to {} layer has non-integer values\".format(l.__class__.__name__))\n",
        "\n",
        "            layer.register_forward_pre_hook(pre_hook)\n",
        "\n",
        "        # Calculate the scaling factor for the initial input to the CNN\n",
        "        self.input_activations = net_with_weights_quantized.input_activations\n",
        "        self.input_scale = NetQuantized.quantize_initial_input(self.input_activations)\n",
        "\n",
        "        # Calculate the output scaling factors for all the layers of the CNN\n",
        "        preceding_layer_scales = []\n",
        "        for layer in self.conv1, self.conv2, self.fc1:\n",
        "            layer.output_scale = NetQuantized.quantize_activations(layer.activations, layer.weight.scale, self.input_scale, preceding_layer_scales)\n",
        "            preceding_layer_scales.append((layer.weight.scale, layer.output_scale))\n",
        "\n",
        "    @staticmethod\n",
        "    def quantize_initial_input(pixels: np.ndarray) -> float:\n",
        "        '''\n",
        "        Calculate a scaling factor for the images that are input to the first layer of the CNN.\n",
        "\n",
        "        Parameters:\n",
        "        pixels (ndarray): The values of all the pixels which were part of the input image during training\n",
        "\n",
        "        Returns:\n",
        "        float: A scaling factor that the input should be multiplied by before being fed into the first layer.\n",
        "               This value does not need to be an 8-bit integer.\n",
        "        '''\n",
        "\n",
        "        # ADD YOUR CODE HERE\n",
        "        #absmax = np.abs(pixels).max()  # uncomment to quantized activations to int8 range\n",
        "        #return 127 / absmax\n",
        "        return 1  # initial input activations not quantized in wakey_wakey\n",
        "\n",
        "    @staticmethod\n",
        "    def quantize_activations(activations: np.ndarray, n_w: float, n_initial_input: float, ns: List[Tuple[float, float]]) -> float:\n",
        "        '''\n",
        "        Calculate a scaling factor to multiply the output of a layer by.\n",
        "\n",
        "        Parameters:\n",
        "        activations (ndarray): The values of all the pixels which have been output by this layer during training\n",
        "        n_w (float): The scale by which the weights of this layer were multiplied as part of the \"quantize_weights\" function you wrote earlier\n",
        "        n_initial_input (float): The scale by which the initial input to the neural network was multiplied\n",
        "        ns ([(float, float)]): A list of tuples, where each tuple represents the \"weight scale\" and \"output scale\" (in that order) for every preceding layer\n",
        "\n",
        "        Returns:\n",
        "        float: A scaling factor that the layer output should be multiplied by before being fed into the first layer.\n",
        "               This value does not need to be an 8-bit integer.\n",
        "        '''\n",
        "\n",
        "        # ADD YOUR CODE HERE\n",
        "        max = activations.max()\n",
        "        product = 1\n",
        "        for prev_scaling in ns:\n",
        "            product *= prev_scaling[0] * prev_scaling[1]\n",
        "        scale = 127 / (n_w * product * n_initial_input * max)  # return this for original output\n",
        "        return 2 ** np.floor(np.log2(scale))  # make scaling a power of 2!\n",
        "\n",
        "    def forward(self, x: torch.Tensor) -> torch.Tensor:\n",
        "        # You can access the output activation scales like this:\n",
        "        #   fc1_output_scale = self.fc1.output_scale\n",
        "\n",
        "        # To make sure that the outputs of each layer are integers between -128 and 127, you may need to use the following functions:\n",
        "        #   * torch.Tensor.round\n",
        "        #   * torch.clamp\n",
        "\n",
        "        # ADD YOUR CODE HERE\n",
        "        x = x.reshape((x.shape[0], 50, 13)).transpose(1, 2)\n",
        "        x = torch.clamp(torch.round(x * self.input_scale), min=-128, max=127)\n",
        "        x = self.pool(torch.clamp(torch.floor(F.relu(self.conv1(x)) * self.conv1.output_scale), min=-128, max=127))\n",
        "        x = self.pool(torch.clamp(torch.floor(F.relu(self.conv2(x)) * self.conv2.output_scale), min=-128, max=127))\n",
        "        x = x.reshape((x.shape[0], 16*13))\n",
        "        #x = torch.clamp(torch.floor(self.fc1(x) * self.fc1.output_scale), min=-128, max=127)\n",
        "        x = self.fc1(x)\n",
        "        return x"
      ],
      "execution_count": null,
      "outputs": []
    },
    {
      "cell_type": "code",
      "metadata": {
        "id": "13CpHgvE994J",
        "colab": {
          "base_uri": "https://localhost:8080/"
        },
        "outputId": "c4d20700-9241-4175-fcc4-ee77959bd108"
      },
      "source": [
        "# Merge the information from net_q2 and net_q3 together\n",
        "net_init = copy_model(net_q2)\n",
        "net_init.input_activations = deepcopy(net_q3.input_activations)\n",
        "for layer_init, layer_q3 in zip(net_init.children(), net_q3.children()):\n",
        "    if isinstance(layer_init, nn.Conv1d) or isinstance(layer_init, nn.Linear):\n",
        "        layer_init.activations = deepcopy(layer_q3.activations)\n",
        "\n",
        "net_quantized = NetQuantized(net_init)\n",
        "\n",
        "for l in [net_quantized.conv1, net_quantized.conv2, net_quantized.fc1]:\n",
        "    print(np.log2(l.output_scale))"
      ],
      "execution_count": null,
      "outputs": [
        {
          "output_type": "stream",
          "text": [
            "tensor(-6.)\n",
            "tensor(-6.)\n",
            "tensor(-8.)\n"
          ],
          "name": "stdout"
        }
      ]
    },
    {
      "cell_type": "code",
      "metadata": {
        "colab": {
          "base_uri": "https://localhost:8080/"
        },
        "id": "Ur6Rckyjy7tS",
        "outputId": "853ae971-ad69-46bd-8cd0-a61afd1558ed"
      },
      "source": [
        "score = test(net_quantized, trainloader)\n",
        "print('Accuracy of the network after quantizing activations (train): {}%'.format(score))\n",
        "score = test(net_quantized, testloader)\n",
        "print('Accuracy of the network after quantizing activations (test): {}%'.format(score))"
      ],
      "execution_count": null,
      "outputs": [
        {
          "output_type": "stream",
          "text": [
            "Accuracy of the network after quantizing activations (train): 98.93969516235917%\n",
            "Accuracy of the network after quantizing activations (test): 96.55400927766733%\n"
          ],
          "name": "stdout"
        }
      ]
    },
    {
      "cell_type": "code",
      "metadata": {
        "id": "SpnyPRxzyNc8"
      },
      "source": [
        ""
      ],
      "execution_count": null,
      "outputs": []
    },
    {
      "cell_type": "markdown",
      "metadata": {
        "id": "1jTOL7scbMs7"
      },
      "source": [
        "# Part 5: Quantize Biases"
      ]
    },
    {
      "cell_type": "code",
      "metadata": {
        "id": "6JI3f00ZdVKM"
      },
      "source": [
        "class NetWithBias(nn.Module):\n",
        "    def __init__(self):\n",
        "        super(NetWithBias, self).__init__()\n",
        "        self.conv1 = nn.Conv1d(13, 8, 3, padding=1, bias=True)\n",
        "        self.pool = nn.MaxPool1d(2, 2, ceil_mode=True)\n",
        "        self.dropout = nn.Dropout(0.25)\n",
        "        self.conv2 = nn.Conv1d(8, 16, 3, padding=1, bias=True)\n",
        "        self.fc1 = nn.Linear(16 * 13, 2, bias=True)\n",
        "\n",
        "    def forward(self, x: torch.Tensor) -> torch.Tensor:\n",
        "        x = x.reshape((x.shape[0], 50, 13)).transpose(1, 2)\n",
        "        x = self.pool(F.relu(self.conv1(x)))\n",
        "        x = self.dropout(x)\n",
        "        x = self.pool(F.relu(self.conv2(x)))\n",
        "        x = self.dropout(x)\n",
        "        x = x.reshape((x.shape[0], 16*13))\n",
        "        x = self.fc1(x)\n",
        "        return x\n",
        "\n",
        "net_with_bias = NetWithBias().to(device)"
      ],
      "execution_count": null,
      "outputs": []
    },
    {
      "cell_type": "code",
      "metadata": {
        "id": "wjk3hEQaVDpq",
        "colab": {
          "base_uri": "https://localhost:8080/"
        },
        "outputId": "22f3f5f2-0001-4120-a436-8ced074b87cf"
      },
      "source": [
        "train(net_with_bias, trainloader)"
      ],
      "execution_count": null,
      "outputs": [
        {
          "output_type": "stream",
          "text": [
            "[10] loss: 31.146\n",
            "[20] loss: 24.718\n",
            "[30] loss: 21.777\n",
            "[40] loss: 19.631\n",
            "[50] loss: 18.032\n",
            "[60] loss: 17.671\n",
            "[70] loss: 16.714\n",
            "[80] loss: 15.369\n",
            "[90] loss: 13.943\n",
            "[100] loss: 14.361\n",
            "[110] loss: 12.655\n",
            "[120] loss: 12.969\n",
            "[130] loss: 12.416\n",
            "[140] loss: 13.746\n",
            "[150] loss: 13.104\n",
            "[160] loss: 13.255\n",
            "[170] loss: 12.441\n",
            "[180] loss: 14.009\n",
            "[190] loss: 13.119\n",
            "[200] loss: 11.678\n",
            "[210] loss: 13.460\n",
            "[220] loss: 12.735\n",
            "[230] loss: 12.466\n",
            "[240] loss: 11.340\n",
            "[250] loss: 12.178\n",
            "[260] loss: 11.508\n",
            "[270] loss: 11.204\n",
            "[280] loss: 12.102\n",
            "[290] loss: 11.855\n",
            "[300] loss: 11.579\n",
            "[310] loss: 12.416\n",
            "[320] loss: 11.213\n",
            "[330] loss: 11.456\n",
            "[340] loss: 11.822\n",
            "[350] loss: 12.151\n",
            "[360] loss: 11.132\n",
            "[370] loss: 10.956\n",
            "[380] loss: 10.383\n",
            "[390] loss: 10.911\n",
            "[400] loss: 10.191\n",
            "[410] loss: 10.330\n",
            "[420] loss: 10.818\n",
            "[430] loss: 10.554\n",
            "[440] loss: 11.273\n",
            "[450] loss: 9.565\n",
            "[460] loss: 11.271\n",
            "[470] loss: 9.742\n",
            "[480] loss: 10.407\n",
            "[490] loss: 10.561\n",
            "[500] loss: 10.232\n",
            "Finished Training\n"
          ],
          "name": "stdout"
        }
      ]
    },
    {
      "cell_type": "code",
      "metadata": {
        "id": "M9ohsZVmdpGm",
        "colab": {
          "base_uri": "https://localhost:8080/"
        },
        "outputId": "b746e670-d080-4e17-b7f1-d6c14e212169"
      },
      "source": [
        "score = test(net_with_bias, trainloader)\n",
        "print('Accuracy of the network with bias (train): {}%'.format(score))\n",
        "score = test(net_with_bias, testloader)\n",
        "print('Accuracy of the network with bias (test): {}%'.format(score))"
      ],
      "execution_count": null,
      "outputs": [
        {
          "output_type": "stream",
          "text": [
            "Accuracy of the network with bias (train): 98.76297768941905%\n",
            "Accuracy of the network with bias (test): 96.35520212060968%\n"
          ],
          "name": "stdout"
        }
      ]
    },
    {
      "cell_type": "code",
      "metadata": {
        "id": "U_ZiJk6yEEM-"
      },
      "source": [
        "register_activation_profiling_hooks(net_with_bias)\n",
        "test(net_with_bias, trainloader, max_samples=400)\n",
        "net_with_bias.profile_activations = False"
      ],
      "execution_count": null,
      "outputs": []
    },
    {
      "cell_type": "code",
      "metadata": {
        "id": "yZwk8KLtAUAM",
        "colab": {
          "base_uri": "https://localhost:8080/"
        },
        "outputId": "ace82fe7-af2d-4e02-82a9-2e79e8b1185d"
      },
      "source": [
        "net_with_bias_with_quantized_weights = copy_model(net_with_bias)\n",
        "quantize_layer_weights(net_with_bias_with_quantized_weights)\n",
        "\n",
        "score = test(net_with_bias_with_quantized_weights, trainloader)\n",
        "print('Accuracy of the network on the train images after all the weights are quantized but the bias isn\\'t: {}%'.format(score))\n",
        "score = test(net_with_bias_with_quantized_weights, testloader)\n",
        "print('Accuracy of the network on the test images after all the weights are quantized but the bias isn\\'t: {}%'.format(score))"
      ],
      "execution_count": null,
      "outputs": [
        {
          "output_type": "stream",
          "text": [
            "Accuracy of the network on the train images after all the weights are quantized but the bias isn't: 97.6805831676607%\n",
            "Accuracy of the network on the test images after all the weights are quantized but the bias isn't: 95.75878064943672%\n"
          ],
          "name": "stdout"
        }
      ]
    },
    {
      "cell_type": "code",
      "metadata": {
        "id": "mO2Gdu_tEZ4v"
      },
      "source": [
        "class NetQuantizedWithBias(NetQuantized):\n",
        "    def __init__(self, net_with_weights_quantized: nn.Module):\n",
        "        super(NetQuantizedWithBias, self).__init__(net_with_weights_quantized)\n",
        "\n",
        "\n",
        "        for i, l in enumerate([self.conv1, self.conv2, self.fc1]):\n",
        "            preceding_scales = [(layer.weight.scale, layer.output_scale) for layer in self.children() if isinstance(layer, nn.Conv1d) or isinstance(layer, nn.Linear)][:i]\n",
        "\n",
        "            l.bias.data = NetQuantizedWithBias.quantized_bias(\n",
        "                l.bias.data,\n",
        "                l.weight.scale,\n",
        "                self.input_scale,\n",
        "                preceding_scales\n",
        "            )\n",
        "\n",
        "            if (l.bias.data < -2147483648).any() or (l.bias.data > 2147483647).any():\n",
        "                raise Exception(\"Bias has values which are out of bounds for an 32-bit signed integer\")\n",
        "            if (l.bias.data != l.bias.data.round()).any():\n",
        "                raise Exception(\"Bias has non-integer values\")\n",
        "\n",
        "    @staticmethod\n",
        "    def quantized_bias(bias: torch.Tensor, n_w: float, n_initial_input: float, ns: List[Tuple[float, float]]) -> torch.Tensor:\n",
        "        '''\n",
        "        Quantize the bias so that all values are integers between -2147483648 and 2147483647.\n",
        "\n",
        "        Parameters:\n",
        "        bias (Tensor): The floating point values of the bias\n",
        "        n_w (float): The scale by which the weights of this layer were multiplied\n",
        "        n_initial_input (float): The scale by which the initial input to the neural network was multiplied\n",
        "        ns ([(float, float)]): A list of tuples, where each tuple represents the \"weight scale\" and \"output scale\" (in that order) for every preceding layer\n",
        "\n",
        "        Returns:\n",
        "        Tensor: The bias in quantized form, where every value is an integer between -2147483648 and 2147483647.\n",
        "                The \"dtype\" will still be \"float\", but the values themselves should all be integers.\n",
        "        '''\n",
        "\n",
        "        # ADD YOUR CODE HERE\n",
        "        product = 1\n",
        "        for prev_scaling in ns:\n",
        "            product *= prev_scaling[0] * prev_scaling[1]\n",
        "        scale = (n_w * product * n_initial_input)\n",
        "        return (bias * scale).round()\n",
        "        #return torch.clamp((bias * 2.5).round(), min=-2147483648, max=2147483647)"
      ],
      "execution_count": null,
      "outputs": []
    },
    {
      "cell_type": "code",
      "metadata": {
        "id": "TA6rXt3Q-zF8"
      },
      "source": [
        "net_quantized_with_bias = NetQuantizedWithBias(net_with_bias_with_quantized_weights)"
      ],
      "execution_count": null,
      "outputs": []
    },
    {
      "cell_type": "code",
      "metadata": {
        "id": "b9ho_iCwfVoG",
        "colab": {
          "base_uri": "https://localhost:8080/"
        },
        "outputId": "fe6b4a17-7db5-4f63-e0fd-8dc677e944f4"
      },
      "source": [
        "score = test(net_quantized_with_bias, trainloader)\n",
        "print('Accuracy of the network with quantized weights and bias (train): {}%'.format(score))\n",
        "score = test(net_quantized_with_bias, testloader)\n",
        "print('Accuracy of the network with quantized weights and bias (test): {}%'.format(score))"
      ],
      "execution_count": null,
      "outputs": [
        {
          "output_type": "stream",
          "text": [
            "Accuracy of the network with quantized weights and bias (train): 98.80715705765408%\n",
            "Accuracy of the network with quantized weights and bias (test): 96.55400927766733%\n"
          ],
          "name": "stdout"
        }
      ]
    },
    {
      "cell_type": "code",
      "metadata": {
        "id": "0Ga8xxxLhrc_",
        "colab": {
          "base_uri": "https://localhost:8080/"
        },
        "outputId": "0b6d6986-4db6-4eac-f8c2-568cc8c6fe3a"
      },
      "source": [
        "print('Number of parameters in each layer:')\n",
        "for p in net_quantized_with_bias.parameters():\n",
        "    print(p.numel())"
      ],
      "execution_count": null,
      "outputs": [
        {
          "output_type": "stream",
          "text": [
            "Number of parameters in each layer:\n",
            "312\n",
            "8\n",
            "384\n",
            "16\n",
            "416\n",
            "2\n"
          ],
          "name": "stdout"
        }
      ]
    },
    {
      "cell_type": "markdown",
      "metadata": {
        "id": "dDriUNRThyQF"
      },
      "source": [
        "# Part 6: Numpy model"
      ]
    },
    {
      "cell_type": "code",
      "metadata": {
        "id": "ZgbtLHSRh3Pd"
      },
      "source": [
        "conv1_weights = net_quantized_with_bias.conv1.weight.data.cpu().numpy().astype(np.int8)\n",
        "conv1_biases = net_quantized_with_bias.conv1.bias.data.cpu().numpy().astype(np.int32)\n",
        "conv2_weights = net_quantized_with_bias.conv2.weight.data.cpu().numpy().astype(np.int8)\n",
        "conv2_biases = net_quantized_with_bias.conv2.bias.data.cpu().numpy().astype(np.int32)\n",
        "fc1_weights = net_quantized_with_bias.fc1.weight.data.cpu().numpy().astype(np.int8)\n",
        "fc1_biases = net_quantized_with_bias.fc1.bias.data.cpu().numpy().astype(np.int32)\n",
        "\n",
        "# transpose the weights so that they match the numpy model\n",
        "conv1_weights = np.transpose(conv1_weights, (2, 1, 0))\n",
        "conv2_weights = np.transpose(conv2_weights, (2, 1, 0))\n",
        "#fc1_weights = np.transpose(fc1_weights, (1, 0))  # works if x is transposed\n",
        "fc1_weights = np.transpose(fc1_weights.reshape(2, 16, 13), (0, 2, 1)).reshape(2, 208).T\n",
        "\n",
        "# get the featuremap scalings\n",
        "input_scale = net_quantized_with_bias.input_scale\n",
        "conv1_output_scale = net_quantized_with_bias.conv1.output_scale\n",
        "conv2_output_scale = net_quantized_with_bias.conv2.output_scale\n",
        "fc1_output_scale = net_quantized_with_bias.fc1.output_scale\n",
        "\n",
        "# bitshifts is the amount that each featuremap is shifted to the right eg: 8 would be a divide by 256\n",
        "bitshifts = -np.log2(np.array([conv1_output_scale, conv2_output_scale, fc1_output_scale])).astype(np.int8)\n",
        "\n",
        "input_scale_arr = np.array(input_scale)  # single element array for input featuremap scaling\n",
        "\n",
        "weights_list = [input_scale_arr, bitshifts,\n",
        "                conv1_weights, conv1_biases,\n",
        "                conv2_weights, conv2_biases,\n",
        "                fc1_weights, fc1_biases]\n",
        "np.savez('parameters_quantized.npz', *weights_list)"
      ],
      "execution_count": null,
      "outputs": []
    },
    {
      "cell_type": "code",
      "metadata": {
        "colab": {
          "base_uri": "https://localhost:8080/"
        },
        "id": "FIeMZLeW7Fer",
        "outputId": "2e3bc579-b143-4ea2-86f9-95f64a383aa4"
      },
      "source": [
        "weights_archive = np.load('parameters_quantized.npz')\n",
        "weights_list = [weights_archive['arr_{}'.format(i)] for i in range(len(weights_archive))]\n",
        "\n",
        "for weights in weights_list:\n",
        "    print(weights.shape)\n",
        "\n",
        "input_scale = weights_list[0]\n",
        "bitshifts = weights_list[1]\n",
        "conv1_weights = weights_list[2]\n",
        "conv1_biases = weights_list[3]\n",
        "conv2_weights = weights_list[4]\n",
        "conv2_biases = weights_list[5]\n",
        "fc1_weights = weights_list[6]\n",
        "fc1_biases = weights_list[7]"
      ],
      "execution_count": null,
      "outputs": [
        {
          "output_type": "stream",
          "text": [
            "()\n",
            "(3,)\n",
            "(3, 13, 8)\n",
            "(8,)\n",
            "(3, 8, 16)\n",
            "(16,)\n",
            "(208, 2)\n",
            "(2,)\n"
          ],
          "name": "stdout"
        }
      ]
    },
    {
      "cell_type": "code",
      "metadata": {
        "id": "Dyl-WV3OiRpP"
      },
      "source": [
        "def relu(x):\n",
        "    return np.maximum(x, 0)\n",
        "\n",
        "def conv1d_single_kernel(x, weights, bias):\n",
        "    '''Perform convolution of a input feature map with a single filter and bias.\n",
        "    \n",
        "    featuremap dims are (time, n_coeffs), so (50, 13)\n",
        "    '''\n",
        "    out = np.zeros(x.shape[0], dtype=np.int64)  # output length is the same\n",
        "    x_pad = np.zeros((x.shape[0]+2, x.shape[1]), dtype=np.int64)\n",
        "    x_pad[1:-1,:] = x  # zero padding\n",
        "    for i in range(x.shape[0]):\n",
        "        section = x_pad[i:i+3,:]\n",
        "        out[i] = relu(np.sum(section * weights) + bias)\n",
        "    return out\n",
        "\n",
        "def conv1d_multi_kernel(x, weights, biases):\n",
        "    n_kernels = weights.shape[2]\n",
        "    out = np.zeros((x.shape[0], n_kernels), dtype=np.int64)\n",
        "    for i in range(n_kernels):\n",
        "        kernel = weights[:,:,i]\n",
        "        out[:,i] = conv1d_single_kernel(x, kernel, biases[i])\n",
        "    return out\n",
        "\n",
        "def max_pool_1d(x):\n",
        "    out = np.zeros((int(np.ceil(x.shape[0] / 2)), x.shape[1]), dtype=np.int8)\n",
        "    for j in range(x.shape[1]):\n",
        "        for i in range(int(np.floor(x.shape[0] / 2))):\n",
        "            out[i, j] = np.maximum(x[2*i, j], x[2*i+1, j])\n",
        "        if (x.shape[0] % 2 == 1):\n",
        "            out[-1, j] = x[-1, j]\n",
        "    return out\n",
        "\n",
        "def fc(x, weights, biases):\n",
        "    x = x.flatten()\n",
        "    out = np.matmul(x, weights, dtype=np.int64) + biases\n",
        "    return out\n",
        "\n",
        "def scale_feature_map(x, shift):\n",
        "    '''Scale a featuremap to a byte range given the amount to right shift by.\n",
        "\n",
        "    Since all weight, bias, and activation quantizations are mapped using the full range\n",
        "    of values, there is not any need for clamping the values to the range [-128, 127].\n",
        "    However, it is still useful since the quantization could be changed to not map to the\n",
        "    full range of the unquantized values.\n",
        "    '''\n",
        "    x = np.right_shift(x, shift)\n",
        "    x = np.clip(x, -128, 127)\n",
        "    x = x.astype(np.int8)\n",
        "    return x\n",
        "\n",
        "def get_numpy_pred(features):\n",
        "    out = np.zeros((features.shape[0], 2), dtype=np.int64)\n",
        "    for i in range(features.shape[0]):\n",
        "        # condition input feature map\n",
        "        x = features[i]\n",
        "        x = x.reshape((int(x.size / 13), 13))\n",
        "        x = np.clip(np.round(x * input_scale), -128, 127).astype(np.int8)\n",
        "\n",
        "        # conv1\n",
        "        x = conv1d_multi_kernel(x, conv1_weights, conv1_biases)\n",
        "        x = scale_feature_map(x, bitshifts[0])\n",
        "        x = max_pool_1d(x)\n",
        "\n",
        "        # conv2\n",
        "        x = conv1d_multi_kernel(x, conv2_weights, conv2_biases)\n",
        "        x = scale_feature_map(x, bitshifts[1])\n",
        "        x = max_pool_1d(x)\n",
        "\n",
        "        # fc1\n",
        "        x = fc(x, fc1_weights, fc1_biases)\n",
        "        \n",
        "        out[i] = x\n",
        "    return out"
      ],
      "execution_count": null,
      "outputs": []
    },
    {
      "cell_type": "code",
      "metadata": {
        "colab": {
          "base_uri": "https://localhost:8080/"
        },
        "id": "rxDv67ZHvR3n",
        "outputId": "189efa83-9343-4234-df24-d0bd76702897"
      },
      "source": [
        "numpy_pred = get_numpy_pred(X[:1,:])\n",
        "numpy_pred.shape"
      ],
      "execution_count": null,
      "outputs": [
        {
          "output_type": "execute_result",
          "data": {
            "text/plain": [
              "(1, 2)"
            ]
          },
          "metadata": {
            "tags": []
          },
          "execution_count": 39
        }
      ]
    },
    {
      "cell_type": "code",
      "metadata": {
        "colab": {
          "base_uri": "https://localhost:8080/"
        },
        "id": "PkgYmJvV7_Fa",
        "outputId": "8ae2c80c-546d-479a-fd42-ba13074acf4b"
      },
      "source": [
        "def get_torch_pred(input):\n",
        "    return net_quantized_with_bias.forward(torch.tensor(input, device=device, dtype=torch.float)).detach().cpu().numpy()\n",
        "\n",
        "torch_pred = get_torch_pred(X[:1,:])\n",
        "torch_pred.shape"
      ],
      "execution_count": null,
      "outputs": [
        {
          "output_type": "execute_result",
          "data": {
            "text/plain": [
              "(1, 2)"
            ]
          },
          "metadata": {
            "tags": []
          },
          "execution_count": 40
        }
      ]
    },
    {
      "cell_type": "code",
      "metadata": {
        "colab": {
          "base_uri": "https://localhost:8080/"
        },
        "id": "HQPCZMWDRTGi",
        "outputId": "051f55fe-8e9e-4718-bf62-0ea7478eb8cd"
      },
      "source": [
        "numpy_pred - torch_pred"
      ],
      "execution_count": null,
      "outputs": [
        {
          "output_type": "execute_result",
          "data": {
            "text/plain": [
              "array([[0., 0.]])"
            ]
          },
          "metadata": {
            "tags": []
          },
          "execution_count": 41
        }
      ]
    },
    {
      "cell_type": "code",
      "metadata": {
        "colab": {
          "base_uri": "https://localhost:8080/"
        },
        "id": "Rr6r5V359-4s",
        "outputId": "99e4f358-bb5a-4763-c4df-c0b1a903ed2c"
      },
      "source": [
        "# compare output for each sample in test data\n",
        "\n",
        "n_err = 0\n",
        "for i in range(Xtest.shape[0]):\n",
        "    numpy_pred = get_numpy_pred(X[i:i+1, :])\n",
        "    torch_pred = get_torch_pred(X[i:i+1, :])\n",
        "    diff = numpy_pred - torch_pred\n",
        "    if np.abs(diff).max() > 1e-9:\n",
        "        n_err += 1\n",
        "        print('Difference between outputs at sample ', i)\n",
        "    if n_err > 10:\n",
        "        break\n",
        "\n",
        "if n_err == 0:\n",
        "    print('No differences between numpy model and torch model!')"
      ],
      "execution_count": null,
      "outputs": [
        {
          "output_type": "stream",
          "text": [
            "No differences between numpy model and torch model!\n"
          ],
          "name": "stdout"
        }
      ]
    },
    {
      "cell_type": "code",
      "metadata": {
        "id": "36Tsq1QbEyqA"
      },
      "source": [
        ""
      ],
      "execution_count": null,
      "outputs": []
    },
    {
      "cell_type": "code",
      "metadata": {
        "id": "7yXTLUELLMex"
      },
      "source": [
        ""
      ],
      "execution_count": null,
      "outputs": []
    }
  ]
}