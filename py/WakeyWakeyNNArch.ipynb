{
  "nbformat": 4,
  "nbformat_minor": 0,
  "metadata": {
    "colab": {
      "name": "WakeyWakeyNNArch.ipynb",
      "provenance": [],
      "toc_visible": true
    },
    "kernelspec": {
      "name": "python3",
      "display_name": "Python 3"
    },
    "language_info": {
      "name": "python"
    },
    "accelerator": "GPU"
  },
  "cells": [
    {
      "cell_type": "markdown",
      "metadata": {
        "id": "yuhU8wRTOAQW"
      },
      "source": [
        "# Featurization"
      ]
    },
    {
      "cell_type": "code",
      "metadata": {
        "colab": {
          "base_uri": "https://localhost:8080/"
        },
        "id": "N_WLB-Rm1xMJ",
        "outputId": "bae19922-c2bf-4193-a47b-9b010d70e506"
      },
      "source": [
        "import os\n",
        "# download and unzip keywords dataset\n",
        "os.system('curl -O https://cdn.edgeimpulse.com/datasets/keywords2.zip')\n",
        "os.system('unzip keywords2.zip')"
      ],
      "execution_count": 1,
      "outputs": [
        {
          "output_type": "execute_result",
          "data": {
            "text/plain": [
              "256"
            ]
          },
          "metadata": {
            "tags": []
          },
          "execution_count": 1
        }
      ]
    },
    {
      "cell_type": "code",
      "metadata": {
        "colab": {
          "base_uri": "https://localhost:8080/"
        },
        "id": "1pGkHIn21x8Q",
        "outputId": "2eeb9017-9f36-4835-b45b-0147dcdb9440"
      },
      "source": [
        "!pip install speechpy\n",
        "import speechpy\n",
        "import numpy as np\n",
        "from scipy.io import wavfile\n",
        "\n",
        "train_test_split = 0.75  # fraction to have as training data\n",
        "\n",
        "p = {'num_mfcc_cof': 13,\n",
        "     'frame_length': 0.02,\n",
        "     'frame_stride': 0.02,\n",
        "     'filter_num': 32,\n",
        "     'fft_length': 256,\n",
        "     'window_size': 101,\n",
        "     'low_frequency': 300,\n",
        "     'preemph_cof': 0.98}\n",
        "\n",
        "def get_features(fullfname):\n",
        "    try:\n",
        "        fs, data = wavfile.read(fullfname)\n",
        "    except ValueError:\n",
        "        print('failed to read file {}, continuing'.format(fullfname))\n",
        "        return np.zeros(650)\n",
        "\n",
        "    # generate features\n",
        "    preemphasized = speechpy.processing.preemphasis(data, cof=p['preemph_cof'], shift=1)\n",
        "    mfcc = speechpy.feature.mfcc(preemphasized, fs, frame_length=p['frame_length'],\n",
        "                                  frame_stride=p['frame_stride'], num_cepstral=p['num_mfcc_cof'],\n",
        "                                  num_filters=p['filter_num'], fft_length=p['fft_length'],\n",
        "                                  low_frequency=p['low_frequency'])\n",
        "    #print('mfcc shape', mfcc.shape)\n",
        "    # TODO: Why is the output shape here (49, 13) and not (50, 13)?\n",
        "    # For now just repeat last frame:\n",
        "    mfcc2 = np.zeros((50, 13))\n",
        "    mfcc2[:-1,:] = mfcc\n",
        "    mfcc2[-1,:] = mfcc[-1,:]\n",
        "    \n",
        "    mfcc_cmvn = speechpy.processing.cmvnw(mfcc2, win_size=p['window_size'], variance_normalization=True)\n",
        "\n",
        "    flattened = mfcc_cmvn.flatten()\n",
        "    return flattened\n",
        "  \n",
        "def get_fnames(group):\n",
        "    dir = group + '/'\n",
        "    fnames = os.listdir(dir)\n",
        "    fnames = [x for x in fnames if not x.startswith('.')]  # ignore .DS_Store\n",
        "    fullnames = [dir + fname for fname in fnames]\n",
        "    return fullnames\n",
        "    \n",
        "# collect a big list of filenames and a big list of labels\n",
        "all_fnames = []\n",
        "all_labels = []\n",
        "for group in ['yes', 'unknown', 'noise']:\n",
        "    fnames = get_fnames(group)\n",
        "    label = 1 if group == 'yes' else 2\n",
        "    repeat = 2 if group == 'yes' else 1  # oversample wake word class to balance dataset\n",
        "    for _ in range(repeat):\n",
        "        all_fnames.extend(fnames)\n",
        "        for i in range(len(fnames)):\n",
        "            all_labels.append(label)\n",
        "    \n",
        "# get a big list of mfcc features\n",
        "n = len(all_fnames)\n",
        "print('num samples: ', n)\n",
        "all_features = np.zeros((0, 13*50))\n",
        "for fname in all_fnames:\n",
        "    features = get_features(fname)\n",
        "    all_features = np.vstack((all_features, features))\n",
        "all_labels = np.array(all_labels)\n",
        "\n",
        "# shuffle the data randomly\n",
        "idx = np.arange(n, dtype=int)\n",
        "np.random.shuffle(idx)\n",
        "features_shuffled = all_features[idx,:]\n",
        "labels_shuffled = all_labels[idx]\n",
        "\n",
        "# split the data into train and test sets\n",
        "split = int(0.75 * n)\n",
        "X = features_shuffled[:split,:]\n",
        "Y = labels_shuffled[:split]\n",
        "Xtest = features_shuffled[split:,:]\n",
        "Ytest = labels_shuffled[split:]"
      ],
      "execution_count": 2,
      "outputs": [
        {
          "output_type": "stream",
          "text": [
            "Requirement already satisfied: speechpy in /usr/local/lib/python3.7/dist-packages (2.4)\n",
            "Requirement already satisfied: scipy in /usr/local/lib/python3.7/dist-packages (from speechpy) (1.4.1)\n",
            "Requirement already satisfied: numpy in /usr/local/lib/python3.7/dist-packages (from speechpy) (1.19.5)\n",
            "num samples:  6036\n"
          ],
          "name": "stdout"
        }
      ]
    },
    {
      "cell_type": "code",
      "metadata": {
        "colab": {
          "base_uri": "https://localhost:8080/",
          "height": 545
        },
        "id": "OPi-1yClDQAY",
        "outputId": "4361530c-258a-4e27-dca6-6463f02eab04"
      },
      "source": [
        "import matplotlib.pyplot as plt\n",
        "\n",
        "# plot the dataset balance\n",
        "\n",
        "def plot_dist(labels, title):\n",
        "    plt.figure()\n",
        "    nl = len(np.unique(labels))\n",
        "    freqs = np.zeros(nl)\n",
        "    for label in Y:\n",
        "        freqs[label-1] += 1\n",
        "    plt.bar(np.arange(nl)+1, freqs)\n",
        "    plt.title(title)\n",
        "\n",
        "plot_dist(Y, 'Training dataset balance')\n",
        "plot_dist(Ytest, 'Testing dataset balance')\n",
        "\n",
        "yes_features = X[Y==1,:]\n",
        "unknown_features = X[Y!=1,:]\n",
        "\n",
        "def plot_samples():\n",
        "    # plot some samples\n",
        "    for i in range(5):\n",
        "        plt.figure()\n",
        "        plt.subplot(121)\n",
        "        plt.imshow(yes_features[i,:].reshape(50, 13).T)\n",
        "        plt.title('Yes sample')\n",
        "        plt.subplot(122)\n",
        "        plt.imshow(unknown_features[i,:].reshape(50, 13).T)\n",
        "        plt.title('Unknown sample')\n",
        "  \n",
        "def plot_average_sample():\n",
        "    # plot the average yes and unknown sample\n",
        "    avg_yes = np.zeros(50, 13)\n",
        "    avg_unknown = np.zeros(50, 13)\n",
        "    for i in range(len(yes_features)):\n",
        "        avg_yes += yes_features[i,:].reshape(50, 13)\n",
        "    for i in range(len(unknown_features)):\n",
        "        avg_yes += unknown_features[i,:].reshape(50, 13)\n",
        "    avg_yes / len(yes_features)\n",
        "    avg_unknown / len(unknown_features)\n",
        "    plt.figure()\n",
        "    plt.imshow(avg_yes.T)\n",
        "    plt.title('average yes')\n",
        "    plt.figure()\n",
        "    plt.imshow(avg_unknown.T)\n",
        "    plt.title('average unknown')"
      ],
      "execution_count": 4,
      "outputs": [
        {
          "output_type": "display_data",
          "data": {
            "image/png": "[encoded data removed]",
            "text/plain": [
              "<Figure size 432x288 with 1 Axes>"
            ]
          },
          "metadata": {
            "tags": [],
            "needs_background": "light"
          }
        },
        {
          "output_type": "display_data",
          "data": {
            "image/png": "[encoded data removed]",
            "text/plain": [
              "<Figure size 432x288 with 1 Axes>"
            ]
          },
          "metadata": {
            "tags": [],
            "needs_background": "light"
          }
        }
      ]
    },
    {
      "cell_type": "code",
      "metadata": {
        "id": "hbiiMcdNJI--"
      },
      "source": [
        "import torch\n",
        "import torchvision\n",
        "import torchvision.transforms as transforms\n",
        "import torch.nn as nn\n",
        "import torch.nn.functional as F\n",
        "import torch.optim as optim\n",
        "from torch.utils.data import TensorDataset, DataLoader"
      ],
      "execution_count": 5,
      "outputs": []
    },
    {
      "cell_type": "code",
      "metadata": {
        "id": "A3RF5VmcoUMG"
      },
      "source": [
        "if torch.cuda.is_available():\n",
        "    device = torch.device('cuda')\n",
        "else:\n",
        "    device = torch.device('cpu')"
      ],
      "execution_count": 6,
      "outputs": []
    },
    {
      "cell_type": "code",
      "metadata": {
        "id": "9fL3F-7Rntog"
      },
      "source": [
        "class Net(nn.Module):\n",
        "    def __init__(self):\n",
        "        super(Net, self).__init__()\n",
        "        self.conv1 = nn.Conv1d(13, 8, 3, padding=1, bias=False)\n",
        "        self.pool = nn.MaxPool1d(2, 2, ceil_mode=True)\n",
        "        self.dropout = nn.Dropout(0.25)\n",
        "        self.conv2 = nn.Conv1d(8, 16, 3, padding=1, bias=False)\n",
        "        self.fc1 = nn.Linear(16 * 13, 2, bias=False)\n",
        "\n",
        "    def forward(self, x: torch.Tensor) -> torch.Tensor:\n",
        "        x = x.reshape((x.shape[0], 50, 13)).transpose(1, 2)\n",
        "        x = self.pool(F.relu(self.conv1(x)))\n",
        "        x = self.dropout(x)\n",
        "        x = self.pool(F.relu(self.conv2(x)))\n",
        "        x = self.dropout(x)\n",
        "        x = x.reshape((x.shape[0], 16*13))\n",
        "        x = self.fc1(x)\n",
        "        return x\n",
        "\n",
        "net = Net().to(device)"
      ],
      "execution_count": 7,
      "outputs": []
    },
    {
      "cell_type": "code",
      "metadata": {
        "id": "CzK6ohj5oNCT"
      },
      "source": [
        "batch_size = 32\n",
        "epochs = 500\n",
        "\n",
        "Y_tensor = torch.Tensor(Y-1).type(torch.int64)\n",
        "trainset = TensorDataset(torch.Tensor(X), Y_tensor)\n",
        "trainloader = DataLoader(trainset, batch_size=batch_size)\n",
        "\n",
        "Ytest_tensor = torch.Tensor(Ytest-1).type(torch.int64)\n",
        "testset = TensorDataset(torch.Tensor(Xtest), Ytest_tensor)\n",
        "testloader = DataLoader(testset, batch_size=batch_size)\n",
        "\n",
        "def train(model: nn.Module, dataloader: DataLoader):\n",
        "    model.train()  # turn on dropout layers\n",
        "\n",
        "    criterion = nn.CrossEntropyLoss()\n",
        "    optimizer = optim.SGD(model.parameters(), lr=0.001, momentum=0.9)\n",
        "\n",
        "    for epoch in range(epochs):  # loop over the dataset multiple times\n",
        "\n",
        "        running_loss = 0.0\n",
        "        #for i in range(len(X)):\n",
        "        #    inputs = torch.tensor(X[i,:]).reshape((1, 650))\n",
        "        #    labels = torch.tensor(Y[i] - 1, dtype=torch.int64).reshape(1)\n",
        "        for i, data in enumerate(dataloader, 0):\n",
        "            inputs, labels = data\n",
        "\n",
        "            inputs = inputs.to(device)\n",
        "            labels = labels.to(device)\n",
        "\n",
        "            # zero the parameter gradients\n",
        "            optimizer.zero_grad()\n",
        "\n",
        "            # forward + backward + optimize\n",
        "            outputs = model(inputs)\n",
        "            loss = criterion(outputs, labels)\n",
        "            loss.backward()\n",
        "            optimizer.step()\n",
        "\n",
        "            # print statistics\n",
        "            running_loss += loss.item()\n",
        "            #if i % 2000 == 1999:    # print every 2000 mini-batches\n",
        "        if epoch % 10 == 9:\n",
        "            print('[%d] loss: %.3f' % (epoch + 1, running_loss))\n",
        "\n",
        "    print('Finished Training')\n",
        "\n",
        "def test(model: nn.Module, dataloader: DataLoader, max_samples=None) -> float:\n",
        "    model.eval()  # turn off dropout layers\n",
        "\n",
        "    correct = 0\n",
        "    total = 0\n",
        "    n_inferences = 0\n",
        "\n",
        "    with torch.no_grad():\n",
        "        #for i in range(len(X)):\n",
        "        #    inputs = torch.tensor(X[i,:]).reshape((1, 650))\n",
        "        #    labels = torch.tensor(Y[i]).reshape(1)\n",
        "        for i, data in enumerate(dataloader, 0):\n",
        "            inputs, labels = data\n",
        "\n",
        "            inputs = inputs.to(device)\n",
        "            labels = labels.to(device)\n",
        "\n",
        "            outputs = model(inputs)\n",
        "            _, predicted = torch.max(outputs.data, 1)\n",
        "            total += labels.size(0)\n",
        "            correct += (predicted == labels).sum().item()\n",
        "\n",
        "            if max_samples:\n",
        "                n_inferences += inputs.shape[0]\n",
        "                if n_inferences > max_samples:\n",
        "                    break\n",
        "    \n",
        "    return 100 * correct / total"
      ],
      "execution_count": 8,
      "outputs": []
    },
    {
      "cell_type": "code",
      "metadata": {
        "id": "HixhBHaqtmZU",
        "colab": {
          "base_uri": "https://localhost:8080/"
        },
        "outputId": "8a917a07-23b6-4742-f313-c6c5e5d61ae0"
      },
      "source": [
        "train(net, trainloader)"
      ],
      "execution_count": 9,
      "outputs": [
        {
          "output_type": "stream",
          "text": [
            "[10] loss: 55.281\n",
            "[20] loss: 33.340\n",
            "[30] loss: 27.119\n",
            "[40] loss: 23.348\n",
            "[50] loss: 21.832\n",
            "[60] loss: 21.010\n",
            "[70] loss: 19.390\n",
            "[80] loss: 18.650\n",
            "[90] loss: 17.446\n",
            "[100] loss: 16.648\n",
            "[110] loss: 16.960\n",
            "[120] loss: 15.435\n",
            "[130] loss: 15.923\n",
            "[140] loss: 16.592\n",
            "[150] loss: 14.888\n",
            "[160] loss: 14.890\n",
            "[170] loss: 14.481\n",
            "[180] loss: 13.230\n",
            "[190] loss: 13.922\n",
            "[200] loss: 13.670\n",
            "[210] loss: 15.044\n",
            "[220] loss: 13.878\n",
            "[230] loss: 12.745\n",
            "[240] loss: 13.326\n",
            "[250] loss: 14.807\n",
            "[260] loss: 12.513\n",
            "[270] loss: 12.994\n",
            "[280] loss: 13.098\n",
            "[290] loss: 12.551\n",
            "[300] loss: 12.822\n",
            "[310] loss: 12.889\n",
            "[320] loss: 11.980\n",
            "[330] loss: 12.321\n",
            "[340] loss: 12.723\n",
            "[350] loss: 11.834\n",
            "[360] loss: 12.211\n",
            "[370] loss: 11.663\n",
            "[380] loss: 12.456\n",
            "[390] loss: 13.104\n",
            "[400] loss: 11.821\n",
            "[410] loss: 12.400\n",
            "[420] loss: 11.814\n",
            "[430] loss: 11.421\n",
            "[440] loss: 11.552\n",
            "[450] loss: 11.878\n",
            "[460] loss: 11.108\n",
            "[470] loss: 11.145\n",
            "[480] loss: 10.749\n",
            "[490] loss: 10.790\n",
            "[500] loss: 11.277\n",
            "Finished Training\n"
          ],
          "name": "stdout"
        }
      ]
    },
    {
      "cell_type": "code",
      "metadata": {
        "id": "y27_n-djuEdz",
        "colab": {
          "base_uri": "https://localhost:8080/"
        },
        "outputId": "030587e7-e562-4ccf-ffde-27248fbdd221"
      },
      "source": [
        "score = test(net, trainloader)\n",
        "print('Accuracy of the network on the train data: {}%'.format(score))\n",
        "score = test(net, testloader)\n",
        "print('Accuracy of the network on the test data: {}%'.format(score))"
      ],
      "execution_count": 10,
      "outputs": [
        {
          "output_type": "stream",
          "text": [
            "Accuracy of the network on the train data: 98.80715705765408%\n",
            "Accuracy of the network on the test data: 97.6805831676607%\n"
          ],
          "name": "stdout"
        }
      ]
    },
    {
      "cell_type": "code",
      "metadata": {
        "id": "O7l7yQEtNxh5"
      },
      "source": [
        ""
      ],
      "execution_count": 10,
      "outputs": []
    },
    {
      "cell_type": "markdown",
      "metadata": {
        "id": "SQZoEjBSveV8"
      },
      "source": [
        "# Part 1: Visualize Weights"
      ]
    },
    {
      "cell_type": "code",
      "metadata": {
        "id": "ZVWbC5YWT-MU"
      },
      "source": [
        "from copy import deepcopy\n",
        "\n",
        "# A convenience function which we use to copy CNNs\n",
        "def copy_model(model: nn.Module) -> nn.Module:\n",
        "    result = deepcopy(model)\n",
        "\n",
        "    # Copy over the extra metadata we've collected which copy.deepcopy doesn't capture\n",
        "    if hasattr(model, 'input_activations'):\n",
        "        result.input_activations = deepcopy(model.input_activations)\n",
        "\n",
        "    for result_layer, original_layer in zip(result.children(), model.children()):\n",
        "        if isinstance(result_layer, nn.Conv1d) or isinstance(result_layer, nn.Linear):\n",
        "            if hasattr(original_layer.weight, 'scale'):\n",
        "                result_layer.weight.scale = deepcopy(original_layer.weight.scale)\n",
        "            if hasattr(original_layer, 'activations'):\n",
        "                result_layer.activations = deepcopy(original_layer.activations)\n",
        "            if hasattr(original_layer, 'output_scale'):\n",
        "                result_layer.output_scale = deepcopy(original_layer.output_scale)\n",
        "\n",
        "    return result"
      ],
      "execution_count": 11,
      "outputs": []
    },
    {
      "cell_type": "code",
      "metadata": {
        "id": "5qKRX7ply7I2"
      },
      "source": [
        "import matplotlib.pyplot as plt\n",
        "import numpy as np"
      ],
      "execution_count": 12,
      "outputs": []
    },
    {
      "cell_type": "code",
      "metadata": {
        "id": "N2h7zJ8m3GAF",
        "colab": {
          "base_uri": "https://localhost:8080/",
          "height": 861
        },
        "outputId": "34af19b5-6c44-432d-903d-df9d09491977"
      },
      "source": [
        "# ADD YOUR CODE HERE to plot distributions of weights\n",
        "\n",
        "# You can get a flattened vector of the weights of fc1 like this:\n",
        "#   fc1_weights = net.fc1.weight.data.cpu().view(-1)\n",
        "# Try plotting a histogram of fc1_weights (and the weights of all the other layers as well)\n",
        "\n",
        "def show_weight_dist(layer, title):\n",
        "  weights = layer.weight.data.cpu().view(-1)\n",
        "  plt.figure()\n",
        "  plt.hist(weights, 100)\n",
        "  plt.title(title)\n",
        "  min = weights.min()\n",
        "  max = weights.max()\n",
        "  mean = weights.mean()\n",
        "  std = weights.std()\n",
        "  plt.axvline(mean - 3*std)\n",
        "  plt.axvline(mean + 3*std)\n",
        "  print('{} min {:.03f}, max {:.03f}, mean'.format(title, min, max) +\n",
        "         ' {:.03f}, 3-sigma ({:.03f}, {:.03f})'.format(mean, mean - 3*std, mean + 3*std) +\n",
        "         ', max-min {:.03f}, 3-sigma range {:.03f}'.format(max - min, 6*std))\n",
        "\n",
        "show_weight_dist(net.conv1, 'conv1')\n",
        "show_weight_dist(net.conv2, 'conv2')\n",
        "show_weight_dist(net.fc1, 'fc1')\n",
        "\n",
        "# fc3 has a 3-sigma range that is greater than the max-min, would want to use\n",
        "# max-min as the range and not the 3-sigma one"
      ],
      "execution_count": 13,
      "outputs": [
        {
          "output_type": "stream",
          "text": [
            "conv1 min -1.103, max 1.015, mean -0.003, 3-sigma (-0.723, 0.717), max-min 2.118, 3-sigma range 1.440\n",
            "conv2 min -0.651, max 0.755, mean -0.084, 3-sigma (-0.744, 0.576), max-min 1.407, 3-sigma range 1.320\n",
            "fc1 min -0.433, max 0.396, mean 0.003, 3-sigma (-0.553, 0.558), max-min 0.828, 3-sigma range 1.112\n"
          ],
          "name": "stdout"
        },
        {
          "output_type": "display_data",
          "data": {
            "image/png": "[encoded data removed]",
            "text/plain": [
              "<Figure size 432x288 with 1 Axes>"
            ]
          },
          "metadata": {
            "tags": [],
            "needs_background": "light"
          }
        },
        {
          "output_type": "display_data",
          "data": {
            "image/png": "[encoded data removed]",
            "text/plain": [
              "<Figure size 432x288 with 1 Axes>"
            ]
          },
          "metadata": {
            "tags": [],
            "needs_background": "light"
          }
        },
        {
          "output_type": "display_data",
          "data": {
            "image/png": "[encoded data removed]",
            "text/plain": [
              "<Figure size 432x288 with 1 Axes>"
            ]
          },
          "metadata": {
            "tags": [],
            "needs_background": "light"
          }
        }
      ]
    },
    {
      "cell_type": "markdown",
      "metadata": {
        "id": "2hKjshaHD11m"
      },
      "source": [
        "# Part 2: Quantize Weights"
      ]
    },
    {
      "cell_type": "code",
      "metadata": {
        "id": "qXNk1fXuPGjB"
      },
      "source": [
        "net_q2 = copy_model(net)"
      ],
      "execution_count": 14,
      "outputs": []
    },
    {
      "cell_type": "code",
      "metadata": {
        "id": "GIBrqSFrVi5x"
      },
      "source": [
        "from typing import Tuple\n",
        "\n",
        "def quantized_weights(weights: torch.Tensor) -> Tuple[torch.Tensor, float]:\n",
        "    '''\n",
        "    Quantize the weights so that all values are integers between -128 and 127.\n",
        "    You may want to use the total range, 3-sigma range, or some other range when\n",
        "    deciding just what factors to scale the float32 values by.\n",
        "\n",
        "    Parameters:\n",
        "    weights (Tensor): The unquantized weights\n",
        "\n",
        "    Returns:\n",
        "    (Tensor, float): A tuple with the following elements:\n",
        "                        * The weights in quantized form, where every value is an integer between -128 and 127.\n",
        "                          The \"dtype\" will still be \"float\", but the values themselves should all be integers.\n",
        "                        * The scaling factor that your weights were multiplied by.\n",
        "                          This value does not need to be an 8-bit integer.\n",
        "    '''\n",
        "\n",
        "    # ADD YOUR CODE HERE\n",
        "    # std = weights.std()\n",
        "    absmax = weights.abs().max()\n",
        "    # scale = 127 / (3 * std)  # 3-sigma\n",
        "    scale = 127 / absmax\n",
        "    result = (weights * scale).round()\n",
        "    #return torch.clamp(result, min=-128, max=127), scale\n",
        "    return result, scale"
      ],
      "execution_count": 15,
      "outputs": []
    },
    {
      "cell_type": "code",
      "metadata": {
        "id": "orOwTnXxU1nb"
      },
      "source": [
        "def quantize_layer_weights(model: nn.Module):\n",
        "    for layer in model.children():\n",
        "        if isinstance(layer, nn.Conv1d) or isinstance(layer, nn.Linear):\n",
        "            q_layer_data, scale = quantized_weights(layer.weight.cpu().data)\n",
        "            q_layer_data = q_layer_data.to(device)\n",
        "\n",
        "            layer.weight.data = q_layer_data\n",
        "            layer.weight.scale = scale\n",
        "\n",
        "            if (q_layer_data < -128).any() or (q_layer_data > 127).any():\n",
        "                raise Exception(\"Quantized weights of {} layer include values out of bounds for an 8-bit signed integer\".format(layer.__class__.__name__))\n",
        "            if (q_layer_data != q_layer_data.round()).any():\n",
        "                raise Exception(\"Quantized weights of {} layer include non-integer values\".format(layer.__class__.__name__))\n",
        "\n",
        "quantize_layer_weights(net_q2)"
      ],
      "execution_count": 16,
      "outputs": []
    },
    {
      "cell_type": "code",
      "metadata": {
        "id": "wE3HqeBKVoYR",
        "colab": {
          "base_uri": "https://localhost:8080/"
        },
        "outputId": "ae2bf11b-e12e-4e69-b334-24ee7dede2b8"
      },
      "source": [
        "score = test(net_q2, trainloader)\n",
        "print('Accuracy of the network after quantizing all weights (train): {}%'.format(score))\n",
        "score = test(net_q2, testloader)\n",
        "print('Accuracy of the network after quantizing all weights (test): {}%'.format(score))"
      ],
      "execution_count": 17,
      "outputs": [
        {
          "output_type": "stream",
          "text": [
            "Accuracy of the network after quantizing all weights (train): 98.78506737353656%\n",
            "Accuracy of the network after quantizing all weights (test): 97.6805831676607%\n"
          ],
          "name": "stdout"
        }
      ]
    },
    {
      "cell_type": "code",
      "metadata": {
        "id": "EsXmu8AZg41F",
        "colab": {
          "base_uri": "https://localhost:8080/"
        },
        "outputId": "3b435f8d-8d70-429b-e0d4-8e929b77491e"
      },
      "source": [
        "net_q2.conv1.weight.data.cpu().numpy().min()"
      ],
      "execution_count": 18,
      "outputs": [
        {
          "output_type": "execute_result",
          "data": {
            "text/plain": [
              "-127.0"
            ]
          },
          "metadata": {
            "tags": []
          },
          "execution_count": 18
        }
      ]
    },
    {
      "cell_type": "markdown",
      "metadata": {
        "id": "xg7bfTF1bBVe"
      },
      "source": [
        "# Part 3: Visualize Activations"
      ]
    },
    {
      "cell_type": "code",
      "metadata": {
        "id": "HP587b0QYxe9"
      },
      "source": [
        "def register_activation_profiling_hooks(model: Net):\n",
        "    model.input_activations = np.empty(0)\n",
        "    model.conv1.activations = np.empty(0)\n",
        "    model.conv2.activations = np.empty(0)\n",
        "    model.fc1.activations = np.empty(0)\n",
        "\n",
        "    model.profile_activations = True\n",
        "\n",
        "    def conv1_activations_hook(layer, x, y):\n",
        "        if model.profile_activations:\n",
        "            model.input_activations = np.append(model.input_activations, x[0].cpu().flatten())\n",
        "    model.conv1.register_forward_hook(conv1_activations_hook)\n",
        "\n",
        "    def conv2_activations_hook(layer, x, y):\n",
        "        if model.profile_activations:\n",
        "            model.conv1.activations = np.append(model.conv1.activations, x[0].cpu().flatten())\n",
        "    model.conv2.register_forward_hook(conv2_activations_hook)\n",
        "\n",
        "    def fc1_activations_hook(layer, x, y):\n",
        "        if model.profile_activations:\n",
        "            model.conv2.activations = np.append(model.conv2.activations, x[0].cpu().flatten())\n",
        "            model.fc1.activations = np.append(model.fc1.activations, y[0].cpu().flatten())\n",
        "    model.fc1.register_forward_hook(fc1_activations_hook)"
      ],
      "execution_count": 19,
      "outputs": []
    },
    {
      "cell_type": "code",
      "metadata": {
        "id": "PVvPCIoabLC7"
      },
      "source": [
        "net_q3 = copy_model(net)\n",
        "register_activation_profiling_hooks(net_q3)\n",
        "\n",
        "# Run through the training dataset again while profiling the input and output activations this time\n",
        "# We don't actually have to perform gradient descent for this, so we can use the \"test\" function\n",
        "test(net_q3, trainloader, max_samples=400)\n",
        "net_q3.profile_activations = False"
      ],
      "execution_count": 20,
      "outputs": []
    },
    {
      "cell_type": "code",
      "metadata": {
        "id": "m1HnYsuAMoxP"
      },
      "source": [
        "input_activations = net_q3.input_activations\n",
        "conv1_output_activations = net_q3.conv1.activations\n",
        "conv2_output_activations = net_q3.conv2.activations\n",
        "fc1_output_activations = net_q3.fc1.activations"
      ],
      "execution_count": 21,
      "outputs": []
    },
    {
      "cell_type": "code",
      "metadata": {
        "id": "AEo8VK46bwjn",
        "colab": {
          "base_uri": "https://localhost:8080/",
          "height": 1000
        },
        "outputId": "2a2cbd3a-a0b0-4f6c-a2bf-e7b7dbfde41e"
      },
      "source": [
        "# ADD YOUR CODE HERE to plot distributions of activations\n",
        "\n",
        "def show_weight_dist(data, title):\n",
        "    plt.figure()\n",
        "    plt.hist(data, 100)\n",
        "    plt.title(title)\n",
        "    min = data.min()\n",
        "    max = data.max()\n",
        "    mean = data.mean()\n",
        "    std = data.std()\n",
        "    #plt.axvline(mean - 3*std)\n",
        "    plt.axvline(mean + 3*std)\n",
        "    print('{} min {:.03f}, max {:.03f}, mean'.format(title, min, max) +\n",
        "          ' {:.03f}, 3-sigma ({:.03f}, {:.03f})'.format(mean, mean - 3*std, mean + 3*std) +\n",
        "          ', max-min {:.03f}, 3-sigma range {:.03f}'.format(max - min, 6*std))\n",
        "\n",
        "show_weight_dist(input_activations, 'input')\n",
        "show_weight_dist(conv1_output_activations, 'conv1')\n",
        "show_weight_dist(conv2_output_activations, 'conv2')\n",
        "show_weight_dist(fc1_output_activations, 'fc1')\n",
        "\n",
        "# Plot histograms of the following variables, and calculate their ranges and 3-sigma ranges:\n",
        "#   input_activations\n",
        "#   conv1_output_activations\n",
        "#   conv2_output_activations\n",
        "#   fc1_output_activations\n"
      ],
      "execution_count": 22,
      "outputs": [
        {
          "output_type": "stream",
          "text": [
            "input min -4.885, max 6.131, mean 0.000, 3-sigma (-3.001, 3.001), max-min 11.016, 3-sigma range 6.002\n",
            "conv1 min 0.000, max 9.238, mean 0.819, 3-sigma (-2.272, 3.911), max-min 9.238, 3-sigma range 6.183\n",
            "conv2 min 0.000, max 3.595, mean 0.164, 3-sigma (-0.982, 1.310), max-min 3.595, 3-sigma range 2.292\n",
            "fc1 min -5.922, max 5.655, mean 0.032, 3-sigma (-9.108, 9.172), max-min 11.576, 3-sigma range 18.280\n"
          ],
          "name": "stdout"
        },
        {
          "output_type": "display_data",
          "data": {
            "image/png": "[encoded data removed]",
            "text/plain": [
              "<Figure size 432x288 with 1 Axes>"
            ]
          },
          "metadata": {
            "tags": [],
            "needs_background": "light"
          }
        },
        {
          "output_type": "display_data",
          "data": {
            "image/png": "[encoded data removed]",
            "text/plain": [
              "<Figure size 432x288 with 1 Axes>"
            ]
          },
          "metadata": {
            "tags": [],
            "needs_background": "light"
          }
        },
        {
          "output_type": "display_data",
          "data": {
            "image/png": "[encoded data removed]",
            "text/plain": [
              "<Figure size 432x288 with 1 Axes>"
            ]
          },
          "metadata": {
            "tags": [],
            "needs_background": "light"
          }
        },
        {
          "output_type": "display_data",
          "data": {
            "image/png": "[encoded data removed]",
            "text/plain": [
              "<Figure size 432x288 with 1 Axes>"
            ]
          },
          "metadata": {
            "tags": [],
            "needs_background": "light"
          }
        }
      ]
    },
    {
      "cell_type": "code",
      "metadata": {
        "id": "r9PUHh4NjKc5"
      },
      "source": [
        ""
      ],
      "execution_count": 22,
      "outputs": []
    },
    {
      "cell_type": "markdown",
      "metadata": {
        "id": "haiPVx4ibEra"
      },
      "source": [
        "# Part 4: Quantize Activations"
      ]
    },
    {
      "cell_type": "code",
      "metadata": {
        "id": "zLjSp7hsXofq"
      },
      "source": [
        "from typing import List\n",
        "\n",
        "class NetQuantized(nn.Module):\n",
        "    def __init__(self, net_with_weights_quantized: nn.Module):\n",
        "        super(NetQuantized, self).__init__()\n",
        "        \n",
        "        net_init = copy_model(net_with_weights_quantized)\n",
        "\n",
        "        self.conv1 = net_init.conv1\n",
        "        self.pool = net_init.pool\n",
        "        self.conv2 = net_init.conv2\n",
        "        self.fc1 = net_init.fc1\n",
        "\n",
        "        for layer in self.conv1, self.conv2, self.fc1:\n",
        "            def pre_hook(l, x):\n",
        "                x = x[0]\n",
        "                if (x < -128).any() or (x > 127).any():\n",
        "                    raise Exception(\"Input to {} layer is out of bounds for an 8-bit signed integer\".format(l.__class__.__name__))\n",
        "                if (x != x.round()).any():\n",
        "                    raise Exception(\"Input to {} layer has non-integer values\".format(l.__class__.__name__))\n",
        "\n",
        "            layer.register_forward_pre_hook(pre_hook)\n",
        "\n",
        "        # Calculate the scaling factor for the initial input to the CNN\n",
        "        self.input_activations = net_with_weights_quantized.input_activations\n",
        "        self.input_scale = NetQuantized.quantize_initial_input(self.input_activations)\n",
        "\n",
        "        # Calculate the output scaling factors for all the layers of the CNN\n",
        "        preceding_layer_scales = []\n",
        "        for layer in self.conv1, self.conv2, self.fc1:\n",
        "            layer.output_scale = NetQuantized.quantize_activations(layer.activations, layer.weight.scale, self.input_scale, preceding_layer_scales)\n",
        "            preceding_layer_scales.append((layer.weight.scale, layer.output_scale))\n",
        "\n",
        "    @staticmethod\n",
        "    def quantize_initial_input(pixels: np.ndarray) -> float:\n",
        "        '''\n",
        "        Calculate a scaling factor for the images that are input to the first layer of the CNN.\n",
        "\n",
        "        Parameters:\n",
        "        pixels (ndarray): The values of all the pixels which were part of the input image during training\n",
        "\n",
        "        Returns:\n",
        "        float: A scaling factor that the input should be multiplied by before being fed into the first layer.\n",
        "               This value does not need to be an 8-bit integer.\n",
        "        '''\n",
        "\n",
        "        # ADD YOUR CODE HERE\n",
        "        absmax = np.abs(pixels).max()\n",
        "        return 127 / absmax\n",
        "\n",
        "    @staticmethod\n",
        "    def quantize_activations(activations: np.ndarray, n_w: float, n_initial_input: float, ns: List[Tuple[float, float]]) -> float:\n",
        "        '''\n",
        "        Calculate a scaling factor to multiply the output of a layer by.\n",
        "\n",
        "        Parameters:\n",
        "        activations (ndarray): The values of all the pixels which have been output by this layer during training\n",
        "        n_w (float): The scale by which the weights of this layer were multiplied as part of the \"quantize_weights\" function you wrote earlier\n",
        "        n_initial_input (float): The scale by which the initial input to the neural network was multiplied\n",
        "        ns ([(float, float)]): A list of tuples, where each tuple represents the \"weight scale\" and \"output scale\" (in that order) for every preceding layer\n",
        "\n",
        "        Returns:\n",
        "        float: A scaling factor that the layer output should be multiplied by before being fed into the first layer.\n",
        "               This value does not need to be an 8-bit integer.\n",
        "        '''\n",
        "\n",
        "        # ADD YOUR CODE HERE\n",
        "        max = activations.max()\n",
        "        product = 1\n",
        "        for prev_scaling in ns:\n",
        "            product *= prev_scaling[0] * prev_scaling[1]\n",
        "        scale = 127 / (n_w * product * n_initial_input * max)  # return this for original output\n",
        "        return 2 ** np.floor(np.log2(scale))  # make scaling a power of 2!\n",
        "\n",
        "    def forward(self, x: torch.Tensor) -> torch.Tensor:\n",
        "        # You can access the output activation scales like this:\n",
        "        #   fc1_output_scale = self.fc1.output_scale\n",
        "\n",
        "        # To make sure that the outputs of each layer are integers between -128 and 127, you may need to use the following functions:\n",
        "        #   * torch.Tensor.round\n",
        "        #   * torch.clamp\n",
        "\n",
        "        # ADD YOUR CODE HERE\n",
        "        x = x.reshape((x.shape[0], 50, 13)).transpose(1, 2)\n",
        "        x = torch.clamp(torch.round(x * self.input_scale), min=-128, max=127)\n",
        "        x = self.pool(torch.clamp(torch.floor(F.relu(self.conv1(x)) * self.conv1.output_scale), min=-128, max=127))\n",
        "        x = self.pool(torch.clamp(torch.floor(F.relu(self.conv2(x)) * self.conv2.output_scale), min=-128, max=127))\n",
        "        x = x.reshape((x.shape[0], 16*13))\n",
        "        #x = torch.clamp(torch.floor(self.fc1(x) * self.fc1.output_scale), min=-128, max=127)\n",
        "        x = self.fc1(x)\n",
        "        return x"
      ],
      "execution_count": 23,
      "outputs": []
    },
    {
      "cell_type": "code",
      "metadata": {
        "id": "13CpHgvE994J",
        "colab": {
          "base_uri": "https://localhost:8080/"
        },
        "outputId": "95ee8257-01cc-4dfe-c86a-6b69de3af53d"
      },
      "source": [
        "# Merge the information from net_q2 and net_q3 together\n",
        "net_init = copy_model(net_q2)\n",
        "net_init.input_activations = deepcopy(net_q3.input_activations)\n",
        "for layer_init, layer_q3 in zip(net_init.children(), net_q3.children()):\n",
        "    if isinstance(layer_init, nn.Conv1d) or isinstance(layer_init, nn.Linear):\n",
        "        layer_init.activations = deepcopy(layer_q3.activations)\n",
        "\n",
        "net_quantized = NetQuantized(net_init)\n",
        "\n",
        "for l in [net_quantized.conv1, net_quantized.conv2, net_quantized.fc1]:\n",
        "    print(np.log2(l.output_scale))"
      ],
      "execution_count": 24,
      "outputs": [
        {
          "output_type": "stream",
          "text": [
            "tensor(-8.)\n",
            "tensor(-6.)\n",
            "tensor(-9.)\n"
          ],
          "name": "stdout"
        }
      ]
    },
    {
      "cell_type": "code",
      "metadata": {
        "colab": {
          "base_uri": "https://localhost:8080/"
        },
        "id": "Ur6Rckyjy7tS",
        "outputId": "7dd26768-0f56-41e0-db8e-518f86ee8f84"
      },
      "source": [
        "score = test(net_quantized, trainloader)\n",
        "print('Accuracy of the network after quantizing activations (train): {}%'.format(score))\n",
        "score = test(net_quantized, testloader)\n",
        "print('Accuracy of the network after quantizing activations (test): {}%'.format(score))"
      ],
      "execution_count": 25,
      "outputs": [
        {
          "output_type": "stream",
          "text": [
            "Accuracy of the network after quantizing activations (train): 98.85133642588912%\n",
            "Accuracy of the network after quantizing activations (test): 97.74685222001325%\n"
          ],
          "name": "stdout"
        }
      ]
    },
    {
      "cell_type": "code",
      "metadata": {
        "id": "SpnyPRxzyNc8"
      },
      "source": [
        ""
      ],
      "execution_count": 25,
      "outputs": []
    },
    {
      "cell_type": "markdown",
      "metadata": {
        "id": "1jTOL7scbMs7"
      },
      "source": [
        "# Part 5: Quantize Biases"
      ]
    },
    {
      "cell_type": "code",
      "metadata": {
        "id": "6JI3f00ZdVKM"
      },
      "source": [
        "class NetWithBias(nn.Module):\n",
        "    def __init__(self):\n",
        "        super(NetWithBias, self).__init__()\n",
        "        self.conv1 = nn.Conv1d(13, 8, 3, padding=1, bias=True)\n",
        "        self.pool = nn.MaxPool1d(2, 2, ceil_mode=True)\n",
        "        self.dropout = nn.Dropout(0.25)\n",
        "        self.conv2 = nn.Conv1d(8, 16, 3, padding=1, bias=True)\n",
        "        self.fc1 = nn.Linear(16 * 13, 2, bias=True)\n",
        "\n",
        "    def forward(self, x: torch.Tensor) -> torch.Tensor:\n",
        "        x = x.reshape((x.shape[0], 50, 13)).transpose(1, 2)\n",
        "        x = self.pool(F.relu(self.conv1(x)))\n",
        "        x = self.dropout(x)\n",
        "        x = self.pool(F.relu(self.conv2(x)))\n",
        "        x = self.dropout(x)\n",
        "        x = x.reshape((x.shape[0], 16*13))\n",
        "        x = self.fc1(x)\n",
        "        return x\n",
        "\n",
        "net_with_bias = NetWithBias().to(device)"
      ],
      "execution_count": 26,
      "outputs": []
    },
    {
      "cell_type": "code",
      "metadata": {
        "id": "wjk3hEQaVDpq",
        "colab": {
          "base_uri": "https://localhost:8080/"
        },
        "outputId": "f7b0b4ac-2978-4423-91f2-fa597af9dfac"
      },
      "source": [
        "train(net_with_bias, trainloader)"
      ],
      "execution_count": 27,
      "outputs": [
        {
          "output_type": "stream",
          "text": [
            "[10] loss: 62.138\n",
            "[20] loss: 38.561\n",
            "[30] loss: 28.431\n",
            "[40] loss: 23.876\n",
            "[50] loss: 20.896\n",
            "[60] loss: 20.488\n",
            "[70] loss: 18.399\n",
            "[80] loss: 18.213\n",
            "[90] loss: 17.099\n",
            "[100] loss: 16.536\n",
            "[110] loss: 15.703\n",
            "[120] loss: 16.340\n",
            "[130] loss: 15.088\n",
            "[140] loss: 14.985\n",
            "[150] loss: 14.614\n",
            "[160] loss: 14.366\n",
            "[170] loss: 14.264\n",
            "[180] loss: 13.663\n",
            "[190] loss: 13.873\n",
            "[200] loss: 13.866\n",
            "[210] loss: 13.141\n",
            "[220] loss: 12.758\n",
            "[230] loss: 13.170\n",
            "[240] loss: 11.777\n",
            "[250] loss: 11.640\n",
            "[260] loss: 12.395\n",
            "[270] loss: 12.166\n",
            "[280] loss: 11.114\n",
            "[290] loss: 12.458\n",
            "[300] loss: 11.189\n",
            "[310] loss: 11.802\n",
            "[320] loss: 12.069\n",
            "[330] loss: 10.944\n",
            "[340] loss: 12.660\n",
            "[350] loss: 11.461\n",
            "[360] loss: 11.260\n",
            "[370] loss: 10.928\n",
            "[380] loss: 11.372\n",
            "[390] loss: 10.166\n",
            "[400] loss: 11.722\n",
            "[410] loss: 9.755\n",
            "[420] loss: 11.386\n",
            "[430] loss: 10.649\n",
            "[440] loss: 10.041\n",
            "[450] loss: 11.278\n",
            "[460] loss: 10.449\n",
            "[470] loss: 10.801\n",
            "[480] loss: 10.840\n",
            "[490] loss: 9.968\n",
            "[500] loss: 9.418\n",
            "Finished Training\n"
          ],
          "name": "stdout"
        }
      ]
    },
    {
      "cell_type": "code",
      "metadata": {
        "colab": {
          "base_uri": "https://localhost:8080/"
        },
        "id": "M9ohsZVmdpGm",
        "outputId": "57569991-df3a-46b9-e3a3-8d934dc25e21"
      },
      "source": [
        "score = test(net_with_bias, trainloader)\n",
        "print('Accuracy of the network with bias (train): {}%'.format(score))\n",
        "score = test(net_with_bias, testloader)\n",
        "print('Accuracy of the network with bias (test): {}%'.format(score))"
      ],
      "execution_count": 28,
      "outputs": [
        {
          "output_type": "stream",
          "text": [
            "Accuracy of the network with bias (train): 99.13850231941683%\n",
            "Accuracy of the network with bias (test): 98.07819748177602%\n"
          ],
          "name": "stdout"
        }
      ]
    },
    {
      "cell_type": "code",
      "metadata": {
        "id": "U_ZiJk6yEEM-"
      },
      "source": [
        "register_activation_profiling_hooks(net_with_bias)\n",
        "test(net_with_bias, trainloader, max_samples=400)\n",
        "net_with_bias.profile_activations = False"
      ],
      "execution_count": 29,
      "outputs": []
    },
    {
      "cell_type": "code",
      "metadata": {
        "id": "yZwk8KLtAUAM",
        "colab": {
          "base_uri": "https://localhost:8080/"
        },
        "outputId": "883a352a-f4f3-4cf8-956d-0d4c0b5399c2"
      },
      "source": [
        "net_with_bias_with_quantized_weights = copy_model(net_with_bias)\n",
        "quantize_layer_weights(net_with_bias_with_quantized_weights)\n",
        "\n",
        "score = test(net_with_bias_with_quantized_weights, trainloader)\n",
        "print('Accuracy of the network on the train images after all the weights are quantized but the bias isn\\'t: {}%'.format(score))\n",
        "score = test(net_with_bias_with_quantized_weights, testloader)\n",
        "print('Accuracy of the network on the test images after all the weights are quantized but the bias isn\\'t: {}%'.format(score))"
      ],
      "execution_count": 30,
      "outputs": [
        {
          "output_type": "stream",
          "text": [
            "Accuracy of the network on the train images after all the weights are quantized but the bias isn't: 58.47139385906782%\n",
            "Accuracy of the network on the test images after all the weights are quantized but the bias isn't: 58.316766070245194%\n"
          ],
          "name": "stdout"
        }
      ]
    },
    {
      "cell_type": "code",
      "metadata": {
        "id": "mO2Gdu_tEZ4v"
      },
      "source": [
        "class NetQuantizedWithBias(NetQuantized):\n",
        "    def __init__(self, net_with_weights_quantized: nn.Module):\n",
        "        super(NetQuantizedWithBias, self).__init__(net_with_weights_quantized)\n",
        "\n",
        "\n",
        "        for i, l in enumerate([self.conv1, self.conv2, self.fc1]):\n",
        "            preceding_scales = [(layer.weight.scale, layer.output_scale) for layer in self.children() if isinstance(layer, nn.Conv1d) or isinstance(layer, nn.Linear)][:i]\n",
        "\n",
        "            l.bias.data = NetQuantizedWithBias.quantized_bias(\n",
        "                l.bias.data,\n",
        "                l.weight.scale,\n",
        "                self.input_scale,\n",
        "                preceding_scales\n",
        "            )\n",
        "\n",
        "            if (l.bias.data < -2147483648).any() or (l.bias.data > 2147483647).any():\n",
        "                raise Exception(\"Bias has values which are out of bounds for an 32-bit signed integer\")\n",
        "            if (l.bias.data != l.bias.data.round()).any():\n",
        "                raise Exception(\"Bias has non-integer values\")\n",
        "\n",
        "    @staticmethod\n",
        "    def quantized_bias(bias: torch.Tensor, n_w: float, n_initial_input: float, ns: List[Tuple[float, float]]) -> torch.Tensor:\n",
        "        '''\n",
        "        Quantize the bias so that all values are integers between -2147483648 and 2147483647.\n",
        "\n",
        "        Parameters:\n",
        "        bias (Tensor): The floating point values of the bias\n",
        "        n_w (float): The scale by which the weights of this layer were multiplied\n",
        "        n_initial_input (float): The scale by which the initial input to the neural network was multiplied\n",
        "        ns ([(float, float)]): A list of tuples, where each tuple represents the \"weight scale\" and \"output scale\" (in that order) for every preceding layer\n",
        "\n",
        "        Returns:\n",
        "        Tensor: The bias in quantized form, where every value is an integer between -2147483648 and 2147483647.\n",
        "                The \"dtype\" will still be \"float\", but the values themselves should all be integers.\n",
        "        '''\n",
        "\n",
        "        # ADD YOUR CODE HERE\n",
        "        product = 1\n",
        "        for prev_scaling in ns:\n",
        "            product *= prev_scaling[0] * prev_scaling[1]\n",
        "        scale = (n_w * product * n_initial_input)\n",
        "        return (bias * scale).round()\n",
        "        #return torch.clamp((bias * 2.5).round(), min=-2147483648, max=2147483647)"
      ],
      "execution_count": 31,
      "outputs": []
    },
    {
      "cell_type": "code",
      "metadata": {
        "id": "TA6rXt3Q-zF8"
      },
      "source": [
        "net_quantized_with_bias = NetQuantizedWithBias(net_with_bias_with_quantized_weights)"
      ],
      "execution_count": 32,
      "outputs": []
    },
    {
      "cell_type": "code",
      "metadata": {
        "colab": {
          "base_uri": "https://localhost:8080/"
        },
        "id": "b9ho_iCwfVoG",
        "outputId": "57ed8bcd-b15a-4eb8-b139-1a40ff94e747"
      },
      "source": [
        "score = test(net_quantized_with_bias, trainloader)\n",
        "print('Accuracy of the network with quantized weights and bias (train): {}%'.format(score))\n",
        "score = test(net_quantized_with_bias, testloader)\n",
        "print('Accuracy of the network with quantized weights and bias (test): {}%'.format(score))"
      ],
      "execution_count": 33,
      "outputs": [
        {
          "output_type": "stream",
          "text": [
            "Accuracy of the network with quantized weights and bias (train): 99.20477137176938%\n",
            "Accuracy of the network with quantized weights and bias (test): 98.01192842942346%\n"
          ],
          "name": "stdout"
        }
      ]
    },
    {
      "cell_type": "code",
      "metadata": {
        "colab": {
          "base_uri": "https://localhost:8080/"
        },
        "id": "0Ga8xxxLhrc_",
        "outputId": "123ecb71-12cb-4ad4-b454-5ed43e8b7747"
      },
      "source": [
        "print('Number of parameters in each layer:')\n",
        "for p in net_quantized_with_bias.parameters():\n",
        "    print(p.numel())"
      ],
      "execution_count": 34,
      "outputs": [
        {
          "output_type": "stream",
          "text": [
            "Number of parameters in each layer:\n",
            "312\n",
            "8\n",
            "384\n",
            "16\n",
            "416\n",
            "2\n"
          ],
          "name": "stdout"
        }
      ]
    },
    {
      "cell_type": "markdown",
      "metadata": {
        "id": "dDriUNRThyQF"
      },
      "source": [
        "# Part 6: Numpy model"
      ]
    },
    {
      "cell_type": "code",
      "metadata": {
        "id": "ZgbtLHSRh3Pd"
      },
      "source": [
        "conv1_weights = net_quantized_with_bias.conv1.weight.data.cpu().numpy().astype(np.int8)\n",
        "conv1_biases = net_quantized_with_bias.conv1.bias.data.cpu().numpy().astype(np.int32)\n",
        "conv2_weights = net_quantized_with_bias.conv2.weight.data.cpu().numpy().astype(np.int8)\n",
        "conv2_biases = net_quantized_with_bias.conv2.bias.data.cpu().numpy().astype(np.int32)\n",
        "fc1_weights = net_quantized_with_bias.fc1.weight.data.cpu().numpy().astype(np.int8)\n",
        "fc1_biases = net_quantized_with_bias.fc1.bias.data.cpu().numpy().astype(np.int32)\n",
        "\n",
        "# transpose the weights so that they match the numpy model\n",
        "conv1_weights = np.transpose(conv1_weights, (2, 1, 0))\n",
        "conv2_weights = np.transpose(conv2_weights, (2, 1, 0))\n",
        "#fc1_weights = np.transpose(fc1_weights, (1, 0))  # works if x is transposed\n",
        "fc1_weights = np.transpose(fc1_weights.reshape(2, 16, 13), (0, 2, 1)).reshape(2, 208).T\n",
        "\n",
        "# get the featuremap scalings\n",
        "input_scale = net_quantized_with_bias.input_scale\n",
        "conv1_output_scale = net_quantized_with_bias.conv1.output_scale\n",
        "conv2_output_scale = net_quantized_with_bias.conv2.output_scale\n",
        "fc1_output_scale = net_quantized_with_bias.fc1.output_scale\n",
        "\n",
        "# bitshifts is the amount that each featuremap is shifted to the right eg: 8 would be a divide by 256\n",
        "bitshifts = -np.log2(np.array([conv1_output_scale, conv2_output_scale, fc1_output_scale])).astype(np.int8)\n",
        "\n",
        "input_scale_arr = np.array(input_scale)  # single element array for input featuremap scaling\n",
        "\n",
        "weights_list = [input_scale_arr, bitshifts,\n",
        "                conv1_weights, conv1_biases,\n",
        "                conv2_weights, conv2_biases,\n",
        "                fc1_weights, fc1_biases]\n",
        "np.savez('parameters_quantized.npz', *weights_list)"
      ],
      "execution_count": 35,
      "outputs": []
    },
    {
      "cell_type": "code",
      "metadata": {
        "colab": {
          "base_uri": "https://localhost:8080/"
        },
        "id": "FIeMZLeW7Fer",
        "outputId": "531fe485-856c-4bc6-e011-a708a7eaea97"
      },
      "source": [
        "weights_archive = np.load('parameters_quantized.npz')\n",
        "weights_list = [weights_archive['arr_{}'.format(i)] for i in range(len(weights_archive))]\n",
        "\n",
        "for weights in weights_list:\n",
        "    print(weights.shape)\n",
        "\n",
        "input_scale = weights_list[0]\n",
        "bitshifts = weights_list[1]\n",
        "conv1_weights = weights_list[2]\n",
        "conv1_biases = weights_list[3]\n",
        "conv2_weights = weights_list[4]\n",
        "conv2_biases = weights_list[5]\n",
        "fc1_weights = weights_list[6]\n",
        "fc1_biases = weights_list[7]"
      ],
      "execution_count": 36,
      "outputs": [
        {
          "output_type": "stream",
          "text": [
            "()\n",
            "(3,)\n",
            "(3, 13, 8)\n",
            "(8,)\n",
            "(3, 8, 16)\n",
            "(16,)\n",
            "(208, 2)\n",
            "(2,)\n"
          ],
          "name": "stdout"
        }
      ]
    },
    {
      "cell_type": "code",
      "metadata": {
        "id": "Dyl-WV3OiRpP"
      },
      "source": [
        "def relu(x):\n",
        "    return np.maximum(x, 0)\n",
        "\n",
        "def conv1d_single_kernel(x, weights, bias):\n",
        "    '''Perform convolution of a input feature map with a single filter and bias.\n",
        "    \n",
        "    featuremap dims are (time, n_coeffs), so (50, 13)\n",
        "    '''\n",
        "    out = np.zeros(x.shape[0], dtype=np.int64)  # output length is the same\n",
        "    x_pad = np.zeros((x.shape[0]+2, x.shape[1]), dtype=np.int64)\n",
        "    x_pad[1:-1,:] = x  # zero padding\n",
        "    for i in range(x.shape[0]):\n",
        "        section = x_pad[i:i+3,:]\n",
        "        out[i] = relu(np.sum(section * weights) + bias)\n",
        "    return out\n",
        "\n",
        "def conv1d_multi_kernel(x, weights, biases):\n",
        "    n_kernels = weights.shape[2]\n",
        "    out = np.zeros((x.shape[0], n_kernels), dtype=np.int64)\n",
        "    for i in range(n_kernels):\n",
        "        kernel = weights[:,:,i]\n",
        "        out[:,i] = conv1d_single_kernel(x, kernel, biases[i])\n",
        "    return out\n",
        "\n",
        "def max_pool_1d(x):\n",
        "    out = np.zeros((int(np.ceil(x.shape[0] / 2)), x.shape[1]), dtype=np.int8)\n",
        "    for j in range(x.shape[1]):\n",
        "        for i in range(int(np.floor(x.shape[0] / 2))):\n",
        "            out[i, j] = np.maximum(x[2*i, j], x[2*i+1, j])\n",
        "        if (x.shape[0] % 2 == 1):\n",
        "            out[-1, j] = x[-1, j]\n",
        "    return out\n",
        "\n",
        "def fc(x, weights, biases):\n",
        "    x = x.flatten()\n",
        "    out = np.matmul(x, weights, dtype=np.int64) + biases\n",
        "    return out\n",
        "\n",
        "def scale_feature_map(x, shift):\n",
        "    '''Scale a featuremap to a byte range given the amount to right shift by.\n",
        "\n",
        "    Since all weight, bias, and activation quantizations are mapped using the full range\n",
        "    of values, there is not any need for clamping the values to the range [-128, 127].\n",
        "    However, it is still useful since the quantization could be changed to not map to the\n",
        "    full range of the unquantized values.\n",
        "    '''\n",
        "    x = np.right_shift(x, shift)\n",
        "    x = np.clip(x, -128, 127)\n",
        "    x = x.astype(np.int8)\n",
        "    return x\n",
        "\n",
        "def get_numpy_pred(features):\n",
        "    out = np.zeros((features.shape[0], 2), dtype=np.int64)\n",
        "    for i in range(features.shape[0]):\n",
        "        # condition input feature map\n",
        "        x = features[i]\n",
        "        x = x.reshape((int(x.size / 13), 13))\n",
        "        x = np.clip(np.round(x * input_scale), -128, 127).astype(np.int8)\n",
        "\n",
        "        # conv1\n",
        "        x = conv1d_multi_kernel(x, conv1_weights, conv1_biases)\n",
        "        x = scale_feature_map(x, bitshifts[0])\n",
        "        x = max_pool_1d(x)\n",
        "\n",
        "        # conv2\n",
        "        x = conv1d_multi_kernel(x, conv2_weights, conv2_biases)\n",
        "        x = scale_feature_map(x, bitshifts[1])\n",
        "        x = max_pool_1d(x)\n",
        "\n",
        "        # fc1\n",
        "        x = fc(x, fc1_weights, fc1_biases)\n",
        "        \n",
        "        out[i] = x\n",
        "    return out"
      ],
      "execution_count": 39,
      "outputs": []
    },
    {
      "cell_type": "code",
      "metadata": {
        "colab": {
          "base_uri": "https://localhost:8080/"
        },
        "id": "rxDv67ZHvR3n",
        "outputId": "2cf969a5-0d62-4cff-f52c-e9dd8634ac2b"
      },
      "source": [
        "numpy_pred = get_numpy_pred(X[:1,:])\n",
        "numpy_pred.shape"
      ],
      "execution_count": 40,
      "outputs": [
        {
          "output_type": "execute_result",
          "data": {
            "text/plain": [
              "(1, 2)"
            ]
          },
          "metadata": {
            "tags": []
          },
          "execution_count": 40
        }
      ]
    },
    {
      "cell_type": "code",
      "metadata": {
        "colab": {
          "base_uri": "https://localhost:8080/"
        },
        "id": "PkgYmJvV7_Fa",
        "outputId": "2a87c450-1b6c-4f20-f822-0f63e19f6576"
      },
      "source": [
        "def get_torch_pred(input):\n",
        "    return net_quantized_with_bias.forward(torch.tensor(input, device=device, dtype=torch.float)).detach().cpu().numpy()\n",
        "\n",
        "torch_pred = get_torch_pred(X[:1,:])\n",
        "torch_pred.shape"
      ],
      "execution_count": 45,
      "outputs": [
        {
          "output_type": "execute_result",
          "data": {
            "text/plain": [
              "(1, 2)"
            ]
          },
          "metadata": {
            "tags": []
          },
          "execution_count": 45
        }
      ]
    },
    {
      "cell_type": "code",
      "metadata": {
        "colab": {
          "base_uri": "https://localhost:8080/"
        },
        "id": "HQPCZMWDRTGi",
        "outputId": "62203893-c83f-4e5d-e730-c7fc341ab117"
      },
      "source": [
        "numpy_pred - torch_pred"
      ],
      "execution_count": 46,
      "outputs": [
        {
          "output_type": "execute_result",
          "data": {
            "text/plain": [
              "array([[0., 0.]])"
            ]
          },
          "metadata": {
            "tags": []
          },
          "execution_count": 46
        }
      ]
    },
    {
      "cell_type": "code",
      "metadata": {
        "colab": {
          "base_uri": "https://localhost:8080/"
        },
        "id": "Rr6r5V359-4s",
        "outputId": "91e85f13-82b2-4ce2-acc3-01fed11a0a61"
      },
      "source": [
        "# compare output for each sample in test data\n",
        "\n",
        "n_err = 0\n",
        "for i in range(Xtest.shape[0]):\n",
        "    numpy_pred = get_numpy_pred(X[i:i+1, :])\n",
        "    torch_pred = get_torch_pred(X[i:i+1, :])\n",
        "    diff = numpy_pred - torch_pred\n",
        "    if np.abs(diff).max() > 1e-9:\n",
        "        n_err += 1\n",
        "        print('Difference between outputs at sample ', i)\n",
        "    if n_err > 10:\n",
        "        break\n",
        "\n",
        "if n_err == 0:\n",
        "    print('No differences between numpy model and torch model!')"
      ],
      "execution_count": 47,
      "outputs": [
        {
          "output_type": "stream",
          "text": [
            "No differences between numpy model and torch model!\n"
          ],
          "name": "stdout"
        }
      ]
    },
    {
      "cell_type": "code",
      "metadata": {
        "id": "36Tsq1QbEyqA"
      },
      "source": [
        ""
      ],
      "execution_count": null,
      "outputs": []
    },
    {
      "cell_type": "code",
      "metadata": {
        "id": "7yXTLUELLMex"
      },
      "source": [
        ""
      ],
      "execution_count": null,
      "outputs": []
    }
  ]
}