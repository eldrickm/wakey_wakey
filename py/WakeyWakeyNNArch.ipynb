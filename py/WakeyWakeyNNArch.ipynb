{
  "nbformat": 4,
  "nbformat_minor": 0,
  "metadata": {
    "colab": {
      "name": "WakeyWakeyNNArch.ipynb",
      "provenance": []
    },
    "kernelspec": {
      "name": "python3",
      "display_name": "Python 3"
    },
    "language_info": {
      "name": "python"
    },
    "accelerator": "GPU"
  },
  "cells": [
    {
      "cell_type": "code",
      "metadata": {
        "id": "hbiiMcdNJI--"
      },
      "source": [
        "import torch\n",
        "import torchvision\n",
        "import torchvision.transforms as transforms\n",
        "import torch.nn as nn\n",
        "import torch.nn.functional as F\n",
        "import torch.optim as optim\n",
        "from torch.utils.data import TensorDataset, DataLoader"
      ],
      "execution_count": 1,
      "outputs": []
    },
    {
      "cell_type": "code",
      "metadata": {
        "id": "A3RF5VmcoUMG"
      },
      "source": [
        "if torch.cuda.is_available():\n",
        "    device = torch.device('cuda')\n",
        "else:\n",
        "    device = torch.device('cpu')"
      ],
      "execution_count": 2,
      "outputs": []
    },
    {
      "cell_type": "code",
      "metadata": {
        "id": "TC8yT1DaxkS0"
      },
      "source": [
        "import numpy as np\n",
        "import requests\n",
        "\n",
        "API_KEY = 'ei_9eedce842a674656748bf65a19f0e2a80cc867cde21a7810354f75a4fb565a3d'\n",
        "\n",
        "#X = (requests.get('https://studio.edgeimpulse.com/v1/api/24007/training/9/x', headers={'x-api-key': API_KEY})).content\n",
        "#Y = (requests.get('https://studio.edgeimpulse.com/v1/api/24007/training/9/y', headers={'x-api-key': API_KEY})).content\n",
        "X = (requests.get('https://studio.edgeimpulse.com/v1/api/24007/dsp-data/3/x/training', headers={'x-api-key': API_KEY})).content\n",
        "Y = (requests.get('https://studio.edgeimpulse.com/v1/api/24007/dsp-data/3/y/training', headers={'x-api-key': API_KEY})).content\n",
        "Xtest = (requests.get('https://studio.edgeimpulse.com/v1/api/24007/dsp-data/3/x/testing', headers={'x-api-key': API_KEY})).content\n",
        "Ytest = (requests.get('https://studio.edgeimpulse.com/v1/api/24007/dsp-data/3/y/testing', headers={'x-api-key': API_KEY})).content\n",
        "with open('x_train.npy', 'wb') as file:\n",
        "    file.write(X)\n",
        "with open('y_train.npy', 'wb') as file:\n",
        "    file.write(Y)\n",
        "with open('x_test.npy', 'wb') as file:\n",
        "    file.write(Xtest)\n",
        "with open('y_test.npy', 'wb') as file:\n",
        "    file.write(Ytest)"
      ],
      "execution_count": 3,
      "outputs": []
    },
    {
      "cell_type": "code",
      "metadata": {
        "id": "u4MbRogAxr9U"
      },
      "source": [
        "X = np.load('x_train.npy')\n",
        "Y = np.load('y_train.npy')[:,0]\n",
        "Xtest = np.load('x_test.npy')\n",
        "Ytest = np.load('y_test.npy')[:,0]"
      ],
      "execution_count": 4,
      "outputs": []
    },
    {
      "cell_type": "code",
      "metadata": {
        "id": "9fL3F-7Rntog"
      },
      "source": [
        "class Net(nn.Module):\n",
        "    def __init__(self):\n",
        "        super(Net, self).__init__()\n",
        "        self.conv1 = nn.Conv1d(13, 8, 3, padding=1, bias=False)\n",
        "        self.pool = nn.MaxPool1d(2, 2, ceil_mode=True)\n",
        "        self.dropout = nn.Dropout(0.25)\n",
        "        self.conv2 = nn.Conv1d(8, 16, 3, padding=1, bias=False)\n",
        "        self.fc1 = nn.Linear(16 * 13, 3, bias=False)\n",
        "\n",
        "    def forward(self, x: torch.Tensor) -> torch.Tensor:\n",
        "        x = x.reshape((x.shape[0], 50, 13)).transpose(1, 2)\n",
        "        x = self.pool(F.relu(self.conv1(x)))\n",
        "        x = self.dropout(x)\n",
        "        x = self.pool(F.relu(self.conv2(x)))\n",
        "        x = self.dropout(x)\n",
        "        x = x.reshape((x.shape[0], 16*13))\n",
        "        x = self.fc1(x)\n",
        "        return x\n",
        "\n",
        "net = Net().to(device)"
      ],
      "execution_count": 5,
      "outputs": []
    },
    {
      "cell_type": "code",
      "metadata": {
        "id": "CzK6ohj5oNCT"
      },
      "source": [
        "batch_size = 32\n",
        "epochs = 500\n",
        "\n",
        "Y_tensor = torch.Tensor(Y-1).type(torch.int64)\n",
        "trainset = TensorDataset(torch.Tensor(X), Y_tensor)\n",
        "trainloader = DataLoader(trainset, batch_size=batch_size)\n",
        "\n",
        "Ytest_tensor = torch.Tensor(Ytest-1).type(torch.int64)\n",
        "testset = TensorDataset(torch.Tensor(Xtest), Ytest_tensor)\n",
        "testloader = DataLoader(testset, batch_size=batch_size)\n",
        "\n",
        "def train(model: nn.Module, dataloader: DataLoader):\n",
        "    model.train()  # turn on dropout layers\n",
        "\n",
        "    criterion = nn.CrossEntropyLoss()\n",
        "    optimizer = optim.SGD(model.parameters(), lr=0.001, momentum=0.9)\n",
        "\n",
        "    for epoch in range(epochs):  # loop over the dataset multiple times\n",
        "\n",
        "        running_loss = 0.0\n",
        "        #for i in range(len(X)):\n",
        "        #    inputs = torch.tensor(X[i,:]).reshape((1, 650))\n",
        "        #    labels = torch.tensor(Y[i] - 1, dtype=torch.int64).reshape(1)\n",
        "        for i, data in enumerate(dataloader, 0):\n",
        "            inputs, labels = data\n",
        "\n",
        "            inputs = inputs.to(device)\n",
        "            labels = labels.to(device)\n",
        "\n",
        "            # zero the parameter gradients\n",
        "            optimizer.zero_grad()\n",
        "\n",
        "            # forward + backward + optimize\n",
        "            outputs = model(inputs)\n",
        "            loss = criterion(outputs, labels)\n",
        "            loss.backward()\n",
        "            optimizer.step()\n",
        "\n",
        "            # print statistics\n",
        "            running_loss += loss.item()\n",
        "            #if i % 2000 == 1999:    # print every 2000 mini-batches\n",
        "        if epoch % 10 == 9:\n",
        "            print('[%d] loss: %.3f' % (epoch + 1, running_loss))\n",
        "\n",
        "    print('Finished Training')\n",
        "\n",
        "def test(model: nn.Module, dataloader: DataLoader, max_samples=None) -> float:\n",
        "    model.eval()  # turn off dropout layers\n",
        "\n",
        "    correct = 0\n",
        "    total = 0\n",
        "    n_inferences = 0\n",
        "\n",
        "    with torch.no_grad():\n",
        "        #for i in range(len(X)):\n",
        "        #    inputs = torch.tensor(X[i,:]).reshape((1, 650))\n",
        "        #    labels = torch.tensor(Y[i]).reshape(1)\n",
        "        for i, data in enumerate(dataloader, 0):\n",
        "            inputs, labels = data\n",
        "\n",
        "            inputs = inputs.to(device)\n",
        "            labels = labels.to(device)\n",
        "\n",
        "            outputs = model(inputs)\n",
        "            _, predicted = torch.max(outputs.data, 1)\n",
        "            total += labels.size(0)\n",
        "            correct += (predicted == labels).sum().item()\n",
        "\n",
        "            if max_samples:\n",
        "                n_inferences += inputs.shape[0]\n",
        "                if n_inferences > max_samples:\n",
        "                    break\n",
        "    \n",
        "    return 100 * correct / total"
      ],
      "execution_count": 6,
      "outputs": []
    },
    {
      "cell_type": "code",
      "metadata": {
        "id": "HixhBHaqtmZU",
        "colab": {
          "base_uri": "https://localhost:8080/"
        },
        "outputId": "8ae27e94-4f7e-46c4-88b2-7b28ebd9c4e7"
      },
      "source": [
        "train(net, trainloader)"
      ],
      "execution_count": 7,
      "outputs": [
        {
          "output_type": "stream",
          "text": [
            "[10] loss: 113.029\n",
            "[20] loss: 97.595\n",
            "[30] loss: 86.946\n",
            "[40] loss: 78.125\n",
            "[50] loss: 69.315\n",
            "[60] loss: 59.536\n",
            "[70] loss: 56.522\n",
            "[80] loss: 47.868\n",
            "[90] loss: 45.654\n",
            "[100] loss: 42.056\n",
            "[110] loss: 39.744\n",
            "[120] loss: 39.364\n",
            "[130] loss: 36.254\n",
            "[140] loss: 33.837\n",
            "[150] loss: 34.910\n",
            "[160] loss: 35.280\n",
            "[170] loss: 32.570\n",
            "[180] loss: 32.215\n",
            "[190] loss: 31.873\n",
            "[200] loss: 30.058\n",
            "[210] loss: 31.125\n",
            "[220] loss: 30.524\n",
            "[230] loss: 29.862\n",
            "[240] loss: 30.206\n",
            "[250] loss: 29.850\n",
            "[260] loss: 29.261\n",
            "[270] loss: 28.280\n",
            "[280] loss: 28.345\n",
            "[290] loss: 28.112\n",
            "[300] loss: 27.726\n",
            "[310] loss: 27.859\n",
            "[320] loss: 27.800\n",
            "[330] loss: 28.416\n",
            "[340] loss: 28.077\n",
            "[350] loss: 27.427\n",
            "[360] loss: 26.939\n",
            "[370] loss: 28.390\n",
            "[380] loss: 26.124\n",
            "[390] loss: 26.818\n",
            "[400] loss: 25.856\n",
            "[410] loss: 27.399\n",
            "[420] loss: 25.134\n",
            "[430] loss: 24.687\n",
            "[440] loss: 25.459\n",
            "[450] loss: 26.472\n",
            "[460] loss: 25.014\n",
            "[470] loss: 24.962\n",
            "[480] loss: 24.954\n",
            "[490] loss: 25.260\n",
            "[500] loss: 25.942\n",
            "Finished Training\n"
          ],
          "name": "stdout"
        }
      ]
    },
    {
      "cell_type": "code",
      "metadata": {
        "id": "y27_n-djuEdz",
        "colab": {
          "base_uri": "https://localhost:8080/"
        },
        "outputId": "7991230e-82f6-487e-9ffb-9bb338c103d3"
      },
      "source": [
        "score = test(net, trainloader)\n",
        "print('Accuracy of the network on the train data: {}%'.format(score))\n",
        "score = test(net, testloader)\n",
        "print('Accuracy of the network on the test data: {}%'.format(score))"
      ],
      "execution_count": 8,
      "outputs": [
        {
          "output_type": "stream",
          "text": [
            "Accuracy of the network on the train data: 96.1357990615512%\n",
            "Accuracy of the network on the test data: 92.22343921139102%\n"
          ],
          "name": "stdout"
        }
      ]
    },
    {
      "cell_type": "code",
      "metadata": {
        "id": "O7l7yQEtNxh5"
      },
      "source": [
        ""
      ],
      "execution_count": 8,
      "outputs": []
    },
    {
      "cell_type": "markdown",
      "metadata": {
        "id": "SQZoEjBSveV8"
      },
      "source": [
        "# Part 1: Visualize Weights"
      ]
    },
    {
      "cell_type": "code",
      "metadata": {
        "id": "ZVWbC5YWT-MU"
      },
      "source": [
        "from copy import deepcopy\n",
        "\n",
        "# A convenience function which we use to copy CNNs\n",
        "def copy_model(model: nn.Module) -> nn.Module:\n",
        "    result = deepcopy(model)\n",
        "\n",
        "    # Copy over the extra metadata we've collected which copy.deepcopy doesn't capture\n",
        "    if hasattr(model, 'input_activations'):\n",
        "        result.input_activations = deepcopy(model.input_activations)\n",
        "\n",
        "    for result_layer, original_layer in zip(result.children(), model.children()):\n",
        "        if isinstance(result_layer, nn.Conv1d) or isinstance(result_layer, nn.Linear):\n",
        "            if hasattr(original_layer.weight, 'scale'):\n",
        "                result_layer.weight.scale = deepcopy(original_layer.weight.scale)\n",
        "            if hasattr(original_layer, 'activations'):\n",
        "                result_layer.activations = deepcopy(original_layer.activations)\n",
        "            if hasattr(original_layer, 'output_scale'):\n",
        "                result_layer.output_scale = deepcopy(original_layer.output_scale)\n",
        "\n",
        "    return result"
      ],
      "execution_count": 9,
      "outputs": []
    },
    {
      "cell_type": "code",
      "metadata": {
        "id": "5qKRX7ply7I2"
      },
      "source": [
        "import matplotlib.pyplot as plt\n",
        "import numpy as np"
      ],
      "execution_count": 10,
      "outputs": []
    },
    {
      "cell_type": "code",
      "metadata": {
        "id": "N2h7zJ8m3GAF",
        "colab": {
          "base_uri": "https://localhost:8080/",
          "height": 0
        },
        "outputId": "10bc97a5-9c2c-459b-f4c8-674343c49d88"
      },
      "source": [
        "# ADD YOUR CODE HERE to plot distributions of weights\n",
        "\n",
        "# You can get a flattened vector of the weights of fc1 like this:\n",
        "#   fc1_weights = net.fc1.weight.data.cpu().view(-1)\n",
        "# Try plotting a histogram of fc1_weights (and the weights of all the other layers as well)\n",
        "\n",
        "def show_weight_dist(layer, title):\n",
        "  weights = layer.weight.data.cpu().view(-1)\n",
        "  plt.figure()\n",
        "  plt.hist(weights, 100)\n",
        "  plt.title(title)\n",
        "  min = weights.min()\n",
        "  max = weights.max()\n",
        "  mean = weights.mean()\n",
        "  std = weights.std()\n",
        "  plt.axvline(mean - 3*std)\n",
        "  plt.axvline(mean + 3*std)\n",
        "  print('{} min {:.03f}, max {:.03f}, mean'.format(title, min, max) +\n",
        "         ' {:.03f}, 3-sigma ({:.03f}, {:.03f})'.format(mean, mean - 3*std, mean + 3*std) +\n",
        "         ', max-min {:.03f}, 3-sigma range {:.03f}'.format(max - min, 6*std))\n",
        "\n",
        "show_weight_dist(net.conv1, 'conv1')\n",
        "show_weight_dist(net.conv2, 'conv2')\n",
        "show_weight_dist(net.fc1, 'fc1')\n",
        "\n",
        "# fc3 has a 3-sigma range that is greater than the max-min, would want to use\n",
        "# max-min as the range and not the 3-sigma one"
      ],
      "execution_count": 11,
      "outputs": [
        {
          "output_type": "stream",
          "text": [
            "conv1 min -1.950, max 1.586, mean -0.014, 3-sigma (-0.924, 0.896), max-min 3.536, 3-sigma range 1.820\n",
            "conv2 min -0.893, max 1.423, mean -0.154, 3-sigma (-1.081, 0.773), max-min 2.315, 3-sigma range 1.854\n",
            "fc1 min -0.832, max 0.822, mean 0.001, 3-sigma (-0.615, 0.617), max-min 1.654, 3-sigma range 1.232\n"
          ],
          "name": "stdout"
        },
        {
          "output_type": "display_data",
          "data": {
            "image/png": "[encoded data removed]",
            "text/plain": [
              "<Figure size 432x288 with 1 Axes>"
            ]
          },
          "metadata": {
            "tags": [],
            "needs_background": "light"
          }
        },
        {
          "output_type": "display_data",
          "data": {
            "image/png": "[encoded data removed]",
            "text/plain": [
              "<Figure size 432x288 with 1 Axes>"
            ]
          },
          "metadata": {
            "tags": [],
            "needs_background": "light"
          }
        },
        {
          "output_type": "display_data",
          "data": {
            "image/png": "[encoded data removed]",
            "text/plain": [
              "<Figure size 432x288 with 1 Axes>"
            ]
          },
          "metadata": {
            "tags": [],
            "needs_background": "light"
          }
        }
      ]
    },
    {
      "cell_type": "markdown",
      "metadata": {
        "id": "2hKjshaHD11m"
      },
      "source": [
        "# Part 2: Quantize Weights"
      ]
    },
    {
      "cell_type": "code",
      "metadata": {
        "id": "qXNk1fXuPGjB"
      },
      "source": [
        "net_q2 = copy_model(net)"
      ],
      "execution_count": 12,
      "outputs": []
    },
    {
      "cell_type": "code",
      "metadata": {
        "id": "GIBrqSFrVi5x"
      },
      "source": [
        "from typing import Tuple\n",
        "\n",
        "def quantized_weights(weights: torch.Tensor) -> Tuple[torch.Tensor, float]:\n",
        "    '''\n",
        "    Quantize the weights so that all values are integers between -128 and 127.\n",
        "    You may want to use the total range, 3-sigma range, or some other range when\n",
        "    deciding just what factors to scale the float32 values by.\n",
        "\n",
        "    Parameters:\n",
        "    weights (Tensor): The unquantized weights\n",
        "\n",
        "    Returns:\n",
        "    (Tensor, float): A tuple with the following elements:\n",
        "                        * The weights in quantized form, where every value is an integer between -128 and 127.\n",
        "                          The \"dtype\" will still be \"float\", but the values themselves should all be integers.\n",
        "                        * The scaling factor that your weights were multiplied by.\n",
        "                          This value does not need to be an 8-bit integer.\n",
        "    '''\n",
        "\n",
        "    # ADD YOUR CODE HERE\n",
        "    # std = weights.std()\n",
        "    absmax = weights.abs().max()\n",
        "    # scale = 127 / (3 * std)  # 3-sigma\n",
        "    scale = 127 / absmax\n",
        "    result = (weights * scale).round()\n",
        "    #return torch.clamp(result, min=-128, max=127), scale\n",
        "    return result, scale"
      ],
      "execution_count": 13,
      "outputs": []
    },
    {
      "cell_type": "code",
      "metadata": {
        "id": "orOwTnXxU1nb"
      },
      "source": [
        "def quantize_layer_weights(model: nn.Module):\n",
        "    for layer in model.children():\n",
        "        if isinstance(layer, nn.Conv1d) or isinstance(layer, nn.Linear):\n",
        "            q_layer_data, scale = quantized_weights(layer.weight.cpu().data)\n",
        "            q_layer_data = q_layer_data.to(device)\n",
        "\n",
        "            layer.weight.data = q_layer_data\n",
        "            layer.weight.scale = scale\n",
        "\n",
        "            if (q_layer_data < -128).any() or (q_layer_data > 127).any():\n",
        "                raise Exception(\"Quantized weights of {} layer include values out of bounds for an 8-bit signed integer\".format(layer.__class__.__name__))\n",
        "            if (q_layer_data != q_layer_data.round()).any():\n",
        "                raise Exception(\"Quantized weights of {} layer include non-integer values\".format(layer.__class__.__name__))\n",
        "\n",
        "quantize_layer_weights(net_q2)"
      ],
      "execution_count": 14,
      "outputs": []
    },
    {
      "cell_type": "code",
      "metadata": {
        "id": "wE3HqeBKVoYR",
        "colab": {
          "base_uri": "https://localhost:8080/"
        },
        "outputId": "aea6049a-afa7-498a-b9d6-c68a9a925dc6"
      },
      "source": [
        "score = test(net_q2, trainloader)\n",
        "print('Accuracy of the network after quantizing all weights (train): {}%'.format(score))\n",
        "score = test(net_q2, testloader)\n",
        "print('Accuracy of the network after quantizing all weights (test): {}%'.format(score))"
      ],
      "execution_count": 15,
      "outputs": [
        {
          "output_type": "stream",
          "text": [
            "Accuracy of the network after quantizing all weights (train): 96.16340049682583%\n",
            "Accuracy of the network after quantizing all weights (test): 91.78532311062432%\n"
          ],
          "name": "stdout"
        }
      ]
    },
    {
      "cell_type": "code",
      "metadata": {
        "id": "EsXmu8AZg41F",
        "colab": {
          "base_uri": "https://localhost:8080/"
        },
        "outputId": "a61e423c-2446-48ff-bb76-1d5746b57dba"
      },
      "source": [
        "net_q2.conv1.weight.data.cpu().numpy().min()"
      ],
      "execution_count": 16,
      "outputs": [
        {
          "output_type": "execute_result",
          "data": {
            "text/plain": [
              "-127.0"
            ]
          },
          "metadata": {
            "tags": []
          },
          "execution_count": 16
        }
      ]
    },
    {
      "cell_type": "markdown",
      "metadata": {
        "id": "xg7bfTF1bBVe"
      },
      "source": [
        "# Part 3: Visualize Activations"
      ]
    },
    {
      "cell_type": "code",
      "metadata": {
        "id": "HP587b0QYxe9"
      },
      "source": [
        "def register_activation_profiling_hooks(model: Net):\n",
        "    model.input_activations = np.empty(0)\n",
        "    model.conv1.activations = np.empty(0)\n",
        "    model.conv2.activations = np.empty(0)\n",
        "    model.fc1.activations = np.empty(0)\n",
        "\n",
        "    model.profile_activations = True\n",
        "\n",
        "    def conv1_activations_hook(layer, x, y):\n",
        "        if model.profile_activations:\n",
        "            model.input_activations = np.append(model.input_activations, x[0].cpu().flatten())\n",
        "    model.conv1.register_forward_hook(conv1_activations_hook)\n",
        "\n",
        "    def conv2_activations_hook(layer, x, y):\n",
        "        if model.profile_activations:\n",
        "            model.conv1.activations = np.append(model.conv1.activations, x[0].cpu().flatten())\n",
        "    model.conv2.register_forward_hook(conv2_activations_hook)\n",
        "\n",
        "    def fc1_activations_hook(layer, x, y):\n",
        "        if model.profile_activations:\n",
        "            model.conv2.activations = np.append(model.conv2.activations, x[0].cpu().flatten())\n",
        "            model.fc1.activations = np.append(model.fc1.activations, y[0].cpu().flatten())\n",
        "    model.fc1.register_forward_hook(fc1_activations_hook)"
      ],
      "execution_count": 17,
      "outputs": []
    },
    {
      "cell_type": "code",
      "metadata": {
        "id": "PVvPCIoabLC7"
      },
      "source": [
        "net_q3 = copy_model(net)\n",
        "register_activation_profiling_hooks(net_q3)\n",
        "\n",
        "# Run through the training dataset again while profiling the input and output activations this time\n",
        "# We don't actually have to perform gradient descent for this, so we can use the \"test\" function\n",
        "test(net_q3, trainloader, max_samples=400)\n",
        "net_q3.profile_activations = False"
      ],
      "execution_count": 18,
      "outputs": []
    },
    {
      "cell_type": "code",
      "metadata": {
        "id": "m1HnYsuAMoxP"
      },
      "source": [
        "input_activations = net_q3.input_activations\n",
        "conv1_output_activations = net_q3.conv1.activations\n",
        "conv2_output_activations = net_q3.conv2.activations\n",
        "fc1_output_activations = net_q3.fc1.activations"
      ],
      "execution_count": 19,
      "outputs": []
    },
    {
      "cell_type": "code",
      "metadata": {
        "id": "AEo8VK46bwjn",
        "colab": {
          "base_uri": "https://localhost:8080/",
          "height": 0
        },
        "outputId": "cb53598b-ebc8-4b17-9f7c-e4a3dcfa57ae"
      },
      "source": [
        "# ADD YOUR CODE HERE to plot distributions of activations\n",
        "\n",
        "def show_weight_dist(data, title):\n",
        "    plt.figure()\n",
        "    plt.hist(data, 100)\n",
        "    plt.title(title)\n",
        "    min = data.min()\n",
        "    max = data.max()\n",
        "    mean = data.mean()\n",
        "    std = data.std()\n",
        "    #plt.axvline(mean - 3*std)\n",
        "    plt.axvline(mean + 3*std)\n",
        "    print('{} min {:.03f}, max {:.03f}, mean'.format(title, min, max) +\n",
        "          ' {:.03f}, 3-sigma ({:.03f}, {:.03f})'.format(mean, mean - 3*std, mean + 3*std) +\n",
        "          ', max-min {:.03f}, 3-sigma range {:.03f}'.format(max - min, 6*std))\n",
        "\n",
        "show_weight_dist(input_activations, 'input')\n",
        "show_weight_dist(conv1_output_activations, 'conv1')\n",
        "show_weight_dist(conv2_output_activations, 'conv2')\n",
        "show_weight_dist(fc1_output_activations, 'fc1')\n",
        "\n",
        "# Plot histograms of the following variables, and calculate their ranges and 3-sigma ranges:\n",
        "#   input_activations\n",
        "#   conv1_output_activations\n",
        "#   conv2_output_activations\n",
        "#   fc1_output_activations\n"
      ],
      "execution_count": 20,
      "outputs": [
        {
          "output_type": "stream",
          "text": [
            "input min -5.670, max 6.084, mean 0.000, 3-sigma (-3.001, 3.001), max-min 11.753, 3-sigma range 6.002\n",
            "conv1 min 0.000, max 9.540, mean 0.962, 3-sigma (-2.880, 4.804), max-min 9.540, 3-sigma range 7.684\n",
            "conv2 min 0.000, max 6.728, mean 0.110, 3-sigma (-1.139, 1.359), max-min 6.728, 3-sigma range 2.498\n",
            "fc1 min -6.047, max 7.004, mean 0.012, 3-sigma (-9.879, 9.904), max-min 13.051, 3-sigma range 19.783\n"
          ],
          "name": "stdout"
        },
        {
          "output_type": "display_data",
          "data": {
            "image/png": "[encoded data removed]",
            "text/plain": [
              "<Figure size 432x288 with 1 Axes>"
            ]
          },
          "metadata": {
            "tags": [],
            "needs_background": "light"
          }
        },
        {
          "output_type": "display_data",
          "data": {
            "image/png": "[encoded data removed]",
            "text/plain": [
              "<Figure size 432x288 with 1 Axes>"
            ]
          },
          "metadata": {
            "tags": [],
            "needs_background": "light"
          }
        },
        {
          "output_type": "display_data",
          "data": {
            "image/png": "[encoded data removed]",
            "text/plain": [
              "<Figure size 432x288 with 1 Axes>"
            ]
          },
          "metadata": {
            "tags": [],
            "needs_background": "light"
          }
        },
        {
          "output_type": "display_data",
          "data": {
            "image/png": "[encoded data removed]",
            "text/plain": [
              "<Figure size 432x288 with 1 Axes>"
            ]
          },
          "metadata": {
            "tags": [],
            "needs_background": "light"
          }
        }
      ]
    },
    {
      "cell_type": "code",
      "metadata": {
        "id": "r9PUHh4NjKc5"
      },
      "source": [
        ""
      ],
      "execution_count": 20,
      "outputs": []
    },
    {
      "cell_type": "markdown",
      "metadata": {
        "id": "haiPVx4ibEra"
      },
      "source": [
        "# Part 4: Quantize Activations"
      ]
    },
    {
      "cell_type": "code",
      "metadata": {
        "id": "zLjSp7hsXofq"
      },
      "source": [
        "from typing import List\n",
        "\n",
        "class NetQuantized(nn.Module):\n",
        "    def __init__(self, net_with_weights_quantized: nn.Module):\n",
        "        super(NetQuantized, self).__init__()\n",
        "        \n",
        "        net_init = copy_model(net_with_weights_quantized)\n",
        "\n",
        "        self.conv1 = net_init.conv1\n",
        "        self.pool = net_init.pool\n",
        "        self.conv2 = net_init.conv2\n",
        "        self.fc1 = net_init.fc1\n",
        "\n",
        "        for layer in self.conv1, self.conv2, self.fc1:\n",
        "            def pre_hook(l, x):\n",
        "                x = x[0]\n",
        "                if (x < -128).any() or (x > 127).any():\n",
        "                    raise Exception(\"Input to {} layer is out of bounds for an 8-bit signed integer\".format(l.__class__.__name__))\n",
        "                if (x != x.round()).any():\n",
        "                    raise Exception(\"Input to {} layer has non-integer values\".format(l.__class__.__name__))\n",
        "\n",
        "            layer.register_forward_pre_hook(pre_hook)\n",
        "\n",
        "        # Calculate the scaling factor for the initial input to the CNN\n",
        "        self.input_activations = net_with_weights_quantized.input_activations\n",
        "        self.input_scale = NetQuantized.quantize_initial_input(self.input_activations)\n",
        "\n",
        "        # Calculate the output scaling factors for all the layers of the CNN\n",
        "        preceding_layer_scales = []\n",
        "        for layer in self.conv1, self.conv2, self.fc1:\n",
        "            layer.output_scale = NetQuantized.quantize_activations(layer.activations, layer.weight.scale, self.input_scale, preceding_layer_scales)\n",
        "            preceding_layer_scales.append((layer.weight.scale, layer.output_scale))\n",
        "\n",
        "    @staticmethod\n",
        "    def quantize_initial_input(pixels: np.ndarray) -> float:\n",
        "        '''\n",
        "        Calculate a scaling factor for the images that are input to the first layer of the CNN.\n",
        "\n",
        "        Parameters:\n",
        "        pixels (ndarray): The values of all the pixels which were part of the input image during training\n",
        "\n",
        "        Returns:\n",
        "        float: A scaling factor that the input should be multiplied by before being fed into the first layer.\n",
        "               This value does not need to be an 8-bit integer.\n",
        "        '''\n",
        "\n",
        "        # ADD YOUR CODE HERE\n",
        "        absmax = np.abs(pixels).max()\n",
        "        return 127 / absmax\n",
        "\n",
        "    @staticmethod\n",
        "    def quantize_activations(activations: np.ndarray, n_w: float, n_initial_input: float, ns: List[Tuple[float, float]]) -> float:\n",
        "        '''\n",
        "        Calculate a scaling factor to multiply the output of a layer by.\n",
        "\n",
        "        Parameters:\n",
        "        activations (ndarray): The values of all the pixels which have been output by this layer during training\n",
        "        n_w (float): The scale by which the weights of this layer were multiplied as part of the \"quantize_weights\" function you wrote earlier\n",
        "        n_initial_input (float): The scale by which the initial input to the neural network was multiplied\n",
        "        ns ([(float, float)]): A list of tuples, where each tuple represents the \"weight scale\" and \"output scale\" (in that order) for every preceding layer\n",
        "\n",
        "        Returns:\n",
        "        float: A scaling factor that the layer output should be multiplied by before being fed into the first layer.\n",
        "               This value does not need to be an 8-bit integer.\n",
        "        '''\n",
        "\n",
        "        # ADD YOUR CODE HERE\n",
        "        max = activations.max()\n",
        "        product = 1\n",
        "        for prev_scaling in ns:\n",
        "            product *= prev_scaling[0] * prev_scaling[1]\n",
        "        scale = 127 / (n_w * product * n_initial_input * max)  # return this for original output\n",
        "        return 2 ** np.floor(np.log2(scale))  # make scaling a power of 2!\n",
        "\n",
        "    def forward(self, x: torch.Tensor) -> torch.Tensor:\n",
        "        # You can access the output activation scales like this:\n",
        "        #   fc1_output_scale = self.fc1.output_scale\n",
        "\n",
        "        # To make sure that the outputs of each layer are integers between -128 and 127, you may need to use the following functions:\n",
        "        #   * torch.Tensor.round\n",
        "        #   * torch.clamp\n",
        "\n",
        "        # ADD YOUR CODE HERE\n",
        "        x = x.reshape((x.shape[0], 50, 13)).transpose(1, 2)\n",
        "        x = torch.clamp(torch.round(x * self.input_scale), min=-128, max=127)\n",
        "        x = self.pool(torch.clamp(torch.floor(F.relu(self.conv1(x)) * self.conv1.output_scale), min=-128, max=127))\n",
        "        x = self.pool(torch.clamp(torch.floor(F.relu(self.conv2(x)) * self.conv2.output_scale), min=-128, max=127))\n",
        "        x = x.reshape((x.shape[0], 16*13))\n",
        "        #x = torch.clamp(torch.floor(self.fc1(x) * self.fc1.output_scale), min=-128, max=127)\n",
        "        x = self.fc1(x)\n",
        "        return x"
      ],
      "execution_count": 21,
      "outputs": []
    },
    {
      "cell_type": "code",
      "metadata": {
        "id": "13CpHgvE994J",
        "colab": {
          "base_uri": "https://localhost:8080/"
        },
        "outputId": "ef362654-bc78-4f64-de33-ad5159caa58f"
      },
      "source": [
        "# Merge the information from net_q2 and net_q3 together\n",
        "net_init = copy_model(net_q2)\n",
        "net_init.input_activations = deepcopy(net_q3.input_activations)\n",
        "for layer_init, layer_q3 in zip(net_init.children(), net_q3.children()):\n",
        "    if isinstance(layer_init, nn.Conv1d) or isinstance(layer_init, nn.Linear):\n",
        "        layer_init.activations = deepcopy(layer_q3.activations)\n",
        "\n",
        "net_quantized = NetQuantized(net_init)\n",
        "\n",
        "for l in [net_quantized.conv1, net_quantized.conv2, net_quantized.fc1]:\n",
        "    print(np.log2(l.output_scale))"
      ],
      "execution_count": 22,
      "outputs": [
        {
          "output_type": "stream",
          "text": [
            "tensor(-7.)\n",
            "tensor(-6.)\n",
            "tensor(-7.)\n"
          ],
          "name": "stdout"
        }
      ]
    },
    {
      "cell_type": "code",
      "metadata": {
        "colab": {
          "base_uri": "https://localhost:8080/"
        },
        "id": "Ur6Rckyjy7tS",
        "outputId": "71907ee3-895d-4da2-8b76-a36659131ad8"
      },
      "source": [
        "score = test(net_quantized, trainloader)\n",
        "print('Accuracy of the network after quantizing activations (train): {}%'.format(score))\n",
        "score = test(net_quantized, testloader)\n",
        "print('Accuracy of the network after quantizing activations (test): {}%'.format(score))"
      ],
      "execution_count": 23,
      "outputs": [
        {
          "output_type": "stream",
          "text": [
            "Accuracy of the network after quantizing all weights (train): 96.21860336737511%\n",
            "Accuracy of the network after quantizing all weights (test): 92.00438116100767%\n"
          ],
          "name": "stdout"
        }
      ]
    },
    {
      "cell_type": "code",
      "metadata": {
        "id": "SpnyPRxzyNc8"
      },
      "source": [
        ""
      ],
      "execution_count": 23,
      "outputs": []
    },
    {
      "cell_type": "markdown",
      "metadata": {
        "id": "1jTOL7scbMs7"
      },
      "source": [
        "# Part 5: Quantize Biases"
      ]
    },
    {
      "cell_type": "code",
      "metadata": {
        "id": "6JI3f00ZdVKM"
      },
      "source": [
        "class NetWithBias(nn.Module):\n",
        "    def __init__(self):\n",
        "        super(NetWithBias, self).__init__()\n",
        "        self.conv1 = nn.Conv1d(13, 8, 3, padding=1, bias=True)\n",
        "        self.pool = nn.MaxPool1d(2, 2, ceil_mode=True)\n",
        "        self.dropout = nn.Dropout(0.25)\n",
        "        self.conv2 = nn.Conv1d(8, 16, 3, padding=1, bias=True)\n",
        "        self.fc1 = nn.Linear(16 * 13, 3, bias=True)\n",
        "\n",
        "    def forward(self, x: torch.Tensor) -> torch.Tensor:\n",
        "        x = x.reshape((x.shape[0], 50, 13)).transpose(1, 2)\n",
        "        x = self.pool(F.relu(self.conv1(x)))\n",
        "        x = self.dropout(x)\n",
        "        x = self.pool(F.relu(self.conv2(x)))\n",
        "        x = self.dropout(x)\n",
        "        x = x.reshape((x.shape[0], 16*13))\n",
        "        x = self.fc1(x)\n",
        "        return x\n",
        "\n",
        "net_with_bias = NetWithBias().to(device)"
      ],
      "execution_count": 24,
      "outputs": []
    },
    {
      "cell_type": "code",
      "metadata": {
        "id": "wjk3hEQaVDpq",
        "colab": {
          "base_uri": "https://localhost:8080/"
        },
        "outputId": "837c35a4-7110-460b-b47a-504e8530940f"
      },
      "source": [
        "train(net_with_bias, trainloader)"
      ],
      "execution_count": 25,
      "outputs": [
        {
          "output_type": "stream",
          "text": [
            "[10] loss: 126.443\n",
            "[20] loss: 106.172\n",
            "[30] loss: 89.175\n",
            "[40] loss: 80.771\n",
            "[50] loss: 72.018\n",
            "[60] loss: 62.697\n",
            "[70] loss: 55.255\n",
            "[80] loss: 48.167\n",
            "[90] loss: 45.020\n",
            "[100] loss: 42.944\n",
            "[110] loss: 39.401\n",
            "[120] loss: 36.430\n",
            "[130] loss: 35.194\n",
            "[140] loss: 34.104\n",
            "[150] loss: 32.663\n",
            "[160] loss: 32.012\n",
            "[170] loss: 32.102\n",
            "[180] loss: 30.419\n",
            "[190] loss: 30.162\n",
            "[200] loss: 26.605\n",
            "[210] loss: 29.479\n",
            "[220] loss: 28.163\n",
            "[230] loss: 28.205\n",
            "[240] loss: 29.480\n",
            "[250] loss: 28.298\n",
            "[260] loss: 25.609\n",
            "[270] loss: 27.199\n",
            "[280] loss: 26.343\n",
            "[290] loss: 26.377\n",
            "[300] loss: 25.239\n",
            "[310] loss: 26.092\n",
            "[320] loss: 25.521\n",
            "[330] loss: 25.459\n",
            "[340] loss: 26.000\n",
            "[350] loss: 24.440\n",
            "[360] loss: 26.126\n",
            "[370] loss: 24.146\n",
            "[380] loss: 23.832\n",
            "[390] loss: 25.736\n",
            "[400] loss: 24.026\n",
            "[410] loss: 22.561\n",
            "[420] loss: 23.497\n",
            "[430] loss: 24.554\n",
            "[440] loss: 23.824\n",
            "[450] loss: 23.278\n",
            "[460] loss: 22.920\n",
            "[470] loss: 23.491\n",
            "[480] loss: 24.620\n",
            "[490] loss: 23.988\n",
            "[500] loss: 22.573\n",
            "Finished Training\n"
          ],
          "name": "stdout"
        }
      ]
    },
    {
      "cell_type": "code",
      "metadata": {
        "colab": {
          "base_uri": "https://localhost:8080/"
        },
        "id": "M9ohsZVmdpGm",
        "outputId": "20a56288-97ab-407b-9225-bf6fd5f5ca05"
      },
      "source": [
        "score = test(net_with_bias, trainloader)\n",
        "print('Accuracy of the network with bias (train): {}%'.format(score))\n",
        "score = test(net_with_bias, testloader)\n",
        "print('Accuracy of the network with bias (test): {}%'.format(score))"
      ],
      "execution_count": 26,
      "outputs": [
        {
          "output_type": "stream",
          "text": [
            "Accuracy of the network with bias (train): 96.16340049682583%\n",
            "Accuracy of the network with bias (test): 92.66155531215772%\n"
          ],
          "name": "stdout"
        }
      ]
    },
    {
      "cell_type": "code",
      "metadata": {
        "id": "U_ZiJk6yEEM-"
      },
      "source": [
        "register_activation_profiling_hooks(net_with_bias)\n",
        "test(net_with_bias, trainloader, max_samples=400)\n",
        "net_with_bias.profile_activations = False"
      ],
      "execution_count": 27,
      "outputs": []
    },
    {
      "cell_type": "code",
      "metadata": {
        "id": "yZwk8KLtAUAM",
        "colab": {
          "base_uri": "https://localhost:8080/"
        },
        "outputId": "44492ced-c5fc-4838-8c77-cafd58c351b0"
      },
      "source": [
        "net_with_bias_with_quantized_weights = copy_model(net_with_bias)\n",
        "quantize_layer_weights(net_with_bias_with_quantized_weights)\n",
        "\n",
        "score = test(net_with_bias_with_quantized_weights, trainloader)\n",
        "print('Accuracy of the network on the train images after all the weights are quantized but the bias isn\\'t: {}%'.format(score))\n",
        "score = test(net_with_bias_with_quantized_weights, testloader)\n",
        "print('Accuracy of the network on the test images after all the weights are quantized but the bias isn\\'t: {}%'.format(score))"
      ],
      "execution_count": 28,
      "outputs": [
        {
          "output_type": "stream",
          "text": [
            "Accuracy of the network on the train images after all the weights are quantized but the bias isn't: 54.98205906707149%\n",
            "Accuracy of the network on the test images after all the weights are quantized but the bias isn't: 55.75027382256298%\n"
          ],
          "name": "stdout"
        }
      ]
    },
    {
      "cell_type": "code",
      "metadata": {
        "id": "mO2Gdu_tEZ4v"
      },
      "source": [
        "class NetQuantizedWithBias(NetQuantized):\n",
        "    def __init__(self, net_with_weights_quantized: nn.Module):\n",
        "        super(NetQuantizedWithBias, self).__init__(net_with_weights_quantized)\n",
        "\n",
        "\n",
        "        for i, l in enumerate([self.conv1, self.conv2, self.fc1]):\n",
        "            preceding_scales = [(layer.weight.scale, layer.output_scale) for layer in self.children() if isinstance(layer, nn.Conv1d) or isinstance(layer, nn.Linear)][:i]\n",
        "\n",
        "            l.bias.data = NetQuantizedWithBias.quantized_bias(\n",
        "                l.bias.data,\n",
        "                l.weight.scale,\n",
        "                self.input_scale,\n",
        "                preceding_scales\n",
        "            )\n",
        "\n",
        "            if (l.bias.data < -2147483648).any() or (l.bias.data > 2147483647).any():\n",
        "                raise Exception(\"Bias has values which are out of bounds for an 32-bit signed integer\")\n",
        "            if (l.bias.data != l.bias.data.round()).any():\n",
        "                raise Exception(\"Bias has non-integer values\")\n",
        "\n",
        "    @staticmethod\n",
        "    def quantized_bias(bias: torch.Tensor, n_w: float, n_initial_input: float, ns: List[Tuple[float, float]]) -> torch.Tensor:\n",
        "        '''\n",
        "        Quantize the bias so that all values are integers between -2147483648 and 2147483647.\n",
        "\n",
        "        Parameters:\n",
        "        bias (Tensor): The floating point values of the bias\n",
        "        n_w (float): The scale by which the weights of this layer were multiplied\n",
        "        n_initial_input (float): The scale by which the initial input to the neural network was multiplied\n",
        "        ns ([(float, float)]): A list of tuples, where each tuple represents the \"weight scale\" and \"output scale\" (in that order) for every preceding layer\n",
        "\n",
        "        Returns:\n",
        "        Tensor: The bias in quantized form, where every value is an integer between -2147483648 and 2147483647.\n",
        "                The \"dtype\" will still be \"float\", but the values themselves should all be integers.\n",
        "        '''\n",
        "\n",
        "        # ADD YOUR CODE HERE\n",
        "        product = 1\n",
        "        for prev_scaling in ns:\n",
        "            product *= prev_scaling[0] * prev_scaling[1]\n",
        "        scale = (n_w * product * n_initial_input)\n",
        "        return (bias * scale).round()\n",
        "        #return torch.clamp((bias * 2.5).round(), min=-2147483648, max=2147483647)"
      ],
      "execution_count": 29,
      "outputs": []
    },
    {
      "cell_type": "code",
      "metadata": {
        "id": "TA6rXt3Q-zF8"
      },
      "source": [
        "net_quantized_with_bias = NetQuantizedWithBias(net_with_bias_with_quantized_weights)"
      ],
      "execution_count": 30,
      "outputs": []
    },
    {
      "cell_type": "code",
      "metadata": {
        "colab": {
          "base_uri": "https://localhost:8080/"
        },
        "id": "b9ho_iCwfVoG",
        "outputId": "5443092c-599a-4b0c-eba7-430e1ecb850e"
      },
      "source": [
        "score = test(net_quantized_with_bias, trainloader)\n",
        "print('Accuracy of the network with quantized weights and bias (train): {}%'.format(score))\n",
        "score = test(net_quantized_with_bias, testloader)\n",
        "print('Accuracy of the network with quantized weights and bias (test): {}%'.format(score))"
      ],
      "execution_count": 31,
      "outputs": [
        {
          "output_type": "stream",
          "text": [
            "Accuracy of the network with quantized weights and bias (train): 96.0529947557273%\n",
            "Accuracy of the network with quantized weights and bias (test): 92.7710843373494%\n"
          ],
          "name": "stdout"
        }
      ]
    },
    {
      "cell_type": "code",
      "metadata": {
        "colab": {
          "base_uri": "https://localhost:8080/"
        },
        "id": "0Ga8xxxLhrc_",
        "outputId": "da35a418-71ed-4b75-fbf2-6a3fbf658187"
      },
      "source": [
        "print('Number of parameters in each layer:')\n",
        "for p in net_quantized_with_bias.parameters():\n",
        "    print(p.numel())"
      ],
      "execution_count": 94,
      "outputs": [
        {
          "output_type": "stream",
          "text": [
            "Number of parameters in each layer:\n",
            "312\n",
            "8\n",
            "384\n",
            "16\n",
            "624\n",
            "3\n"
          ],
          "name": "stdout"
        }
      ]
    },
    {
      "cell_type": "markdown",
      "metadata": {
        "id": "dDriUNRThyQF"
      },
      "source": [
        "# Part 6: Numpy model"
      ]
    },
    {
      "cell_type": "code",
      "metadata": {
        "id": "ZgbtLHSRh3Pd"
      },
      "source": [
        "conv1_weights = net_quantized_with_bias.conv1.weight.data.cpu().numpy().astype(np.int8)\n",
        "conv1_biases = net_quantized_with_bias.conv1.bias.data.cpu().numpy().astype(np.int32)\n",
        "conv2_weights = net_quantized_with_bias.conv2.weight.data.cpu().numpy().astype(np.int8)\n",
        "conv2_biases = net_quantized_with_bias.conv2.bias.data.cpu().numpy().astype(np.int32)\n",
        "fc1_weights = net_quantized_with_bias.fc1.weight.data.cpu().numpy().astype(np.int8)\n",
        "fc1_biases = net_quantized_with_bias.fc1.bias.data.cpu().numpy().astype(np.int32)\n",
        "\n",
        "# transpose the weights so that they match the numpy model\n",
        "conv1_weights = np.transpose(conv1_weights, (2, 1, 0))\n",
        "conv2_weights = np.transpose(conv2_weights, (2, 1, 0))\n",
        "#fc1_weights = np.transpose(fc1_weights, (1, 0))  # works if x is transposed\n",
        "fc1_weights = np.transpose(fc1_weights.reshape(3, 16, 13), (0, 2, 1)).reshape(3, 208).T\n",
        "\n",
        "# get the featuremap scalings\n",
        "input_scale = net_quantized_with_bias.input_scale\n",
        "conv1_output_scale = net_quantized_with_bias.conv1.output_scale\n",
        "conv2_output_scale = net_quantized_with_bias.conv2.output_scale\n",
        "fc1_output_scale = net_quantized_with_bias.fc1.output_scale\n",
        "\n",
        "# bitshifts is the amount that each featuremap is shifted to the right eg: 8 would be a divide by 256\n",
        "bitshifts = -np.log2(np.array([conv1_output_scale, conv2_output_scale, fc1_output_scale])).astype(np.int8)\n",
        "\n",
        "input_scale_arr = np.array(input_scale)  # single element array for input featuremap scaling\n",
        "\n",
        "weights_list = [input_scale_arr, bitshifts,\n",
        "                conv1_weights, conv1_biases,\n",
        "                conv2_weights, conv2_biases,\n",
        "                fc1_weights, fc1_biases]\n",
        "np.savez('parameters_quantized.npz', *weights_list)"
      ],
      "execution_count": 100,
      "outputs": []
    },
    {
      "cell_type": "code",
      "metadata": {
        "colab": {
          "base_uri": "https://localhost:8080/"
        },
        "id": "FIeMZLeW7Fer",
        "outputId": "0ea96a65-20ba-4ae8-f29c-05d9c7e2e597"
      },
      "source": [
        "weights_archive = np.load('parameters_quantized.npz')\n",
        "weights_list = [weights_archive['arr_{}'.format(i)] for i in range(len(weights_archive))]\n",
        "\n",
        "for weights in weights_list:\n",
        "    print(weights.shape)\n",
        "\n",
        "input_scale = weights_list[0]\n",
        "bitshifts = weights_list[1]\n",
        "conv1_weights = weights_list[2]\n",
        "conv1_biases = weights_list[3]\n",
        "conv2_weights = weights_list[4]\n",
        "conv2_biases = weights_list[5]\n",
        "fc1_weights = weights_list[6]\n",
        "fc1_biases = weights_list[7]"
      ],
      "execution_count": 101,
      "outputs": [
        {
          "output_type": "stream",
          "text": [
            "()\n",
            "(3,)\n",
            "(3, 13, 8)\n",
            "(8,)\n",
            "(3, 8, 16)\n",
            "(16,)\n",
            "(208, 3)\n",
            "(3,)\n"
          ],
          "name": "stdout"
        }
      ]
    },
    {
      "cell_type": "code",
      "metadata": {
        "id": "Dyl-WV3OiRpP"
      },
      "source": [
        "def relu(x):\n",
        "    return np.maximum(x, 0)\n",
        "\n",
        "def conv1d_single_kernel(x, weights, bias):\n",
        "    '''Perform convolution of a input feature map with a single filter and bias.\n",
        "    \n",
        "    featuremap dims are (time, n_coeffs), so (50, 13)\n",
        "    '''\n",
        "    out = np.zeros(x.shape[0], dtype=np.int64)  # output length is the same\n",
        "    x_pad = np.zeros((x.shape[0]+2, x.shape[1]), dtype=np.int64)\n",
        "    x_pad[1:-1,:] = x  # zero padding\n",
        "    for i in range(x.shape[0]):\n",
        "        section = x_pad[i:i+3,:]\n",
        "        out[i] = relu(np.sum(section * weights) + bias)\n",
        "    return out\n",
        "\n",
        "def conv1d_multi_kernel(x, weights, biases):\n",
        "    n_kernels = weights.shape[2]\n",
        "    out = np.zeros((x.shape[0], n_kernels), dtype=np.int64)\n",
        "    for i in range(n_kernels):\n",
        "        kernel = weights[:,:,i]\n",
        "        out[:,i] = conv1d_single_kernel(x, kernel, biases[i])\n",
        "    return out\n",
        "\n",
        "def max_pool_1d(x):\n",
        "    out = np.zeros((int(np.ceil(x.shape[0] / 2)), x.shape[1]), dtype=np.int8)\n",
        "    for j in range(x.shape[1]):\n",
        "        for i in range(int(np.floor(x.shape[0] / 2))):\n",
        "            out[i, j] = np.maximum(x[2*i, j], x[2*i+1, j])\n",
        "        if (x.shape[0] % 2 == 1):\n",
        "            out[-1, j] = x[-1, j]\n",
        "    return out\n",
        "\n",
        "def fc(x, weights, biases):\n",
        "    x = x.flatten()\n",
        "    out = np.matmul(x, weights, dtype=np.int64) + biases\n",
        "    return out\n",
        "\n",
        "def scale_feature_map(x, shift):\n",
        "    '''Scale a featuremap to a byte range given the amount to right shift by.\n",
        "\n",
        "    Since all weight, bias, and activation quantizations are mapped using the full range\n",
        "    of values, there is not any need for clamping the values to the range [-128, 127].\n",
        "    However, it is still useful since the quantization could be changed to not map to the\n",
        "    full range of the unquantized values.\n",
        "    '''\n",
        "    x = np.right_shift(x, shift)\n",
        "    x = np.clip(x, -128, 127)\n",
        "    x = x.astype(np.int8)\n",
        "    return x\n",
        "\n",
        "def get_numpy_pred(features):\n",
        "    out = np.zeros((features.shape[0], 3), dtype=np.int64)\n",
        "    for i in range(features.shape[0]):\n",
        "        # condition input feature map\n",
        "        x = features[i]\n",
        "        x = x.reshape((int(x.size / 13), 13))\n",
        "        x = np.clip(np.round(x * input_scale), -128, 127).astype(np.int8)\n",
        "\n",
        "        # conv1\n",
        "        x = conv1d_multi_kernel(x, conv1_weights, conv1_biases)\n",
        "        x = scale_feature_map(x, bitshifts[0])\n",
        "        x = max_pool_1d(x)\n",
        "\n",
        "        # conv2\n",
        "        x = conv1d_multi_kernel(x, conv2_weights, conv2_biases)\n",
        "        x = scale_feature_map(x, bitshifts[1])\n",
        "        x = max_pool_1d(x)\n",
        "\n",
        "        # fc1\n",
        "        x = fc(x, fc1_weights, fc1_biases)\n",
        "        \n",
        "        out[i] = x\n",
        "    return out"
      ],
      "execution_count": 107,
      "outputs": []
    },
    {
      "cell_type": "code",
      "metadata": {
        "colab": {
          "base_uri": "https://localhost:8080/"
        },
        "id": "rxDv67ZHvR3n",
        "outputId": "6e36d3a4-e56b-4b7f-c7d6-6b339645f3e2"
      },
      "source": [
        "numpy_pred = get_numpy_pred(X[:1,:])\n",
        "numpy_pred.shape"
      ],
      "execution_count": 118,
      "outputs": [
        {
          "output_type": "execute_result",
          "data": {
            "text/plain": [
              "(1, 3)"
            ]
          },
          "metadata": {
            "tags": []
          },
          "execution_count": 118
        }
      ]
    },
    {
      "cell_type": "code",
      "metadata": {
        "colab": {
          "base_uri": "https://localhost:8080/"
        },
        "id": "PkgYmJvV7_Fa",
        "outputId": "522b7e15-af23-4275-8c04-9f6597bb3b45"
      },
      "source": [
        "def get_torch_pred(input):\n",
        "    return net_quantized_with_bias.forward(torch.tensor(input, device=device)).detach().cpu().numpy()\n",
        "\n",
        "torch_pred = get_torch_pred(X[:1,:])\n",
        "torch_pred.shape"
      ],
      "execution_count": 119,
      "outputs": [
        {
          "output_type": "execute_result",
          "data": {
            "text/plain": [
              "(1, 3)"
            ]
          },
          "metadata": {
            "tags": []
          },
          "execution_count": 119
        }
      ]
    },
    {
      "cell_type": "code",
      "metadata": {
        "colab": {
          "base_uri": "https://localhost:8080/"
        },
        "id": "HQPCZMWDRTGi",
        "outputId": "319da265-3453-44a7-ed87-00c419186c27"
      },
      "source": [
        "numpy_pred - torch_pred"
      ],
      "execution_count": 120,
      "outputs": [
        {
          "output_type": "execute_result",
          "data": {
            "text/plain": [
              "array([[0., 0., 0.]])"
            ]
          },
          "metadata": {
            "tags": []
          },
          "execution_count": 120
        }
      ]
    },
    {
      "cell_type": "code",
      "metadata": {
        "colab": {
          "base_uri": "https://localhost:8080/"
        },
        "id": "Rr6r5V359-4s",
        "outputId": "07f3c2b5-a2ce-405a-87f8-0ac8cd31843c"
      },
      "source": [
        "# compare output for each sample in test data\n",
        "\n",
        "n_err = 0\n",
        "for i in range(Xtest.shape[0]):\n",
        "    numpy_pred = get_numpy_pred(X[i:i+1, :])\n",
        "    torch_pred = get_torch_pred(X[i:i+1, :])\n",
        "    diff = numpy_pred - torch_pred\n",
        "    if np.abs(diff).max() > 1e-9:\n",
        "        n_err += 1\n",
        "        print('Difference between outputs at sample ', i)\n",
        "    if n_err > 10:\n",
        "        break\n",
        "\n",
        "print('No differences between numpy model and torch model!')"
      ],
      "execution_count": 122,
      "outputs": [
        {
          "output_type": "stream",
          "text": [
            "No differences between numpy model and torch model!\n"
          ],
          "name": "stdout"
        }
      ]
    },
    {
      "cell_type": "code",
      "metadata": {
        "id": "36Tsq1QbEyqA"
      },
      "source": [
        ""
      ],
      "execution_count": 114,
      "outputs": []
    },
    {
      "cell_type": "code",
      "metadata": {
        "id": "7yXTLUELLMex"
      },
      "source": [
        ""
      ],
      "execution_count": null,
      "outputs": []
    }
  ]
}